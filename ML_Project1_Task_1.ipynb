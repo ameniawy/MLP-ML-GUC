{
 "cells": [
  {
   "cell_type": "markdown",
   "metadata": {},
   "source": [
    "# Task 1"
   ]
  },
  {
   "cell_type": "markdown",
   "metadata": {},
   "source": [
    "### Imports"
   ]
  },
  {
   "cell_type": "code",
   "execution_count": 16,
   "metadata": {},
   "outputs": [],
   "source": [
    "import pandas as pd\n",
    "import numpy as np\n",
    "from sklearn.neural_network import MLPRegressor\n",
    "from sklearn.model_selection import GridSearchCV\n",
    "from sklearn.metrics import accuracy_score, mean_squared_error\n",
    "from sklearn.model_selection import train_test_split\n",
    "from sklearn.model_selection import cross_val_score\n",
    "from sklearn import preprocessing\n",
    "import matplotlib.pyplot as plt"
   ]
  },
  {
   "cell_type": "markdown",
   "metadata": {},
   "source": [
    "#### 1) Build colleration matrix and filter results with corellation > 95 or < -.95"
   ]
  },
  {
   "cell_type": "code",
   "execution_count": 4,
   "metadata": {},
   "outputs": [
    {
     "name": "stdout",
     "output_type": "stream",
     "text": [
      "Total number of companies staisfying the correlation threshold:  72\n"
     ]
    }
   ],
   "source": [
    "df = pd.read_csv('sp500_27270.csv')\n",
    "\n",
    "# compute correlations\n",
    "corr = df.corr()\n",
    "filtered_companies = [company for company in corr['SP500'].keys() if corr['SP500'][company] > 0.95 or corr['SP500'][company] < -0.95]\n",
    "\n",
    "# select only the most corrleated companies\n",
    "df_filtered = df.filter(filtered_companies)\n",
    "\n",
    "print(\"Total number of companies staisfying the correlation threshold: \", len(filtered_companies))\n"
   ]
  },
  {
   "cell_type": "markdown",
   "metadata": {},
   "source": [
    "#### 2) Split dataset to training and testing"
   ]
  },
  {
   "cell_type": "code",
   "execution_count": 76,
   "metadata": {},
   "outputs": [
    {
     "name": "stdout",
     "output_type": "stream",
     "text": [
      "Training chunk length:  1008\n",
      "Testing chunk length:  252\n"
     ]
    }
   ],
   "source": [
    "TRAINING_PERCENTAGE = 0.8\n",
    "TESTING_PERCENTAGE = 0.2\n",
    "# VALIDATION_PERCENTAGE = 0.5 \n",
    "\n",
    "train, test = train_test_split(df_filtered, test_size=TESTING_PERCENTAGE)\n",
    "\n",
    "Y_train = list(train['SP500'])\n",
    "X_train = train.drop(columns=['SP500'])\n",
    "Y_test = list(test['SP500'])\n",
    "X_test = test.drop(columns=['SP500'])\n",
    "\n",
    "X_scaled = preprocessing.scale(df_filtered.drop(columns=['SP500']))\n",
    "Y_scaled = preprocessing.scale(df_filtered['SP500'])\n",
    "X_data = np.array(X_scaled)\n",
    "Y_data = np.array(Y_scaled)\n",
    "\n",
    "X_train, X_test, Y_train, Y_test = train_test_split(X_data, Y_data, test_size=TESTING_PERCENTAGE)\n",
    "\n",
    "\n",
    "print(\"Training chunk length: \", len(train))\n",
    "print(\"Testing chunk length: \", len(test))"
   ]
  },
  {
   "cell_type": "markdown",
   "metadata": {},
   "source": [
    "#### 3) Choose scoring metric "
   ]
  },
  {
   "cell_type": "code",
   "execution_count": 19,
   "metadata": {},
   "outputs": [],
   "source": [
    "# We chose MSE since it's a regression problem\n",
    "scoring_metric = \"neg_mean_squared_error\""
   ]
  },
  {
   "cell_type": "markdown",
   "metadata": {},
   "source": [
    "#### 4) Train the neural network with both the sgd and adam optimizer"
   ]
  },
  {
   "cell_type": "code",
   "execution_count": 66,
   "metadata": {},
   "outputs": [
    {
     "name": "stdout",
     "output_type": "stream",
     "text": [
      "\n",
      "-------------------------Adam-----------------------\n",
      "\n",
      "\n",
      "Score:  0.7981178483209485\n",
      "MSE:  0.17301200964936214\n",
      "\n",
      "Score ADAM with constant learning rate of 0.05:  0.9948724423961882\n",
      "MSE:  0.004394291611467922\n",
      "\n",
      "Accuracy:  0.9784382414487001\n",
      "MSE:  0.018478320879328127\n",
      "\n",
      "Concluding learning rate:  0.05  is best\n"
     ]
    }
   ],
   "source": [
    "print(\"\\n-------------------------Adam-----------------------\\n\")\n",
    "\n",
    "model = MLPRegressor(early_stopping=True, max_iter=10000, random_state=1, learning_rate_init=0.01, learning_rate='adaptive', solver='adam')\n",
    "model.fit(X_train, Y_train)\n",
    "y_predictions = model.predict(X_test)\n",
    "score = model.score(X_test, Y_test)\n",
    "print(\"\\nScore: \", score)\n",
    "MSE = mean_squared_error(Y_test, y_predictions)\n",
    "print(\"MSE: \", MSE)\n",
    "\n",
    "model = MLPRegressor(early_stopping=True, max_iter=10000, hidden_layer_sizes=(100,), random_state=1, learning_rate_init=0.001, learning_rate='adaptive', solver='adam')\n",
    "model.fit(X_train, Y_train)\n",
    "y_predictions = model.predict(X_test)\n",
    "score = model.score(X_test, Y_test)\n",
    "print(\"\\nScore ADAM with constant learning rate of 0.05: \", score)\n",
    "MSE = mean_squared_error(Y_test, y_predictions)\n",
    "print(\"MSE: \", MSE)\n",
    "\n",
    "model = MLPRegressor(early_stopping=True, max_iter=10000, hidden_layer_sizes=(1024,2), random_state=1, learning_rate_init=0.01, learning_rate='adaptive', solver='adam')\n",
    "model.fit(X_train, Y_train)\n",
    "y_predictions = model.predict(X_test)\n",
    "score = model.score(X_test, Y_test)\n",
    "print(\"\\nAccuracy: \", score)\n",
    "MSE = mean_squared_error(Y_test, y_predictions)\n",
    "print(\"MSE: \", MSE)\n",
    "\n",
    "print(\"\\nConcluding learning rate: \", 0.05, \" is best\")\n",
    "\n"
   ]
  },
  {
   "cell_type": "code",
   "execution_count": 78,
   "metadata": {},
   "outputs": [
    {
     "name": "stdout",
     "output_type": "stream",
     "text": [
      "\n",
      "-------------------------SGD-----------------------\n",
      "\n",
      "R2 Score:  0.982642314424149\n",
      "MSE:  0.015117479259980556\n",
      "\n",
      "Score:  0.9863012355135566\n",
      "MSE:  0.011930783462242257\n",
      "\n",
      "Accuracy:  0.9863012355135566\n",
      "MSE:  0.011930783462242257\n",
      "\n",
      "Concluding SGD is worse in general\n"
     ]
    }
   ],
   "source": [
    "print(\"\\n-------------------------SGD-----------------------\\n\")\n",
    "\n",
    "model = MLPRegressor(early_stopping=True, hidden_layer_sizes=(1024,2), max_iter=10000, random_state=1, learning_rate_init=0.01, learning_rate='adaptive', solver='sgd')\n",
    "model.fit(X_train, Y_train)\n",
    "y_predictions = model.predict(X_test)\n",
    "score = model.score(X_test, Y_test)\n",
    "print(\"R2 Score: \", score)\n",
    "MSE = mean_squared_error(Y_test, y_predictions)\n",
    "print(\"MSE: \", MSE)\n",
    "\n",
    "model = MLPRegressor(early_stopping=True, hidden_layer_sizes=(1024,4,2), random_state=1, learning_rate_init=0.001, learning_rate='adaptive', solver='sgd')\n",
    "model.fit(X_train, Y_train)\n",
    "y_predictions = model.predict(X_test)\n",
    "score = model.score(X_test, Y_test)\n",
    "print(\"\\nScore: \", score)\n",
    "MSE = mean_squared_error(Y_test, y_predictions)\n",
    "print(\"MSE: \", MSE)\n",
    "\n",
    "model = MLPRegressor(early_stopping=True, max_iter=10000, hidden_layer_sizes=(1024,4,2), random_state=1, learning_rate_init=0.001, learning_rate='adaptive', solver='sgd')\n",
    "model.fit(X_train, Y_train)\n",
    "y_predictions = model.predict(X_test)\n",
    "score = model.score(X_test, Y_test)\n",
    "print(\"\\nAccuracy: \", score)\n",
    "MSE = mean_squared_error(Y_test, y_predictions)\n",
    "print(\"MSE: \", MSE)\n",
    "\n",
    "print(\"\\nConcluding SGD is worse in general\")\n"
   ]
  },
  {
   "cell_type": "code",
   "execution_count": 79,
   "metadata": {},
   "outputs": [
    {
     "name": "stdout",
     "output_type": "stream",
     "text": [
      "\n",
      "Using grid search to find the best params: \n",
      "\n",
      "Fitting 3 folds for each of 16 candidates, totalling 48 fits\n",
      "[CV] hidden_layer_sizes=(1024, 2), learning_rate=adaptive, learning_rate_init=0.05, solver=sgd \n",
      "[CV]  hidden_layer_sizes=(1024, 2), learning_rate=adaptive, learning_rate_init=0.05, solver=sgd, score=-0.17304041509987145, total=   0.6s\n",
      "[CV] hidden_layer_sizes=(1024, 2), learning_rate=adaptive, learning_rate_init=0.05, solver=sgd \n"
     ]
    },
    {
     "name": "stderr",
     "output_type": "stream",
     "text": [
      "[Parallel(n_jobs=1)]: Done   1 out of   1 | elapsed:    0.6s remaining:    0.0s\n"
     ]
    },
    {
     "name": "stdout",
     "output_type": "stream",
     "text": [
      "[CV]  hidden_layer_sizes=(1024, 2), learning_rate=adaptive, learning_rate_init=0.05, solver=sgd, score=-0.12592144605551708, total=   0.9s\n",
      "[CV] hidden_layer_sizes=(1024, 2), learning_rate=adaptive, learning_rate_init=0.05, solver=sgd \n"
     ]
    },
    {
     "name": "stderr",
     "output_type": "stream",
     "text": [
      "[Parallel(n_jobs=1)]: Done   2 out of   2 | elapsed:    1.5s remaining:    0.0s\n"
     ]
    },
    {
     "name": "stdout",
     "output_type": "stream",
     "text": [
      "[CV]  hidden_layer_sizes=(1024, 2), learning_rate=adaptive, learning_rate_init=0.05, solver=sgd, score=-0.1267950534076021, total=   2.4s\n",
      "[CV] hidden_layer_sizes=(1024, 2), learning_rate=adaptive, learning_rate_init=0.05, solver=adam \n",
      "[CV]  hidden_layer_sizes=(1024, 2), learning_rate=adaptive, learning_rate_init=0.05, solver=adam, score=-1.0625435409581026, total=   0.1s\n",
      "[CV] hidden_layer_sizes=(1024, 2), learning_rate=adaptive, learning_rate_init=0.05, solver=adam \n"
     ]
    },
    {
     "name": "stderr",
     "output_type": "stream",
     "text": [
      "[Parallel(n_jobs=1)]: Done   3 out of   3 | elapsed:    4.0s remaining:    0.0s\n",
      "[Parallel(n_jobs=1)]: Done   4 out of   4 | elapsed:    4.1s remaining:    0.0s\n"
     ]
    },
    {
     "name": "stdout",
     "output_type": "stream",
     "text": [
      "[CV]  hidden_layer_sizes=(1024, 2), learning_rate=adaptive, learning_rate_init=0.05, solver=adam, score=-1.0641840218891927, total=   0.2s\n",
      "[CV] hidden_layer_sizes=(1024, 2), learning_rate=adaptive, learning_rate_init=0.05, solver=adam \n",
      "[CV]  hidden_layer_sizes=(1024, 2), learning_rate=adaptive, learning_rate_init=0.05, solver=adam, score=-0.9535758676494582, total=   0.1s\n",
      "[CV] hidden_layer_sizes=(1024, 2), learning_rate=adaptive, learning_rate_init=0.001, solver=sgd \n"
     ]
    },
    {
     "name": "stderr",
     "output_type": "stream",
     "text": [
      "[Parallel(n_jobs=1)]: Done   5 out of   5 | elapsed:    4.3s remaining:    0.0s\n",
      "[Parallel(n_jobs=1)]: Done   6 out of   6 | elapsed:    4.4s remaining:    0.0s\n"
     ]
    },
    {
     "name": "stdout",
     "output_type": "stream",
     "text": [
      "[CV]  hidden_layer_sizes=(1024, 2), learning_rate=adaptive, learning_rate_init=0.001, solver=sgd, score=-0.041181468065811584, total=   6.4s\n",
      "[CV] hidden_layer_sizes=(1024, 2), learning_rate=adaptive, learning_rate_init=0.001, solver=sgd \n"
     ]
    },
    {
     "name": "stderr",
     "output_type": "stream",
     "text": [
      "[Parallel(n_jobs=1)]: Done   7 out of   7 | elapsed:   10.8s remaining:    0.0s\n"
     ]
    },
    {
     "name": "stdout",
     "output_type": "stream",
     "text": [
      "[CV]  hidden_layer_sizes=(1024, 2), learning_rate=adaptive, learning_rate_init=0.001, solver=sgd, score=-0.030292695190928396, total=   6.6s\n",
      "[CV] hidden_layer_sizes=(1024, 2), learning_rate=adaptive, learning_rate_init=0.001, solver=sgd \n"
     ]
    },
    {
     "name": "stderr",
     "output_type": "stream",
     "text": [
      "[Parallel(n_jobs=1)]: Done   8 out of   8 | elapsed:   17.5s remaining:    0.0s\n"
     ]
    },
    {
     "name": "stdout",
     "output_type": "stream",
     "text": [
      "[CV]  hidden_layer_sizes=(1024, 2), learning_rate=adaptive, learning_rate_init=0.001, solver=sgd, score=-0.033249384266852866, total=   5.9s\n",
      "[CV] hidden_layer_sizes=(1024, 2), learning_rate=adaptive, learning_rate_init=0.001, solver=adam \n"
     ]
    },
    {
     "name": "stderr",
     "output_type": "stream",
     "text": [
      "[Parallel(n_jobs=1)]: Done   9 out of   9 | elapsed:   23.3s remaining:    0.0s\n"
     ]
    },
    {
     "name": "stdout",
     "output_type": "stream",
     "text": [
      "[CV]  hidden_layer_sizes=(1024, 2), learning_rate=adaptive, learning_rate_init=0.001, solver=adam, score=-0.2961572096760093, total=   7.3s\n",
      "[CV] hidden_layer_sizes=(1024, 2), learning_rate=adaptive, learning_rate_init=0.001, solver=adam \n"
     ]
    },
    {
     "name": "stderr",
     "output_type": "stream",
     "text": [
      "[Parallel(n_jobs=1)]: Done  10 out of  10 | elapsed:   30.7s remaining:    0.0s\n"
     ]
    },
    {
     "name": "stdout",
     "output_type": "stream",
     "text": [
      "[CV]  hidden_layer_sizes=(1024, 2), learning_rate=adaptive, learning_rate_init=0.001, solver=adam, score=-1.091204299296706, total=   4.3s\n",
      "[CV] hidden_layer_sizes=(1024, 2), learning_rate=adaptive, learning_rate_init=0.001, solver=adam \n"
     ]
    },
    {
     "name": "stderr",
     "output_type": "stream",
     "text": [
      "[Parallel(n_jobs=1)]: Done  11 out of  11 | elapsed:   35.0s remaining:    0.0s\n"
     ]
    },
    {
     "name": "stdout",
     "output_type": "stream",
     "text": [
      "[CV]  hidden_layer_sizes=(1024, 2), learning_rate=adaptive, learning_rate_init=0.001, solver=adam, score=-0.8121199715052283, total=   1.7s\n",
      "[CV] hidden_layer_sizes=(1024, 2), learning_rate=constant, learning_rate_init=0.05, solver=sgd \n"
     ]
    },
    {
     "name": "stderr",
     "output_type": "stream",
     "text": [
      "[Parallel(n_jobs=1)]: Done  12 out of  12 | elapsed:   36.7s remaining:    0.0s\n"
     ]
    },
    {
     "name": "stdout",
     "output_type": "stream",
     "text": [
      "[CV]  hidden_layer_sizes=(1024, 2), learning_rate=constant, learning_rate_init=0.05, solver=sgd, score=-0.17304041509987145, total=   0.2s\n",
      "[CV] hidden_layer_sizes=(1024, 2), learning_rate=constant, learning_rate_init=0.05, solver=sgd \n"
     ]
    },
    {
     "name": "stderr",
     "output_type": "stream",
     "text": [
      "[Parallel(n_jobs=1)]: Done  13 out of  13 | elapsed:   36.9s remaining:    0.0s\n"
     ]
    },
    {
     "name": "stdout",
     "output_type": "stream",
     "text": [
      "[CV]  hidden_layer_sizes=(1024, 2), learning_rate=constant, learning_rate_init=0.05, solver=sgd, score=-0.13673649050763834, total=   0.4s\n",
      "[CV] hidden_layer_sizes=(1024, 2), learning_rate=constant, learning_rate_init=0.05, solver=sgd \n",
      "[CV]  hidden_layer_sizes=(1024, 2), learning_rate=constant, learning_rate_init=0.05, solver=sgd, score=-0.35974647870140525, total=   0.1s\n",
      "[CV] hidden_layer_sizes=(1024, 2), learning_rate=constant, learning_rate_init=0.05, solver=adam \n"
     ]
    },
    {
     "name": "stderr",
     "output_type": "stream",
     "text": [
      "[Parallel(n_jobs=1)]: Done  14 out of  14 | elapsed:   37.3s remaining:    0.0s\n",
      "[Parallel(n_jobs=1)]: Done  15 out of  15 | elapsed:   37.4s remaining:    0.0s\n"
     ]
    },
    {
     "name": "stdout",
     "output_type": "stream",
     "text": [
      "[CV]  hidden_layer_sizes=(1024, 2), learning_rate=constant, learning_rate_init=0.05, solver=adam, score=-1.0625435409581026, total=   0.1s\n",
      "[CV] hidden_layer_sizes=(1024, 2), learning_rate=constant, learning_rate_init=0.05, solver=adam \n"
     ]
    },
    {
     "name": "stderr",
     "output_type": "stream",
     "text": [
      "[Parallel(n_jobs=1)]: Done  16 out of  16 | elapsed:   37.5s remaining:    0.0s\n"
     ]
    },
    {
     "name": "stdout",
     "output_type": "stream",
     "text": [
      "[CV]  hidden_layer_sizes=(1024, 2), learning_rate=constant, learning_rate_init=0.05, solver=adam, score=-1.0641840218891927, total=   0.2s\n",
      "[CV] hidden_layer_sizes=(1024, 2), learning_rate=constant, learning_rate_init=0.05, solver=adam \n",
      "[CV]  hidden_layer_sizes=(1024, 2), learning_rate=constant, learning_rate_init=0.05, solver=adam, score=-0.9535758676494582, total=   0.1s\n",
      "[CV] hidden_layer_sizes=(1024, 2), learning_rate=constant, learning_rate_init=0.001, solver=sgd \n"
     ]
    },
    {
     "name": "stderr",
     "output_type": "stream",
     "text": [
      "[Parallel(n_jobs=1)]: Done  17 out of  17 | elapsed:   37.8s remaining:    0.0s\n",
      "[Parallel(n_jobs=1)]: Done  18 out of  18 | elapsed:   37.9s remaining:    0.0s\n"
     ]
    },
    {
     "name": "stdout",
     "output_type": "stream",
     "text": [
      "[CV]  hidden_layer_sizes=(1024, 2), learning_rate=constant, learning_rate_init=0.001, solver=sgd, score=-0.04277170521820366, total=   6.4s\n",
      "[CV] hidden_layer_sizes=(1024, 2), learning_rate=constant, learning_rate_init=0.001, solver=sgd \n"
     ]
    },
    {
     "name": "stderr",
     "output_type": "stream",
     "text": [
      "[Parallel(n_jobs=1)]: Done  19 out of  19 | elapsed:   44.3s remaining:    0.0s\n"
     ]
    },
    {
     "name": "stdout",
     "output_type": "stream",
     "text": [
      "[CV]  hidden_layer_sizes=(1024, 2), learning_rate=constant, learning_rate_init=0.001, solver=sgd, score=-0.03151151801311758, total=   6.6s\n",
      "[CV] hidden_layer_sizes=(1024, 2), learning_rate=constant, learning_rate_init=0.001, solver=sgd \n",
      "[CV]  hidden_layer_sizes=(1024, 2), learning_rate=constant, learning_rate_init=0.001, solver=sgd, score=-0.033249384266852866, total=   6.0s\n",
      "[CV] hidden_layer_sizes=(1024, 2), learning_rate=constant, learning_rate_init=0.001, solver=adam \n",
      "[CV]  hidden_layer_sizes=(1024, 2), learning_rate=constant, learning_rate_init=0.001, solver=adam, score=-0.2961572096760093, total=   8.1s\n",
      "[CV] hidden_layer_sizes=(1024, 2), learning_rate=constant, learning_rate_init=0.001, solver=adam \n",
      "[CV]  hidden_layer_sizes=(1024, 2), learning_rate=constant, learning_rate_init=0.001, solver=adam, score=-1.091204299296706, total=   4.9s\n",
      "[CV] hidden_layer_sizes=(1024, 2), learning_rate=constant, learning_rate_init=0.001, solver=adam \n",
      "[CV]  hidden_layer_sizes=(1024, 2), learning_rate=constant, learning_rate_init=0.001, solver=adam, score=-0.8121199715052283, total=   1.9s\n",
      "[CV] hidden_layer_sizes=(1024, 4, 2), learning_rate=adaptive, learning_rate_init=0.05, solver=sgd \n",
      "[CV]  hidden_layer_sizes=(1024, 4, 2), learning_rate=adaptive, learning_rate_init=0.05, solver=sgd, score=-0.011778519414042003, total=   1.0s\n",
      "[CV] hidden_layer_sizes=(1024, 4, 2), learning_rate=adaptive, learning_rate_init=0.05, solver=sgd \n",
      "[CV]  hidden_layer_sizes=(1024, 4, 2), learning_rate=adaptive, learning_rate_init=0.05, solver=sgd, score=-0.008082260980709487, total=   0.9s\n",
      "[CV] hidden_layer_sizes=(1024, 4, 2), learning_rate=adaptive, learning_rate_init=0.05, solver=sgd \n",
      "[CV]  hidden_layer_sizes=(1024, 4, 2), learning_rate=adaptive, learning_rate_init=0.05, solver=sgd, score=-0.023201551916483987, total=   0.8s\n",
      "[CV] hidden_layer_sizes=(1024, 4, 2), learning_rate=adaptive, learning_rate_init=0.05, solver=adam \n",
      "[CV]  hidden_layer_sizes=(1024, 4, 2), learning_rate=adaptive, learning_rate_init=0.05, solver=adam, score=-1.1702310426758322, total=   0.1s\n",
      "[CV] hidden_layer_sizes=(1024, 4, 2), learning_rate=adaptive, learning_rate_init=0.05, solver=adam \n",
      "[CV]  hidden_layer_sizes=(1024, 4, 2), learning_rate=adaptive, learning_rate_init=0.05, solver=adam, score=-1.152017317421775, total=   0.1s\n",
      "[CV] hidden_layer_sizes=(1024, 4, 2), learning_rate=adaptive, learning_rate_init=0.05, solver=adam \n",
      "[CV]  hidden_layer_sizes=(1024, 4, 2), learning_rate=adaptive, learning_rate_init=0.05, solver=adam, score=-0.9678611914970967, total=   0.1s\n",
      "[CV] hidden_layer_sizes=(1024, 4, 2), learning_rate=adaptive, learning_rate_init=0.001, solver=sgd \n",
      "[CV]  hidden_layer_sizes=(1024, 4, 2), learning_rate=adaptive, learning_rate_init=0.001, solver=sgd, score=-0.01803966534889048, total=   1.9s\n",
      "[CV] hidden_layer_sizes=(1024, 4, 2), learning_rate=adaptive, learning_rate_init=0.001, solver=sgd \n",
      "[CV]  hidden_layer_sizes=(1024, 4, 2), learning_rate=adaptive, learning_rate_init=0.001, solver=sgd, score=-0.017529464195760503, total=   1.8s\n",
      "[CV] hidden_layer_sizes=(1024, 4, 2), learning_rate=adaptive, learning_rate_init=0.001, solver=sgd \n",
      "[CV]  hidden_layer_sizes=(1024, 4, 2), learning_rate=adaptive, learning_rate_init=0.001, solver=sgd, score=-0.01992473695155009, total=   1.2s\n",
      "[CV] hidden_layer_sizes=(1024, 4, 2), learning_rate=adaptive, learning_rate_init=0.001, solver=adam \n",
      "[CV]  hidden_layer_sizes=(1024, 4, 2), learning_rate=adaptive, learning_rate_init=0.001, solver=adam, score=-0.005047835469822358, total=   0.5s\n",
      "[CV] hidden_layer_sizes=(1024, 4, 2), learning_rate=adaptive, learning_rate_init=0.001, solver=adam \n",
      "[CV]  hidden_layer_sizes=(1024, 4, 2), learning_rate=adaptive, learning_rate_init=0.001, solver=adam, score=-0.010995306449899874, total=   0.3s\n",
      "[CV] hidden_layer_sizes=(1024, 4, 2), learning_rate=adaptive, learning_rate_init=0.001, solver=adam \n",
      "[CV]  hidden_layer_sizes=(1024, 4, 2), learning_rate=adaptive, learning_rate_init=0.001, solver=adam, score=-0.011394777881316022, total=   0.2s\n",
      "[CV] hidden_layer_sizes=(1024, 4, 2), learning_rate=constant, learning_rate_init=0.05, solver=sgd \n",
      "[CV]  hidden_layer_sizes=(1024, 4, 2), learning_rate=constant, learning_rate_init=0.05, solver=sgd, score=-0.027266788599454778, total=   0.3s\n",
      "[CV] hidden_layer_sizes=(1024, 4, 2), learning_rate=constant, learning_rate_init=0.05, solver=sgd \n",
      "[CV]  hidden_layer_sizes=(1024, 4, 2), learning_rate=constant, learning_rate_init=0.05, solver=sgd, score=-0.01654245246234141, total=   0.4s\n",
      "[CV] hidden_layer_sizes=(1024, 4, 2), learning_rate=constant, learning_rate_init=0.05, solver=sgd \n",
      "[CV]  hidden_layer_sizes=(1024, 4, 2), learning_rate=constant, learning_rate_init=0.05, solver=sgd, score=-0.023201551916483987, total=   0.2s\n",
      "[CV] hidden_layer_sizes=(1024, 4, 2), learning_rate=constant, learning_rate_init=0.05, solver=adam \n",
      "[CV]  hidden_layer_sizes=(1024, 4, 2), learning_rate=constant, learning_rate_init=0.05, solver=adam, score=-1.1702310426758322, total=   0.1s\n",
      "[CV] hidden_layer_sizes=(1024, 4, 2), learning_rate=constant, learning_rate_init=0.05, solver=adam \n",
      "[CV]  hidden_layer_sizes=(1024, 4, 2), learning_rate=constant, learning_rate_init=0.05, solver=adam, score=-1.152017317421775, total=   0.1s\n",
      "[CV] hidden_layer_sizes=(1024, 4, 2), learning_rate=constant, learning_rate_init=0.05, solver=adam \n",
      "[CV]  hidden_layer_sizes=(1024, 4, 2), learning_rate=constant, learning_rate_init=0.05, solver=adam, score=-0.9678611914970967, total=   0.1s\n",
      "[CV] hidden_layer_sizes=(1024, 4, 2), learning_rate=constant, learning_rate_init=0.001, solver=sgd \n",
      "[CV]  hidden_layer_sizes=(1024, 4, 2), learning_rate=constant, learning_rate_init=0.001, solver=sgd, score=-0.01803966534889048, total=   1.5s\n",
      "[CV] hidden_layer_sizes=(1024, 4, 2), learning_rate=constant, learning_rate_init=0.001, solver=sgd \n",
      "[CV]  hidden_layer_sizes=(1024, 4, 2), learning_rate=constant, learning_rate_init=0.001, solver=sgd, score=-0.018558118685896567, total=   1.3s\n",
      "[CV] hidden_layer_sizes=(1024, 4, 2), learning_rate=constant, learning_rate_init=0.001, solver=sgd \n",
      "[CV]  hidden_layer_sizes=(1024, 4, 2), learning_rate=constant, learning_rate_init=0.001, solver=sgd, score=-0.021552886108463565, total=   0.8s\n",
      "[CV] hidden_layer_sizes=(1024, 4, 2), learning_rate=constant, learning_rate_init=0.001, solver=adam \n",
      "[CV]  hidden_layer_sizes=(1024, 4, 2), learning_rate=constant, learning_rate_init=0.001, solver=adam, score=-0.005047835469822358, total=   0.5s\n",
      "[CV] hidden_layer_sizes=(1024, 4, 2), learning_rate=constant, learning_rate_init=0.001, solver=adam \n",
      "[CV]  hidden_layer_sizes=(1024, 4, 2), learning_rate=constant, learning_rate_init=0.001, solver=adam, score=-0.010995306449899874, total=   0.3s\n",
      "[CV] hidden_layer_sizes=(1024, 4, 2), learning_rate=constant, learning_rate_init=0.001, solver=adam \n",
      "[CV]  hidden_layer_sizes=(1024, 4, 2), learning_rate=constant, learning_rate_init=0.001, solver=adam, score=-0.011394777881316022, total=   0.2s\n"
     ]
    },
    {
     "name": "stderr",
     "output_type": "stream",
     "text": [
      "[Parallel(n_jobs=1)]: Done  48 out of  48 | elapsed:  1.4min finished\n"
     ]
    },
    {
     "name": "stdout",
     "output_type": "stream",
     "text": [
      "{'hidden_layer_sizes': (1024, 4, 2), 'learning_rate': 'adaptive', 'learning_rate_init': 0.001, 'solver': 'adam'}\n",
      "Score:  -0.003033654010781954\n"
     ]
    }
   ],
   "source": [
    "param_grid = {'learning_rate' : ['adaptive', 'constant'],\n",
    "              'solver': ['sgd', 'adam'],\n",
    "              'learning_rate_init': [0.05, 0.001],\n",
    "              'hidden_layer_sizes': [(1024, 2), (1024, 4, 2)]\n",
    "             }\n",
    "\n",
    "\n",
    "print(\"\\nUsing grid search to find the best params: \\n\")\n",
    "gs = GridSearchCV(model, param_grid=param_grid, verbose=20, scoring=scoring_metric)\n",
    "gs.fit(X_train, Y_train)\n",
    "print(gs.best_params_)\n",
    "score = gs.score(X_test, Y_test)\n",
    "print(\"Score: \", score)\n",
    "\n"
   ]
  },
  {
   "cell_type": "code",
   "execution_count": 68,
   "metadata": {},
   "outputs": [
    {
     "name": "stdout",
     "output_type": "stream",
     "text": [
      "Finally using best params\n",
      "\n",
      "\n",
      "Accuracy:  0.9948724423961882\n",
      "MSE:  0.004394291611467922\n"
     ]
    }
   ],
   "source": [
    "print(\"Finally using best params\\n\")\n",
    "\n",
    "model = MLPRegressor(early_stopping=True, hidden_layer_sizes=(100,), random_state=1, learning_rate_init=0.001, learning_rate='adaptive', solver='adam')\n",
    "model.fit(X_train, Y_train)\n",
    "y_predictions = model.predict(X_test)\n",
    "score = model.score(X_test, Y_test)\n",
    "print(\"\\nAccuracy: \", score)\n",
    "MSE = mean_squared_error(Y_test, y_predictions)\n",
    "print(\"MSE: \", MSE)"
   ]
  },
  {
   "cell_type": "markdown",
   "metadata": {},
   "source": [
    "#### 5) Indicate which regularization technique you use to avoid overfitting."
   ]
  },
  {
   "cell_type": "markdown",
   "metadata": {},
   "source": [
    "We used early stopping to stop the the training when the validation error stops decreasing or the change is slow. Not stop might cause the validation error to increase."
   ]
  },
  {
   "cell_type": "markdown",
   "metadata": {},
   "source": [
    "#### 6) Which optimizer performs better in this task? Why?"
   ]
  },
  {
   "cell_type": "code",
   "execution_count": 71,
   "metadata": {},
   "outputs": [
    {
     "name": "stdout",
     "output_type": "stream",
     "text": [
      "Validation score:  [-0.0456431  -0.03811817 -0.03474598]\n"
     ]
    }
   ],
   "source": [
    "cross_score = cross_val_score(model, X_test, Y_test, scoring=scoring_metric)\n",
    "print(\"Validation score: \", cross_score)"
   ]
  },
  {
   "cell_type": "code",
   "execution_count": 72,
   "metadata": {},
   "outputs": [
    {
     "data": {
      "text/plain": [
       "-0.03950241972495707"
      ]
     },
     "execution_count": 72,
     "metadata": {},
     "output_type": "execute_result"
    }
   ],
   "source": [
    "cross_score.mean()"
   ]
  },
  {
   "cell_type": "markdown",
   "metadata": {},
   "source": [
    "Adam is the best optimizer because that's what the GridSearch tells us. overall, it has lowest training error/loss"
   ]
  },
  {
   "cell_type": "markdown",
   "metadata": {},
   "source": [
    "#### 7) Plotting predicted vs actual Y values"
   ]
  },
  {
   "cell_type": "code",
   "execution_count": 73,
   "metadata": {},
   "outputs": [
    {
     "data": {
      "image/png": "[encoded data removed]",
      "text/plain": [
       "<Figure size 432x288 with 1 Axes>"
      ]
     },
     "metadata": {
      "needs_background": "light"
     },
     "output_type": "display_data"
    }
   ],
   "source": [
    "fig = plt.figure()\n",
    "ax = fig.add_axes([1,0.1,0.8,0.8])\n",
    "ax.scatter(X_test[:,1], Y_test, c='r', label='Actual values')\n",
    "ax.scatter(X_test[:,1], y_predictions, c='b', label='Predicted values')\n",
    "\n",
    "ax.grid()\n",
    "ax.legend(loc='best')\n",
    "ax.set_xlabel('One of the companies')\n",
    "ax.set_ylabel('S&P')\n",
    "ax.set_title('S&P VS Company')\n",
    "\n",
    "plt.show()"
   ]
  },
  {
   "cell_type": "markdown",
   "metadata": {},
   "source": [
    "#### 8) Comment on the points where the prediction and true values mismatch most"
   ]
  },
  {
   "cell_type": "code",
   "execution_count": null,
   "metadata": {},
   "outputs": [],
   "source": []
  },
  {
   "cell_type": "code",
   "execution_count": null,
   "metadata": {},
   "outputs": [],
   "source": []
  },
  {
   "cell_type": "code",
   "execution_count": null,
   "metadata": {},
   "outputs": [],
   "source": []
  },
  {
   "cell_type": "markdown",
   "metadata": {},
   "source": [
    "# Task 2"
   ]
  },
  {
   "cell_type": "markdown",
   "metadata": {},
   "source": [
    "#### 1) get most correlated company"
   ]
  },
  {
   "cell_type": "code",
   "execution_count": 97,
   "metadata": {},
   "outputs": [
    {
     "name": "stdout",
     "output_type": "stream",
     "text": [
      "APH\n",
      "0.9883608178608217\n"
     ]
    }
   ],
   "source": [
    "max_corr = -100\n",
    "max_company = ''\n",
    "\n",
    "for i in corr['SP500'].keys():\n",
    "    if corr['SP500'][i] > max_corr and i != 'SP500':\n",
    "        max_corr = corr['SP500'][i]\n",
    "        max_company = i\n",
    "        \n",
    "        \n",
    "print(max_company)\n",
    "print(max_corr)\n",
    "\n",
    "max_company_data = df[max_company]\n",
    "# print(max_company_data)"
   ]
  },
  {
   "cell_type": "markdown",
   "metadata": {},
   "source": [
    "#### 2) prepare input and output data set of days using shifting"
   ]
  },
  {
   "cell_type": "code",
   "execution_count": 98,
   "metadata": {},
   "outputs": [],
   "source": [
    "# print(type(max_company_data))\n",
    "# print(max_company_data)\n",
    "# print(max_company_data.shift(-1))\n",
    "# print(len(max_company_data))\n",
    "\n",
    "X_data = []\n",
    "Y_data = []\n",
    "\n",
    "for iter in range(len(max_company_data) - 9):\n",
    "    # get first 5 days for input\n",
    "    X_data.append(list(max_company_data)[:5])\n",
    "    # get following for days for output\n",
    "    Y_data.append(list(max_company_data)[5:9])\n",
    "    # shift data upwards by one step\n",
    "    max_company_data = max_company_data.shift(-1)\n",
    "    \n",
    "# print(X_data)\n",
    "    \n"
   ]
  },
  {
   "cell_type": "markdown",
   "metadata": {},
   "source": [
    "#### 3) split dataset into test and train"
   ]
  },
  {
   "cell_type": "code",
   "execution_count": 99,
   "metadata": {},
   "outputs": [
    {
     "name": "stdout",
     "output_type": "stream",
     "text": [
      "Training chunk length:  1000\n",
      "Testing chunk length:  251\n"
     ]
    }
   ],
   "source": [
    "TRAINING_PERCENTAGE = 0.8\n",
    "TESTING_PERCENTAGE = 0.2\n",
    "# VALIDATION_PERCENTAGE = 0.5 \n",
    "\n",
    "from sklearn.model_selection import train_test_split\n",
    "\n",
    "train, test = train_test_split(df_filtered, test_size=TESTING_PERCENTAGE)\n",
    "X_train, X_test, y_train, y_test = train_test_split(X_data, Y_data, test_size=TESTING_PERCENTAGE)\n",
    "\n",
    "print(\"Training chunk length: \", len(X_train))\n",
    "print(\"Testing chunk length: \", len(X_test))\n",
    "# print(X_train)"
   ]
  },
  {
   "cell_type": "markdown",
   "metadata": {},
   "source": [
    "#### 4) Create model and fit "
   ]
  },
  {
   "cell_type": "code",
   "execution_count": 101,
   "metadata": {},
   "outputs": [
    {
     "name": "stdout",
     "output_type": "stream",
     "text": [
      "Score:  0.9774507618739682\n"
     ]
    }
   ],
   "source": [
    "from sklearn.neural_network import MLPRegressor\n",
    "\n",
    "model = MLPRegressor(early_stopping=True, random_state=1)\n",
    "\n",
    "model.fit(X_train, y_train)\n",
    "\n",
    "score = model.score(X_test, y_test)\n",
    "\n",
    "print(\"Score: \", score)"
   ]
  },
  {
   "cell_type": "code",
   "execution_count": 92,
   "metadata": {},
   "outputs": [],
   "source": [
    "# We chose MSE since it's a regression problem\n",
    "scoring_metric = \"neg_mean_squared_error\""
   ]
  },
  {
   "cell_type": "code",
   "execution_count": 86,
   "metadata": {},
   "outputs": [
    {
     "name": "stdout",
     "output_type": "stream",
     "text": [
      "Fitting 3 folds for each of 16 candidates, totalling 48 fits\n",
      "[CV] hidden_layer_sizes=(256, 512), learning_rate=adaptive, learning_rate_init=0.05, solver=sgd \n",
      "[CV]  hidden_layer_sizes=(256, 512), learning_rate=adaptive, learning_rate_init=0.05, solver=sgd, score=-1.3728370547139015e+78, total=   0.7s\n",
      "[CV] hidden_layer_sizes=(256, 512), learning_rate=adaptive, learning_rate_init=0.05, solver=sgd \n"
     ]
    },
    {
     "name": "stderr",
     "output_type": "stream",
     "text": [
      "[Parallel(n_jobs=1)]: Done   1 out of   1 | elapsed:    0.7s remaining:    0.0s\n"
     ]
    },
    {
     "name": "stdout",
     "output_type": "stream",
     "text": [
      "[CV]  hidden_layer_sizes=(256, 512), learning_rate=adaptive, learning_rate_init=0.05, solver=sgd, score=-2.4588589361005035e+78, total=   0.7s\n",
      "[CV] hidden_layer_sizes=(256, 512), learning_rate=adaptive, learning_rate_init=0.05, solver=sgd \n"
     ]
    },
    {
     "name": "stderr",
     "output_type": "stream",
     "text": [
      "[Parallel(n_jobs=1)]: Done   2 out of   2 | elapsed:    1.4s remaining:    0.0s\n"
     ]
    },
    {
     "name": "stdout",
     "output_type": "stream",
     "text": [
      "[CV]  hidden_layer_sizes=(256, 512), learning_rate=adaptive, learning_rate_init=0.05, solver=sgd, score=-1.3090552081676334e+78, total=   0.7s\n",
      "[CV] hidden_layer_sizes=(256, 512), learning_rate=adaptive, learning_rate_init=0.05, solver=adam \n"
     ]
    },
    {
     "name": "stderr",
     "output_type": "stream",
     "text": [
      "[Parallel(n_jobs=1)]: Done   3 out of   3 | elapsed:    2.1s remaining:    0.0s\n"
     ]
    },
    {
     "name": "stdout",
     "output_type": "stream",
     "text": [
      "[CV]  hidden_layer_sizes=(256, 512), learning_rate=adaptive, learning_rate_init=0.05, solver=adam, score=-74.37230009366763, total=   0.2s\n",
      "[CV] hidden_layer_sizes=(256, 512), learning_rate=adaptive, learning_rate_init=0.05, solver=adam \n"
     ]
    },
    {
     "name": "stderr",
     "output_type": "stream",
     "text": [
      "[Parallel(n_jobs=1)]: Done   4 out of   4 | elapsed:    2.3s remaining:    0.0s\n"
     ]
    },
    {
     "name": "stdout",
     "output_type": "stream",
     "text": [
      "[CV]  hidden_layer_sizes=(256, 512), learning_rate=adaptive, learning_rate_init=0.05, solver=adam, score=-2.3680388640576036, total=   0.3s\n",
      "[CV] hidden_layer_sizes=(256, 512), learning_rate=adaptive, learning_rate_init=0.05, solver=adam \n"
     ]
    },
    {
     "name": "stderr",
     "output_type": "stream",
     "text": [
      "[Parallel(n_jobs=1)]: Done   5 out of   5 | elapsed:    2.6s remaining:    0.0s\n"
     ]
    },
    {
     "name": "stdout",
     "output_type": "stream",
     "text": [
      "[CV]  hidden_layer_sizes=(256, 512), learning_rate=adaptive, learning_rate_init=0.05, solver=adam, score=-20.231632366588805, total=   0.3s\n",
      "[CV] hidden_layer_sizes=(256, 512), learning_rate=adaptive, learning_rate_init=0.001, solver=sgd \n"
     ]
    },
    {
     "name": "stderr",
     "output_type": "stream",
     "text": [
      "[Parallel(n_jobs=1)]: Done   6 out of   6 | elapsed:    2.9s remaining:    0.0s\n"
     ]
    },
    {
     "name": "stdout",
     "output_type": "stream",
     "text": [
      "[CV]  hidden_layer_sizes=(256, 512), learning_rate=adaptive, learning_rate_init=0.001, solver=sgd, score=-1.2964083680420716e+64, total=   0.4s\n",
      "[CV] hidden_layer_sizes=(256, 512), learning_rate=adaptive, learning_rate_init=0.001, solver=sgd \n"
     ]
    },
    {
     "name": "stderr",
     "output_type": "stream",
     "text": [
      "[Parallel(n_jobs=1)]: Done   7 out of   7 | elapsed:    3.3s remaining:    0.0s\n"
     ]
    },
    {
     "name": "stdout",
     "output_type": "stream",
     "text": [
      "[CV]  hidden_layer_sizes=(256, 512), learning_rate=adaptive, learning_rate_init=0.001, solver=sgd, score=-6.490847989578255e+64, total=   0.4s\n",
      "[CV] hidden_layer_sizes=(256, 512), learning_rate=adaptive, learning_rate_init=0.001, solver=sgd \n"
     ]
    },
    {
     "name": "stderr",
     "output_type": "stream",
     "text": [
      "[Parallel(n_jobs=1)]: Done   8 out of   8 | elapsed:    3.6s remaining:    0.0s\n"
     ]
    },
    {
     "name": "stdout",
     "output_type": "stream",
     "text": [
      "[CV]  hidden_layer_sizes=(256, 512), learning_rate=adaptive, learning_rate_init=0.001, solver=sgd, score=-1.4630184592920764e+64, total=   0.4s\n",
      "[CV] hidden_layer_sizes=(256, 512), learning_rate=adaptive, learning_rate_init=0.001, solver=adam \n",
      "[CV]  hidden_layer_sizes=(256, 512), learning_rate=adaptive, learning_rate_init=0.001, solver=adam, score=-104.42286746104656, total=   0.1s\n",
      "[CV] hidden_layer_sizes=(256, 512), learning_rate=adaptive, learning_rate_init=0.001, solver=adam \n"
     ]
    },
    {
     "name": "stderr",
     "output_type": "stream",
     "text": [
      "[Parallel(n_jobs=1)]: Done   9 out of   9 | elapsed:    4.0s remaining:    0.0s\n",
      "[Parallel(n_jobs=1)]: Done  10 out of  10 | elapsed:    4.2s remaining:    0.0s\n"
     ]
    },
    {
     "name": "stdout",
     "output_type": "stream",
     "text": [
      "[CV]  hidden_layer_sizes=(256, 512), learning_rate=adaptive, learning_rate_init=0.001, solver=adam, score=-104.89625619405886, total=   0.1s\n",
      "[CV] hidden_layer_sizes=(256, 512), learning_rate=adaptive, learning_rate_init=0.001, solver=adam \n",
      "[CV]  hidden_layer_sizes=(256, 512), learning_rate=adaptive, learning_rate_init=0.001, solver=adam, score=-99.752934516926, total=   0.1s\n",
      "[CV] hidden_layer_sizes=(256, 512), learning_rate=constant, learning_rate_init=0.05, solver=sgd \n"
     ]
    },
    {
     "name": "stderr",
     "output_type": "stream",
     "text": [
      "[Parallel(n_jobs=1)]: Done  11 out of  11 | elapsed:    4.3s remaining:    0.0s\n",
      "[Parallel(n_jobs=1)]: Done  12 out of  12 | elapsed:    4.4s remaining:    0.0s\n"
     ]
    },
    {
     "name": "stdout",
     "output_type": "stream",
     "text": [
      "[CV]  hidden_layer_sizes=(256, 512), learning_rate=constant, learning_rate_init=0.05, solver=sgd, score=-1.8535986807075064e+82, total=   0.2s\n",
      "[CV] hidden_layer_sizes=(256, 512), learning_rate=constant, learning_rate_init=0.05, solver=sgd \n"
     ]
    },
    {
     "name": "stderr",
     "output_type": "stream",
     "text": [
      "[Parallel(n_jobs=1)]: Done  13 out of  13 | elapsed:    4.7s remaining:    0.0s\n"
     ]
    },
    {
     "name": "stdout",
     "output_type": "stream",
     "text": [
      "[CV]  hidden_layer_sizes=(256, 512), learning_rate=constant, learning_rate_init=0.05, solver=sgd, score=-3.3199407492342005e+82, total=   0.2s\n",
      "[CV] hidden_layer_sizes=(256, 512), learning_rate=constant, learning_rate_init=0.05, solver=sgd \n"
     ]
    },
    {
     "name": "stderr",
     "output_type": "stream",
     "text": [
      "[Parallel(n_jobs=1)]: Done  14 out of  14 | elapsed:    4.9s remaining:    0.0s\n"
     ]
    },
    {
     "name": "stdout",
     "output_type": "stream",
     "text": [
      "[CV]  hidden_layer_sizes=(256, 512), learning_rate=constant, learning_rate_init=0.05, solver=sgd, score=-1.7674807061049673e+82, total=   0.2s\n",
      "[CV] hidden_layer_sizes=(256, 512), learning_rate=constant, learning_rate_init=0.05, solver=adam \n"
     ]
    },
    {
     "name": "stderr",
     "output_type": "stream",
     "text": [
      "[Parallel(n_jobs=1)]: Done  15 out of  15 | elapsed:    5.2s remaining:    0.0s\n"
     ]
    },
    {
     "name": "stdout",
     "output_type": "stream",
     "text": [
      "[CV]  hidden_layer_sizes=(256, 512), learning_rate=constant, learning_rate_init=0.05, solver=adam, score=-74.37230009366763, total=   0.3s\n",
      "[CV] hidden_layer_sizes=(256, 512), learning_rate=constant, learning_rate_init=0.05, solver=adam \n"
     ]
    },
    {
     "name": "stderr",
     "output_type": "stream",
     "text": [
      "[Parallel(n_jobs=1)]: Done  16 out of  16 | elapsed:    5.4s remaining:    0.0s\n"
     ]
    },
    {
     "name": "stdout",
     "output_type": "stream",
     "text": [
      "[CV]  hidden_layer_sizes=(256, 512), learning_rate=constant, learning_rate_init=0.05, solver=adam, score=-2.3680388640576036, total=   0.3s\n",
      "[CV] hidden_layer_sizes=(256, 512), learning_rate=constant, learning_rate_init=0.05, solver=adam \n",
      "[CV]  hidden_layer_sizes=(256, 512), learning_rate=constant, learning_rate_init=0.05, solver=adam, score=-20.231632366588805, total=   0.2s\n",
      "[CV] hidden_layer_sizes=(256, 512), learning_rate=constant, learning_rate_init=0.001, solver=sgd \n"
     ]
    },
    {
     "name": "stderr",
     "output_type": "stream",
     "text": [
      "[Parallel(n_jobs=1)]: Done  17 out of  17 | elapsed:    5.7s remaining:    0.0s\n",
      "[Parallel(n_jobs=1)]: Done  18 out of  18 | elapsed:    5.9s remaining:    0.0s\n"
     ]
    },
    {
     "name": "stdout",
     "output_type": "stream",
     "text": [
      "[CV]  hidden_layer_sizes=(256, 512), learning_rate=constant, learning_rate_init=0.001, solver=sgd, score=-1.2964083680420716e+64, total=   0.1s\n",
      "[CV] hidden_layer_sizes=(256, 512), learning_rate=constant, learning_rate_init=0.001, solver=sgd \n",
      "[CV]  hidden_layer_sizes=(256, 512), learning_rate=constant, learning_rate_init=0.001, solver=sgd, score=-6.490847989578255e+64, total=   0.1s\n",
      "[CV] hidden_layer_sizes=(256, 512), learning_rate=constant, learning_rate_init=0.001, solver=sgd \n",
      "[CV]  hidden_layer_sizes=(256, 512), learning_rate=constant, learning_rate_init=0.001, solver=sgd, score=-1.4630184592920764e+64, total=   0.1s\n",
      "[CV] hidden_layer_sizes=(256, 512), learning_rate=constant, learning_rate_init=0.001, solver=adam \n"
     ]
    },
    {
     "name": "stderr",
     "output_type": "stream",
     "text": [
      "[Parallel(n_jobs=1)]: Done  19 out of  19 | elapsed:    6.0s remaining:    0.0s\n"
     ]
    },
    {
     "name": "stdout",
     "output_type": "stream",
     "text": [
      "[CV]  hidden_layer_sizes=(256, 512), learning_rate=constant, learning_rate_init=0.001, solver=adam, score=-104.42286746104656, total=   0.1s\n",
      "[CV] hidden_layer_sizes=(256, 512), learning_rate=constant, learning_rate_init=0.001, solver=adam \n",
      "[CV]  hidden_layer_sizes=(256, 512), learning_rate=constant, learning_rate_init=0.001, solver=adam, score=-104.89625619405886, total=   0.2s\n",
      "[CV] hidden_layer_sizes=(256, 512), learning_rate=constant, learning_rate_init=0.001, solver=adam \n",
      "[CV]  hidden_layer_sizes=(256, 512), learning_rate=constant, learning_rate_init=0.001, solver=adam, score=-99.752934516926, total=   0.1s\n",
      "[CV] hidden_layer_sizes=(100, 2), learning_rate=adaptive, learning_rate_init=0.05, solver=sgd \n",
      "[CV]  hidden_layer_sizes=(100, 2), learning_rate=adaptive, learning_rate_init=0.05, solver=sgd, score=-8022023178272347.0, total=   0.1s\n",
      "[CV] hidden_layer_sizes=(100, 2), learning_rate=adaptive, learning_rate_init=0.05, solver=sgd \n",
      "[CV]  hidden_layer_sizes=(100, 2), learning_rate=adaptive, learning_rate_init=0.05, solver=sgd, score=-1.4442215806655536e+16, total=   0.1s\n",
      "[CV] hidden_layer_sizes=(100, 2), learning_rate=adaptive, learning_rate_init=0.05, solver=sgd \n",
      "[CV]  hidden_layer_sizes=(100, 2), learning_rate=adaptive, learning_rate_init=0.05, solver=sgd, score=-1.6230241262677888e+16, total=   0.1s\n",
      "[CV] hidden_layer_sizes=(100, 2), learning_rate=adaptive, learning_rate_init=0.05, solver=adam \n",
      "[CV]  hidden_layer_sizes=(100, 2), learning_rate=adaptive, learning_rate_init=0.05, solver=adam, score=-38.13410258800157, total=   0.0s\n",
      "[CV] hidden_layer_sizes=(100, 2), learning_rate=adaptive, learning_rate_init=0.05, solver=adam \n",
      "[CV]  hidden_layer_sizes=(100, 2), learning_rate=adaptive, learning_rate_init=0.05, solver=adam, score=-33.165485155463344, total=   0.0s\n",
      "[CV] hidden_layer_sizes=(100, 2), learning_rate=adaptive, learning_rate_init=0.05, solver=adam \n",
      "[CV]  hidden_layer_sizes=(100, 2), learning_rate=adaptive, learning_rate_init=0.05, solver=adam, score=-3.7639672546683602, total=   0.0s\n",
      "[CV] hidden_layer_sizes=(100, 2), learning_rate=adaptive, learning_rate_init=0.001, solver=sgd \n",
      "[CV]  hidden_layer_sizes=(100, 2), learning_rate=adaptive, learning_rate_init=0.001, solver=sgd, score=-84881.26632463663, total=   0.0s\n",
      "[CV] hidden_layer_sizes=(100, 2), learning_rate=adaptive, learning_rate_init=0.001, solver=sgd \n",
      "[CV]  hidden_layer_sizes=(100, 2), learning_rate=adaptive, learning_rate_init=0.001, solver=sgd, score=-83935.78126043367, total=   0.0s\n",
      "[CV] hidden_layer_sizes=(100, 2), learning_rate=adaptive, learning_rate_init=0.001, solver=sgd \n",
      "[CV]  hidden_layer_sizes=(100, 2), learning_rate=adaptive, learning_rate_init=0.001, solver=sgd, score=-88344.44076952443, total=   0.0s\n",
      "[CV] hidden_layer_sizes=(100, 2), learning_rate=adaptive, learning_rate_init=0.001, solver=adam \n",
      "[CV]  hidden_layer_sizes=(100, 2), learning_rate=adaptive, learning_rate_init=0.001, solver=adam, score=-1.9409171352560213, total=   0.5s\n",
      "[CV] hidden_layer_sizes=(100, 2), learning_rate=adaptive, learning_rate_init=0.001, solver=adam \n",
      "[CV]  hidden_layer_sizes=(100, 2), learning_rate=adaptive, learning_rate_init=0.001, solver=adam, score=-1.5668985356604372, total=   0.5s\n",
      "[CV] hidden_layer_sizes=(100, 2), learning_rate=adaptive, learning_rate_init=0.001, solver=adam \n",
      "[CV]  hidden_layer_sizes=(100, 2), learning_rate=adaptive, learning_rate_init=0.001, solver=adam, score=-1.6279260808440994, total=   0.4s\n",
      "[CV] hidden_layer_sizes=(100, 2), learning_rate=constant, learning_rate_init=0.05, solver=sgd \n",
      "[CV]  hidden_layer_sizes=(100, 2), learning_rate=constant, learning_rate_init=0.05, solver=sgd, score=-4.35700201398854e+17, total=   0.0s\n",
      "[CV] hidden_layer_sizes=(100, 2), learning_rate=constant, learning_rate_init=0.05, solver=sgd \n",
      "[CV]  hidden_layer_sizes=(100, 2), learning_rate=constant, learning_rate_init=0.05, solver=sgd, score=-2.0091980904633388e+18, total=   0.0s\n",
      "[CV] hidden_layer_sizes=(100, 2), learning_rate=constant, learning_rate_init=0.05, solver=sgd \n",
      "[CV]  hidden_layer_sizes=(100, 2), learning_rate=constant, learning_rate_init=0.05, solver=sgd, score=-2.3102995377563156e+18, total=   0.0s\n",
      "[CV] hidden_layer_sizes=(100, 2), learning_rate=constant, learning_rate_init=0.05, solver=adam \n",
      "[CV]  hidden_layer_sizes=(100, 2), learning_rate=constant, learning_rate_init=0.05, solver=adam, score=-38.13410258800157, total=   0.0s\n",
      "[CV] hidden_layer_sizes=(100, 2), learning_rate=constant, learning_rate_init=0.05, solver=adam \n",
      "[CV]  hidden_layer_sizes=(100, 2), learning_rate=constant, learning_rate_init=0.05, solver=adam, score=-33.165485155463344, total=   0.0s\n",
      "[CV] hidden_layer_sizes=(100, 2), learning_rate=constant, learning_rate_init=0.05, solver=adam \n",
      "[CV]  hidden_layer_sizes=(100, 2), learning_rate=constant, learning_rate_init=0.05, solver=adam, score=-3.7639672546683602, total=   0.0s\n",
      "[CV] hidden_layer_sizes=(100, 2), learning_rate=constant, learning_rate_init=0.001, solver=sgd \n",
      "[CV]  hidden_layer_sizes=(100, 2), learning_rate=constant, learning_rate_init=0.001, solver=sgd, score=-84881.26632463663, total=   0.0s\n",
      "[CV] hidden_layer_sizes=(100, 2), learning_rate=constant, learning_rate_init=0.001, solver=sgd \n",
      "[CV]  hidden_layer_sizes=(100, 2), learning_rate=constant, learning_rate_init=0.001, solver=sgd, score=-83935.78126043367, total=   0.0s\n",
      "[CV] hidden_layer_sizes=(100, 2), learning_rate=constant, learning_rate_init=0.001, solver=sgd \n",
      "[CV]  hidden_layer_sizes=(100, 2), learning_rate=constant, learning_rate_init=0.001, solver=sgd, score=-88344.44076952443, total=   0.0s\n",
      "[CV] hidden_layer_sizes=(100, 2), learning_rate=constant, learning_rate_init=0.001, solver=adam \n",
      "[CV]  hidden_layer_sizes=(100, 2), learning_rate=constant, learning_rate_init=0.001, solver=adam, score=-1.9409171352560213, total=   0.5s\n",
      "[CV] hidden_layer_sizes=(100, 2), learning_rate=constant, learning_rate_init=0.001, solver=adam \n",
      "[CV]  hidden_layer_sizes=(100, 2), learning_rate=constant, learning_rate_init=0.001, solver=adam, score=-1.5668985356604372, total=   0.4s\n",
      "[CV] hidden_layer_sizes=(100, 2), learning_rate=constant, learning_rate_init=0.001, solver=adam \n",
      "[CV]  hidden_layer_sizes=(100, 2), learning_rate=constant, learning_rate_init=0.001, solver=adam, score=-1.6279260808440994, total=   0.5s\n"
     ]
    },
    {
     "name": "stderr",
     "output_type": "stream",
     "text": [
      "[Parallel(n_jobs=1)]: Done  48 out of  48 | elapsed:   10.0s finished\n"
     ]
    },
    {
     "data": {
      "text/plain": [
       "GridSearchCV(cv=None, error_score='raise',\n",
       "       estimator=MLPRegressor(activation='relu', alpha=0.0001, batch_size='auto', beta_1=0.9,\n",
       "       beta_2=0.999, early_stopping=True, epsilon=1e-08,\n",
       "       hidden_layer_sizes=(100,), learning_rate='adaptive',\n",
       "       learning_rate_init=0.001, max_iter=10000, momentum=0.9,\n",
       "       nesterovs_momentum=True, power_t=0.5, random_state=1, shuffle=True,\n",
       "       solver='adam', tol=0.0001, validation_fraction=0.1, verbose=False,\n",
       "       warm_start=False),\n",
       "       fit_params=None, iid=True, n_jobs=1,\n",
       "       param_grid={'learning_rate': ['adaptive', 'constant'], 'solver': ['sgd', 'adam'], 'learning_rate_init': [0.05, 0.001], 'hidden_layer_sizes': [(256, 512), (100, 2)]},\n",
       "       pre_dispatch='2*n_jobs', refit=True, return_train_score='warn',\n",
       "       scoring='neg_mean_squared_error', verbose=20)"
      ]
     },
     "execution_count": 86,
     "metadata": {},
     "output_type": "execute_result"
    }
   ],
   "source": [
    "param_grid = {'learning_rate' : ['adaptive', 'constant'],\n",
    "              'solver': ['sgd', 'adam'],\n",
    "              'learning_rate_init': [0.05, 0.001],\n",
    "              'hidden_layer_sizes': [(256, 512), (100,2)]\n",
    "             }\n",
    "\n",
    "\n",
    "gs = GridSearchCV(model, param_grid=param_grid, verbose=20, scoring=scoring_metric)\n",
    "gs.fit(X_train, y_train)"
   ]
  },
  {
   "cell_type": "markdown",
   "metadata": {},
   "source": [
    "#### Get best params"
   ]
  },
  {
   "cell_type": "code",
   "execution_count": 88,
   "metadata": {},
   "outputs": [
    {
     "name": "stdout",
     "output_type": "stream",
     "text": [
      "{'hidden_layer_sizes': (100, 2), 'learning_rate': 'adaptive', 'learning_rate_init': 0.001, 'solver': 'adam'}\n",
      "Score:  -1.8329937132496845\n"
     ]
    }
   ],
   "source": [
    "print(gs.best_params_)\n",
    "score = gs.score(X_test, y_test)\n",
    "print(\"Score: \", score)"
   ]
  },
  {
   "cell_type": "markdown",
   "metadata": {},
   "source": [
    "#### 5) Evaluate model with grid search best params"
   ]
  },
  {
   "cell_type": "code",
   "execution_count": 102,
   "metadata": {},
   "outputs": [
    {
     "name": "stdout",
     "output_type": "stream",
     "text": [
      "Score:  0.9950035098684409\n"
     ]
    }
   ],
   "source": [
    "model = MLPRegressor(early_stopping=True, random_state=1, learning_rate_init=0.001, learning_rate='adaptive', solver='adam', hidden_layer_sizes=(100,2))\n",
    "\n",
    "model.fit(X_train, y_train)\n",
    "\n",
    "score = model.score(X_test, y_test)\n",
    "\n",
    "print(\"Score: \", score)"
   ]
  },
  {
   "cell_type": "code",
   "execution_count": 104,
   "metadata": {},
   "outputs": [
    {
     "name": "stdout",
     "output_type": "stream",
     "text": [
      "\n",
      "Score:  0.9950035098684409\n",
      "MSE:  1.27879135757282\n"
     ]
    }
   ],
   "source": [
    "y_predictions = model.predict(X_test)\n",
    "score = model.score(X_test, y_test)\n",
    "print(\"\\nScore: \", score)\n",
    "MSE = mean_squared_error(y_test, y_predictions)\n",
    "print(\"MSE: \", MSE)"
   ]
  },
  {
   "cell_type": "markdown",
   "metadata": {},
   "source": [
    "#### Try 3 instances"
   ]
  },
  {
   "cell_type": "code",
   "execution_count": 108,
   "metadata": {},
   "outputs": [
    {
     "name": "stdout",
     "output_type": "stream",
     "text": [
      "[[89.0583, 87.4422, 88.8389, 88.4997, 88.3201], [49.6677, 49.6485, 49.4751, 50.1495, 50.5349], [61.6651, 61.8222, 62.6177, 62.981, 63.7372]]\n",
      "[[88.79899999999999, 88.9187, 88.38, 88.1904], [50.68899999999999, 51.0455, 51.6718, 51.007], [64.5033, 63.2658, 62.8927, 63.3444]]\n",
      "[[89.27535477 88.86841857 87.83095623 89.1036805 ]\n",
      " [50.14820019 50.08705092 50.21327089 50.13115274]\n",
      " [62.99486717 62.82018525 62.56433197 62.92705091]]\n"
     ]
    }
   ],
   "source": [
    "three_instances_x = X_test[:3]\n",
    "three_instances_y = y_test[:3]\n",
    "print(three_instances_x)\n",
    "print(three_instances_y)\n",
    "\n",
    "three_predictions_y = model.predict(three_instances_x)\n",
    "print(three_predictions_y)"
   ]
  },
  {
   "cell_type": "markdown",
   "metadata": {},
   "source": [
    "#### Display 3 days"
   ]
  },
  {
   "cell_type": "code",
   "execution_count": 118,
   "metadata": {},
   "outputs": [
    {
     "name": "stdout",
     "output_type": "stream",
     "text": [
      "Instance 1 :\n",
      "\n",
      "Day  1 :\n",
      "Predicted:  89.27535477071555  Actual:  88.79899999999999\n",
      "Day  2 :\n",
      "Predicted:  88.86841856768064  Actual:  88.9187\n",
      "Day  3 :\n",
      "Predicted:  87.83095623271429  Actual:  88.38\n",
      "Day  4 :\n",
      "Predicted:  89.10368049960985  Actual:  88.1904\n",
      "\n",
      "\n",
      "\n",
      "Instance 2 :\n",
      "\n",
      "Day  1 :\n",
      "Predicted:  50.14820019291545  Actual:  50.68899999999999\n",
      "Day  2 :\n",
      "Predicted:  50.087050920971556  Actual:  51.0455\n",
      "Day  3 :\n",
      "Predicted:  50.213270893539956  Actual:  51.6718\n",
      "Day  4 :\n",
      "Predicted:  50.13115274404359  Actual:  51.007\n",
      "\n",
      "\n",
      "\n",
      "Instance 3 :\n",
      "\n",
      "Day  1 :\n",
      "Predicted:  62.9948671732027  Actual:  64.5033\n",
      "Day  2 :\n",
      "Predicted:  62.82018525116464  Actual:  63.2658\n",
      "Day  3 :\n",
      "Predicted:  62.564331974679725  Actual:  62.8927\n",
      "Day  4 :\n",
      "Predicted:  62.92705090883958  Actual:  63.3444\n",
      "\n",
      "\n",
      "\n"
     ]
    }
   ],
   "source": [
    "for idx, instance in enumerate(three_predictions_y):\n",
    "    print(\"Instance\", (str(idx+1)), \":\\n\")\n",
    "    for idx2, day in enumerate(instance):\n",
    "        print(\"Day \", (str(idx2+1)), \":\")\n",
    "        print(\"Predicted: \", day, \" Actual: \", three_instances_y[idx][idx2])\n",
    "    print(\"\\n\\n\")\n",
    "    "
   ]
  },
  {
   "cell_type": "markdown",
   "metadata": {},
   "source": [
    "#### Values are close due to the 99% score of the model"
   ]
  },
  {
   "cell_type": "markdown",
   "metadata": {},
   "source": [
    "# Task 3"
   ]
  },
  {
   "cell_type": "markdown",
   "metadata": {},
   "source": [
    "## Some context on the TfidVectorizer and text handing in sklearn\n",
    "\n",
    "* To represent a review to a neural network, each word has to be expressed as a number. \n",
    "\n",
    "* Each word in the review corpus is assigned a unique number. Assume the total number of unique words is feature_count. \n",
    "\n",
    "* Each review can then be represented as a vector of length feature_count. \n",
    "\n",
    "* Entries in this vector can be either 0 or 1, if the word is present in this review or absent respectively. \n",
    "\n",
    "* A more advanced approach will replace the binary numbers above with ratios that emphaise how rare ( and hence meanigful and representative ) the word is across all reviews. For example, a word like \"product\" will have little use for the neural network in determing whetehr this is a rating-1 or rating-5 review, as this particular word occurs in most reviews, both positive and negative ones. \n",
    "\n",
    "* Here we limit the number of feature_count to 40,000 to cut down the training time. \n",
    "\n",
    "more info available from \n",
    "http://scikit-learn.org/stable/tutorial/text_analytics/working_with_text_data.html\n",
    "http://scikit-learn.org/stable/modules/generated/sklearn.feature_extraction.text.TfidfVectorizer.html"
   ]
  },
  {
   "cell_type": "markdown",
   "metadata": {},
   "source": [
    "#### Read dataset and clean"
   ]
  },
  {
   "cell_type": "code",
   "execution_count": 121,
   "metadata": {},
   "outputs": [],
   "source": [
    "import pandas as pd\n",
    "\n",
    "reviews = pd.read_json('reviews_digital.json', lines=True)\n"
   ]
  },
  {
   "cell_type": "code",
   "execution_count": 122,
   "metadata": {},
   "outputs": [
    {
     "name": "stdout",
     "output_type": "stream",
     "text": [
      "overall\n",
      "1     2791\n",
      "2     3010\n",
      "3     6789\n",
      "4    16536\n",
      "5    35580\n",
      "Name: asin, dtype: int64\n",
      "\n",
      "12500\n"
     ]
    }
   ],
   "source": [
    "print(reviews.groupby('overall').count()['asin'])\n",
    "print()\n",
    "frames = []\n",
    "\n",
    "for i in range(1,6):\n",
    "    frames.append(reviews[(reviews['overall'] == i)][:2500])\n",
    "\n",
    "balanced_data = pd.concat(frames)\n",
    "\n",
    "print(len(balanced_data))"
   ]
  },
  {
   "cell_type": "markdown",
   "metadata": {},
   "source": [
    "#### Split data"
   ]
  },
  {
   "cell_type": "code",
   "execution_count": 123,
   "metadata": {},
   "outputs": [],
   "source": [
    "from sklearn.model_selection import train_test_split\n",
    "import numpy as np\n",
    "import nltk\n",
    "from nltk.corpus import stopwords \n",
    "from nltk.tokenize import word_tokenize \n",
    "\n",
    "TESTING_PERCENTAGE = 0.2\n",
    "\n",
    "X_data = np.array(balanced_data['reviewText'])\n",
    "\n",
    "stop_words = set(stopwords.words('english')) \n",
    "X_data_new = []\n",
    "for text in X_data:\n",
    "    word_tokens = word_tokenize(text)\n",
    "    filtered_sentence = [w for w in word_tokens if not w in stop_words]\n",
    "    X_data_new.append(' '.join(filtered_sentence))\n",
    "  \n",
    "\n",
    "Y_data = np.array(balanced_data['overall'])\n",
    "\n",
    "\n",
    "X_train, X_test, y_train, y_test = train_test_split(X_data_new, Y_data, test_size=TESTING_PERCENTAGE)\n"
   ]
  },
  {
   "cell_type": "markdown",
   "metadata": {},
   "source": [
    "#### Calculate tfidf scores"
   ]
  },
  {
   "cell_type": "code",
   "execution_count": 124,
   "metadata": {},
   "outputs": [],
   "source": [
    "from sklearn.feature_extraction.text import TfidfTransformer\n",
    "from sklearn.feature_extraction.text import TfidfVectorizer\n",
    "\n",
    "#You need to define X_train and X_test\n",
    "tfidf_vectorizer = TfidfVectorizer(max_features=40000)\n",
    "X_train_transformed = tfidf_vectorizer.fit_transform(X_train)\n",
    "X_test_transformed = tfidf_vectorizer.transform(X_test)\n",
    "\n",
    "# print(X_train_transformed)"
   ]
  },
  {
   "cell_type": "code",
   "execution_count": 65,
   "metadata": {},
   "outputs": [
    {
     "data": {
      "text/plain": [
       "MLPClassifier(activation='relu', alpha=0.0001, batch_size='auto', beta_1=0.9,\n",
       "       beta_2=0.999, early_stopping=True, epsilon=1e-08,\n",
       "       hidden_layer_sizes=(1024,), learning_rate='constant',\n",
       "       learning_rate_init=0.001, max_iter=200, momentum=0.9,\n",
       "       nesterovs_momentum=True, power_t=0.5, random_state=None,\n",
       "       shuffle=True, solver='adam', tol=0.0001, validation_fraction=0.1,\n",
       "       verbose=False, warm_start=False)"
      ]
     },
     "execution_count": 65,
     "metadata": {},
     "output_type": "execute_result"
    }
   ],
   "source": [
    "from sklearn.neural_network import MLPClassifier\n",
    "\n",
    "model = MLPClassifier(early_stopping=True, hidden_layer_sizes=(1024,))\n",
    "\n",
    "model.fit(X_train_transformed, y_train)\n"
   ]
  },
  {
   "cell_type": "code",
   "execution_count": 66,
   "metadata": {},
   "outputs": [
    {
     "name": "stdout",
     "output_type": "stream",
     "text": [
      "0.6264\n"
     ]
    }
   ],
   "source": [
    "print(model.score(X_test_transformed, y_test))"
   ]
  },
  {
   "cell_type": "code",
   "execution_count": null,
   "metadata": {},
   "outputs": [
    {
     "name": "stdout",
     "output_type": "stream",
     "text": [
      "[CV]  ................................................................\n"
     ]
    }
   ],
   "source": [
    "from sklearn import model_selection\n",
    "# seed = 7\n",
    "# kfold = model_selection.KFold(n_splits=10, random_state=seed)\n",
    "\n",
    "# Since this is a classification problem then accuracy can be used\n",
    "scoring = 'accuracy'\n",
    "results = model_selection.cross_val_score(model, X_train_transformed, y_train, cv=3, scoring=scoring, verbose=20)"
   ]
  },
  {
   "cell_type": "code",
   "execution_count": 70,
   "metadata": {},
   "outputs": [
    {
     "data": {
      "text/plain": [
       "0.5972996342489773"
      ]
     },
     "execution_count": 70,
     "metadata": {},
     "output_type": "execute_result"
    }
   ],
   "source": [
    "results.mean()\n",
    "results.std()"
   ]
  },
  {
   "cell_type": "code",
   "execution_count": 126,
   "metadata": {},
   "outputs": [
    {
     "name": "stdout",
     "output_type": "stream",
     "text": [
      "Fitting 3 folds for each of 4 candidates, totalling 12 fits\n",
      "[CV] activation=relu, early_stopping=True, hidden_layer_sizes=(1024, 4, 2), solver=adam \n",
      "[CV]  activation=relu, early_stopping=True, hidden_layer_sizes=(1024, 4, 2), solver=adam, score=0.6075516719930465, total= 3.4min\n",
      "[CV] activation=relu, early_stopping=True, hidden_layer_sizes=(1024, 4, 2), solver=adam \n"
     ]
    },
    {
     "name": "stderr",
     "output_type": "stream",
     "text": [
      "[Parallel(n_jobs=1)]: Done   1 out of   1 | elapsed:  3.4min remaining:    0.0s\n"
     ]
    },
    {
     "name": "stdout",
     "output_type": "stream",
     "text": [
      "[CV]  activation=relu, early_stopping=True, hidden_layer_sizes=(1024, 4, 2), solver=adam, score=0.603406357232342, total= 3.7min\n",
      "[CV] activation=relu, early_stopping=True, hidden_layer_sizes=(1024, 4, 2), solver=adam \n"
     ]
    },
    {
     "name": "stderr",
     "output_type": "stream",
     "text": [
      "[Parallel(n_jobs=1)]: Done   2 out of   2 | elapsed:  7.1min remaining:    0.0s\n"
     ]
    },
    {
     "name": "stdout",
     "output_type": "stream",
     "text": [
      "[CV]  activation=relu, early_stopping=True, hidden_layer_sizes=(1024, 4, 2), solver=adam, score=0.596112182753537, total= 3.8min\n",
      "[CV] activation=relu, early_stopping=True, hidden_layer_sizes=(1024, 512, 2), solver=adam \n"
     ]
    },
    {
     "name": "stderr",
     "output_type": "stream",
     "text": [
      "[Parallel(n_jobs=1)]: Done   3 out of   3 | elapsed: 11.0min remaining:    0.0s\n"
     ]
    },
    {
     "name": "stdout",
     "output_type": "stream",
     "text": [
      "[CV]  activation=relu, early_stopping=True, hidden_layer_sizes=(1024, 512, 2), solver=adam, score=0.5316250894805858, total= 5.0min\n",
      "[CV] activation=relu, early_stopping=True, hidden_layer_sizes=(1024, 512, 2), solver=adam \n"
     ]
    },
    {
     "name": "stderr",
     "output_type": "stream",
     "text": [
      "[Parallel(n_jobs=1)]: Done   4 out of   4 | elapsed: 15.9min remaining:    0.0s\n"
     ]
    },
    {
     "name": "stdout",
     "output_type": "stream",
     "text": [
      "[CV]  activation=relu, early_stopping=True, hidden_layer_sizes=(1024, 512, 2), solver=adam, score=0.5245523836987167, total= 6.0min\n",
      "[CV] activation=relu, early_stopping=True, hidden_layer_sizes=(1024, 512, 2), solver=adam \n"
     ]
    },
    {
     "name": "stderr",
     "output_type": "stream",
     "text": [
      "[Parallel(n_jobs=1)]: Done   5 out of   5 | elapsed: 21.9min remaining:    0.0s\n"
     ]
    },
    {
     "name": "stdout",
     "output_type": "stream",
     "text": [
      "[CV]  activation=relu, early_stopping=True, hidden_layer_sizes=(1024, 512, 2), solver=adam, score=0.5238661016922583, total= 4.8min\n",
      "[CV] activation=tanh, early_stopping=True, hidden_layer_sizes=(1024, 4, 2), solver=adam \n"
     ]
    },
    {
     "name": "stderr",
     "output_type": "stream",
     "text": [
      "[Parallel(n_jobs=1)]: Done   6 out of   6 | elapsed: 26.7min remaining:    0.0s\n"
     ]
    },
    {
     "name": "stdout",
     "output_type": "stream",
     "text": [
      "[CV]  activation=tanh, early_stopping=True, hidden_layer_sizes=(1024, 4, 2), solver=adam, score=0.6270429358833762, total=14.7min\n",
      "[CV] activation=tanh, early_stopping=True, hidden_layer_sizes=(1024, 4, 2), solver=adam \n"
     ]
    },
    {
     "name": "stderr",
     "output_type": "stream",
     "text": [
      "[Parallel(n_jobs=1)]: Done   7 out of   7 | elapsed: 41.4min remaining:    0.0s\n"
     ]
    },
    {
     "name": "stdout",
     "output_type": "stream",
     "text": [
      "[CV]  activation=tanh, early_stopping=True, hidden_layer_sizes=(1024, 4, 2), solver=adam, score=0.6215238100832715, total=14.5min\n",
      "[CV] activation=tanh, early_stopping=True, hidden_layer_sizes=(1024, 4, 2), solver=adam \n"
     ]
    },
    {
     "name": "stderr",
     "output_type": "stream",
     "text": [
      "[Parallel(n_jobs=1)]: Done   8 out of   8 | elapsed: 55.9min remaining:    0.0s\n"
     ]
    },
    {
     "name": "stdout",
     "output_type": "stream",
     "text": [
      "[CV]  activation=tanh, early_stopping=True, hidden_layer_sizes=(1024, 4, 2), solver=adam, score=0.6100948092943153, total=16.4min\n",
      "[CV] activation=tanh, early_stopping=True, hidden_layer_sizes=(1024, 512, 2), solver=adam \n"
     ]
    },
    {
     "name": "stderr",
     "output_type": "stream",
     "text": [
      "[Parallel(n_jobs=1)]: Done   9 out of   9 | elapsed: 72.3min remaining:    0.0s\n",
      "/home/ameniawy/anaconda3/lib/python3.7/site-packages/sklearn/neural_network/multilayer_perceptron.py:566: UserWarning: Training interrupted by user.\n",
      "  warnings.warn(\"Training interrupted by user.\")\n"
     ]
    },
    {
     "name": "stdout",
     "output_type": "stream",
     "text": [
      "[CV]  activation=tanh, early_stopping=True, hidden_layer_sizes=(1024, 512, 2), solver=adam, score=-3.108016435112382, total=10.0min\n",
      "[CV] activation=tanh, early_stopping=True, hidden_layer_sizes=(1024, 512, 2), solver=adam \n"
     ]
    },
    {
     "name": "stderr",
     "output_type": "stream",
     "text": [
      "[Parallel(n_jobs=1)]: Done  10 out of  10 | elapsed: 82.4min remaining:    0.0s\n",
      "/home/ameniawy/anaconda3/lib/python3.7/site-packages/sklearn/neural_network/multilayer_perceptron.py:566: UserWarning: Training interrupted by user.\n",
      "  warnings.warn(\"Training interrupted by user.\")\n"
     ]
    },
    {
     "ename": "AttributeError",
     "evalue": "'MLPRegressor' object has no attribute '_best_coefs'",
     "output_type": "error",
     "traceback": [
      "\u001b[0;31m---------------------------------------------------------------------------\u001b[0m",
      "\u001b[0;31mAttributeError\u001b[0m                            Traceback (most recent call last)",
      "\u001b[0;32m<ipython-input-126-d786eba60415>\u001b[0m in \u001b[0;36m<module>\u001b[0;34m()\u001b[0m\n\u001b[1;32m     10\u001b[0m \u001b[0mgrid_search\u001b[0m \u001b[0;34m=\u001b[0m \u001b[0mGridSearchCV\u001b[0m\u001b[0;34m(\u001b[0m\u001b[0mmodel\u001b[0m\u001b[0;34m,\u001b[0m \u001b[0mparam_grid\u001b[0m\u001b[0;34m=\u001b[0m\u001b[0mparam_grid\u001b[0m\u001b[0;34m,\u001b[0m \u001b[0mverbose\u001b[0m\u001b[0;34m=\u001b[0m\u001b[0;36m20\u001b[0m\u001b[0;34m)\u001b[0m\u001b[0;34m\u001b[0m\u001b[0m\n\u001b[1;32m     11\u001b[0m \u001b[0;34m\u001b[0m\u001b[0m\n\u001b[0;32m---> 12\u001b[0;31m \u001b[0mgrid_search\u001b[0m\u001b[0;34m.\u001b[0m\u001b[0mfit\u001b[0m\u001b[0;34m(\u001b[0m\u001b[0mX_train_transformed\u001b[0m\u001b[0;34m,\u001b[0m \u001b[0my_train\u001b[0m\u001b[0;34m)\u001b[0m\u001b[0;34m\u001b[0m\u001b[0m\n\u001b[0m",
      "\u001b[0;32m~/anaconda3/lib/python3.7/site-packages/sklearn/model_selection/_search.py\u001b[0m in \u001b[0;36mfit\u001b[0;34m(self, X, y, groups, **fit_params)\u001b[0m\n\u001b[1;32m    638\u001b[0m                                   error_score=self.error_score)\n\u001b[1;32m    639\u001b[0m           for parameters, (train, test) in product(candidate_params,\n\u001b[0;32m--> 640\u001b[0;31m                                                    cv.split(X, y, groups)))\n\u001b[0m\u001b[1;32m    641\u001b[0m \u001b[0;34m\u001b[0m\u001b[0m\n\u001b[1;32m    642\u001b[0m         \u001b[0;31m# if one choose to see train score, \"out\" will contain train score info\u001b[0m\u001b[0;34m\u001b[0m\u001b[0;34m\u001b[0m\u001b[0m\n",
      "\u001b[0;32m~/anaconda3/lib/python3.7/site-packages/sklearn/externals/joblib/parallel.py\u001b[0m in \u001b[0;36m__call__\u001b[0;34m(self, iterable)\u001b[0m\n\u001b[1;32m    777\u001b[0m             \u001b[0;31m# was dispatched. In particular this covers the edge\u001b[0m\u001b[0;34m\u001b[0m\u001b[0;34m\u001b[0m\u001b[0m\n\u001b[1;32m    778\u001b[0m             \u001b[0;31m# case of Parallel used with an exhausted iterator.\u001b[0m\u001b[0;34m\u001b[0m\u001b[0;34m\u001b[0m\u001b[0m\n\u001b[0;32m--> 779\u001b[0;31m             \u001b[0;32mwhile\u001b[0m \u001b[0mself\u001b[0m\u001b[0;34m.\u001b[0m\u001b[0mdispatch_one_batch\u001b[0m\u001b[0;34m(\u001b[0m\u001b[0miterator\u001b[0m\u001b[0;34m)\u001b[0m\u001b[0;34m:\u001b[0m\u001b[0;34m\u001b[0m\u001b[0m\n\u001b[0m\u001b[1;32m    780\u001b[0m                 \u001b[0mself\u001b[0m\u001b[0;34m.\u001b[0m\u001b[0m_iterating\u001b[0m \u001b[0;34m=\u001b[0m \u001b[0;32mTrue\u001b[0m\u001b[0;34m\u001b[0m\u001b[0m\n\u001b[1;32m    781\u001b[0m             \u001b[0;32melse\u001b[0m\u001b[0;34m:\u001b[0m\u001b[0;34m\u001b[0m\u001b[0m\n",
      "\u001b[0;32m~/anaconda3/lib/python3.7/site-packages/sklearn/externals/joblib/parallel.py\u001b[0m in \u001b[0;36mdispatch_one_batch\u001b[0;34m(self, iterator)\u001b[0m\n\u001b[1;32m    623\u001b[0m                 \u001b[0;32mreturn\u001b[0m \u001b[0;32mFalse\u001b[0m\u001b[0;34m\u001b[0m\u001b[0m\n\u001b[1;32m    624\u001b[0m             \u001b[0;32melse\u001b[0m\u001b[0;34m:\u001b[0m\u001b[0;34m\u001b[0m\u001b[0m\n\u001b[0;32m--> 625\u001b[0;31m                 \u001b[0mself\u001b[0m\u001b[0;34m.\u001b[0m\u001b[0m_dispatch\u001b[0m\u001b[0;34m(\u001b[0m\u001b[0mtasks\u001b[0m\u001b[0;34m)\u001b[0m\u001b[0;34m\u001b[0m\u001b[0m\n\u001b[0m\u001b[1;32m    626\u001b[0m                 \u001b[0;32mreturn\u001b[0m \u001b[0;32mTrue\u001b[0m\u001b[0;34m\u001b[0m\u001b[0m\n\u001b[1;32m    627\u001b[0m \u001b[0;34m\u001b[0m\u001b[0m\n",
      "\u001b[0;32m~/anaconda3/lib/python3.7/site-packages/sklearn/externals/joblib/parallel.py\u001b[0m in \u001b[0;36m_dispatch\u001b[0;34m(self, batch)\u001b[0m\n\u001b[1;32m    586\u001b[0m         \u001b[0mdispatch_timestamp\u001b[0m \u001b[0;34m=\u001b[0m \u001b[0mtime\u001b[0m\u001b[0;34m.\u001b[0m\u001b[0mtime\u001b[0m\u001b[0;34m(\u001b[0m\u001b[0;34m)\u001b[0m\u001b[0;34m\u001b[0m\u001b[0m\n\u001b[1;32m    587\u001b[0m         \u001b[0mcb\u001b[0m \u001b[0;34m=\u001b[0m \u001b[0mBatchCompletionCallBack\u001b[0m\u001b[0;34m(\u001b[0m\u001b[0mdispatch_timestamp\u001b[0m\u001b[0;34m,\u001b[0m \u001b[0mlen\u001b[0m\u001b[0;34m(\u001b[0m\u001b[0mbatch\u001b[0m\u001b[0;34m)\u001b[0m\u001b[0;34m,\u001b[0m \u001b[0mself\u001b[0m\u001b[0;34m)\u001b[0m\u001b[0;34m\u001b[0m\u001b[0m\n\u001b[0;32m--> 588\u001b[0;31m         \u001b[0mjob\u001b[0m \u001b[0;34m=\u001b[0m \u001b[0mself\u001b[0m\u001b[0;34m.\u001b[0m\u001b[0m_backend\u001b[0m\u001b[0;34m.\u001b[0m\u001b[0mapply_async\u001b[0m\u001b[0;34m(\u001b[0m\u001b[0mbatch\u001b[0m\u001b[0;34m,\u001b[0m \u001b[0mcallback\u001b[0m\u001b[0;34m=\u001b[0m\u001b[0mcb\u001b[0m\u001b[0;34m)\u001b[0m\u001b[0;34m\u001b[0m\u001b[0m\n\u001b[0m\u001b[1;32m    589\u001b[0m         \u001b[0mself\u001b[0m\u001b[0;34m.\u001b[0m\u001b[0m_jobs\u001b[0m\u001b[0;34m.\u001b[0m\u001b[0mappend\u001b[0m\u001b[0;34m(\u001b[0m\u001b[0mjob\u001b[0m\u001b[0;34m)\u001b[0m\u001b[0;34m\u001b[0m\u001b[0m\n\u001b[1;32m    590\u001b[0m \u001b[0;34m\u001b[0m\u001b[0m\n",
      "\u001b[0;32m~/anaconda3/lib/python3.7/site-packages/sklearn/externals/joblib/_parallel_backends.py\u001b[0m in \u001b[0;36mapply_async\u001b[0;34m(self, func, callback)\u001b[0m\n\u001b[1;32m    109\u001b[0m     \u001b[0;32mdef\u001b[0m \u001b[0mapply_async\u001b[0m\u001b[0;34m(\u001b[0m\u001b[0mself\u001b[0m\u001b[0;34m,\u001b[0m \u001b[0mfunc\u001b[0m\u001b[0;34m,\u001b[0m \u001b[0mcallback\u001b[0m\u001b[0;34m=\u001b[0m\u001b[0;32mNone\u001b[0m\u001b[0;34m)\u001b[0m\u001b[0;34m:\u001b[0m\u001b[0;34m\u001b[0m\u001b[0m\n\u001b[1;32m    110\u001b[0m         \u001b[0;34m\"\"\"Schedule a func to be run\"\"\"\u001b[0m\u001b[0;34m\u001b[0m\u001b[0m\n\u001b[0;32m--> 111\u001b[0;31m         \u001b[0mresult\u001b[0m \u001b[0;34m=\u001b[0m \u001b[0mImmediateResult\u001b[0m\u001b[0;34m(\u001b[0m\u001b[0mfunc\u001b[0m\u001b[0;34m)\u001b[0m\u001b[0;34m\u001b[0m\u001b[0m\n\u001b[0m\u001b[1;32m    112\u001b[0m         \u001b[0;32mif\u001b[0m \u001b[0mcallback\u001b[0m\u001b[0;34m:\u001b[0m\u001b[0;34m\u001b[0m\u001b[0m\n\u001b[1;32m    113\u001b[0m             \u001b[0mcallback\u001b[0m\u001b[0;34m(\u001b[0m\u001b[0mresult\u001b[0m\u001b[0;34m)\u001b[0m\u001b[0;34m\u001b[0m\u001b[0m\n",
      "\u001b[0;32m~/anaconda3/lib/python3.7/site-packages/sklearn/externals/joblib/_parallel_backends.py\u001b[0m in \u001b[0;36m__init__\u001b[0;34m(self, batch)\u001b[0m\n\u001b[1;32m    330\u001b[0m         \u001b[0;31m# Don't delay the application, to avoid keeping the input\u001b[0m\u001b[0;34m\u001b[0m\u001b[0;34m\u001b[0m\u001b[0m\n\u001b[1;32m    331\u001b[0m         \u001b[0;31m# arguments in memory\u001b[0m\u001b[0;34m\u001b[0m\u001b[0;34m\u001b[0m\u001b[0m\n\u001b[0;32m--> 332\u001b[0;31m         \u001b[0mself\u001b[0m\u001b[0;34m.\u001b[0m\u001b[0mresults\u001b[0m \u001b[0;34m=\u001b[0m \u001b[0mbatch\u001b[0m\u001b[0;34m(\u001b[0m\u001b[0;34m)\u001b[0m\u001b[0;34m\u001b[0m\u001b[0m\n\u001b[0m\u001b[1;32m    333\u001b[0m \u001b[0;34m\u001b[0m\u001b[0m\n\u001b[1;32m    334\u001b[0m     \u001b[0;32mdef\u001b[0m \u001b[0mget\u001b[0m\u001b[0;34m(\u001b[0m\u001b[0mself\u001b[0m\u001b[0;34m)\u001b[0m\u001b[0;34m:\u001b[0m\u001b[0;34m\u001b[0m\u001b[0m\n",
      "\u001b[0;32m~/anaconda3/lib/python3.7/site-packages/sklearn/externals/joblib/parallel.py\u001b[0m in \u001b[0;36m__call__\u001b[0;34m(self)\u001b[0m\n\u001b[1;32m    129\u001b[0m \u001b[0;34m\u001b[0m\u001b[0m\n\u001b[1;32m    130\u001b[0m     \u001b[0;32mdef\u001b[0m \u001b[0m__call__\u001b[0m\u001b[0;34m(\u001b[0m\u001b[0mself\u001b[0m\u001b[0;34m)\u001b[0m\u001b[0;34m:\u001b[0m\u001b[0;34m\u001b[0m\u001b[0m\n\u001b[0;32m--> 131\u001b[0;31m         \u001b[0;32mreturn\u001b[0m \u001b[0;34m[\u001b[0m\u001b[0mfunc\u001b[0m\u001b[0;34m(\u001b[0m\u001b[0;34m*\u001b[0m\u001b[0margs\u001b[0m\u001b[0;34m,\u001b[0m \u001b[0;34m**\u001b[0m\u001b[0mkwargs\u001b[0m\u001b[0;34m)\u001b[0m \u001b[0;32mfor\u001b[0m \u001b[0mfunc\u001b[0m\u001b[0;34m,\u001b[0m \u001b[0margs\u001b[0m\u001b[0;34m,\u001b[0m \u001b[0mkwargs\u001b[0m \u001b[0;32min\u001b[0m \u001b[0mself\u001b[0m\u001b[0;34m.\u001b[0m\u001b[0mitems\u001b[0m\u001b[0;34m]\u001b[0m\u001b[0;34m\u001b[0m\u001b[0m\n\u001b[0m\u001b[1;32m    132\u001b[0m \u001b[0;34m\u001b[0m\u001b[0m\n\u001b[1;32m    133\u001b[0m     \u001b[0;32mdef\u001b[0m \u001b[0m__len__\u001b[0m\u001b[0;34m(\u001b[0m\u001b[0mself\u001b[0m\u001b[0;34m)\u001b[0m\u001b[0;34m:\u001b[0m\u001b[0;34m\u001b[0m\u001b[0m\n",
      "\u001b[0;32m~/anaconda3/lib/python3.7/site-packages/sklearn/externals/joblib/parallel.py\u001b[0m in \u001b[0;36m<listcomp>\u001b[0;34m(.0)\u001b[0m\n\u001b[1;32m    129\u001b[0m \u001b[0;34m\u001b[0m\u001b[0m\n\u001b[1;32m    130\u001b[0m     \u001b[0;32mdef\u001b[0m \u001b[0m__call__\u001b[0m\u001b[0;34m(\u001b[0m\u001b[0mself\u001b[0m\u001b[0;34m)\u001b[0m\u001b[0;34m:\u001b[0m\u001b[0;34m\u001b[0m\u001b[0m\n\u001b[0;32m--> 131\u001b[0;31m         \u001b[0;32mreturn\u001b[0m \u001b[0;34m[\u001b[0m\u001b[0mfunc\u001b[0m\u001b[0;34m(\u001b[0m\u001b[0;34m*\u001b[0m\u001b[0margs\u001b[0m\u001b[0;34m,\u001b[0m \u001b[0;34m**\u001b[0m\u001b[0mkwargs\u001b[0m\u001b[0;34m)\u001b[0m \u001b[0;32mfor\u001b[0m \u001b[0mfunc\u001b[0m\u001b[0;34m,\u001b[0m \u001b[0margs\u001b[0m\u001b[0;34m,\u001b[0m \u001b[0mkwargs\u001b[0m \u001b[0;32min\u001b[0m \u001b[0mself\u001b[0m\u001b[0;34m.\u001b[0m\u001b[0mitems\u001b[0m\u001b[0;34m]\u001b[0m\u001b[0;34m\u001b[0m\u001b[0m\n\u001b[0m\u001b[1;32m    132\u001b[0m \u001b[0;34m\u001b[0m\u001b[0m\n\u001b[1;32m    133\u001b[0m     \u001b[0;32mdef\u001b[0m \u001b[0m__len__\u001b[0m\u001b[0;34m(\u001b[0m\u001b[0mself\u001b[0m\u001b[0;34m)\u001b[0m\u001b[0;34m:\u001b[0m\u001b[0;34m\u001b[0m\u001b[0m\n",
      "\u001b[0;32m~/anaconda3/lib/python3.7/site-packages/sklearn/model_selection/_validation.py\u001b[0m in \u001b[0;36m_fit_and_score\u001b[0;34m(estimator, X, y, scorer, train, test, verbose, parameters, fit_params, return_train_score, return_parameters, return_n_test_samples, return_times, error_score)\u001b[0m\n\u001b[1;32m    456\u001b[0m             \u001b[0mestimator\u001b[0m\u001b[0;34m.\u001b[0m\u001b[0mfit\u001b[0m\u001b[0;34m(\u001b[0m\u001b[0mX_train\u001b[0m\u001b[0;34m,\u001b[0m \u001b[0;34m**\u001b[0m\u001b[0mfit_params\u001b[0m\u001b[0;34m)\u001b[0m\u001b[0;34m\u001b[0m\u001b[0m\n\u001b[1;32m    457\u001b[0m         \u001b[0;32melse\u001b[0m\u001b[0;34m:\u001b[0m\u001b[0;34m\u001b[0m\u001b[0m\n\u001b[0;32m--> 458\u001b[0;31m             \u001b[0mestimator\u001b[0m\u001b[0;34m.\u001b[0m\u001b[0mfit\u001b[0m\u001b[0;34m(\u001b[0m\u001b[0mX_train\u001b[0m\u001b[0;34m,\u001b[0m \u001b[0my_train\u001b[0m\u001b[0;34m,\u001b[0m \u001b[0;34m**\u001b[0m\u001b[0mfit_params\u001b[0m\u001b[0;34m)\u001b[0m\u001b[0;34m\u001b[0m\u001b[0m\n\u001b[0m\u001b[1;32m    459\u001b[0m \u001b[0;34m\u001b[0m\u001b[0m\n\u001b[1;32m    460\u001b[0m     \u001b[0;32mexcept\u001b[0m \u001b[0mException\u001b[0m \u001b[0;32mas\u001b[0m \u001b[0me\u001b[0m\u001b[0;34m:\u001b[0m\u001b[0;34m\u001b[0m\u001b[0m\n",
      "\u001b[0;32m~/anaconda3/lib/python3.7/site-packages/sklearn/neural_network/multilayer_perceptron.py\u001b[0m in \u001b[0;36mfit\u001b[0;34m(self, X, y)\u001b[0m\n\u001b[1;32m    618\u001b[0m         \u001b[0mself\u001b[0m \u001b[0;34m:\u001b[0m \u001b[0mreturns\u001b[0m \u001b[0ma\u001b[0m \u001b[0mtrained\u001b[0m \u001b[0mMLP\u001b[0m \u001b[0mmodel\u001b[0m\u001b[0;34m.\u001b[0m\u001b[0;34m\u001b[0m\u001b[0m\n\u001b[1;32m    619\u001b[0m         \"\"\"\n\u001b[0;32m--> 620\u001b[0;31m         \u001b[0;32mreturn\u001b[0m \u001b[0mself\u001b[0m\u001b[0;34m.\u001b[0m\u001b[0m_fit\u001b[0m\u001b[0;34m(\u001b[0m\u001b[0mX\u001b[0m\u001b[0;34m,\u001b[0m \u001b[0my\u001b[0m\u001b[0;34m,\u001b[0m \u001b[0mincremental\u001b[0m\u001b[0;34m=\u001b[0m\u001b[0;32mFalse\u001b[0m\u001b[0;34m)\u001b[0m\u001b[0;34m\u001b[0m\u001b[0m\n\u001b[0m\u001b[1;32m    621\u001b[0m \u001b[0;34m\u001b[0m\u001b[0m\n\u001b[1;32m    622\u001b[0m     \u001b[0;34m@\u001b[0m\u001b[0mproperty\u001b[0m\u001b[0;34m\u001b[0m\u001b[0m\n",
      "\u001b[0;32m~/anaconda3/lib/python3.7/site-packages/sklearn/neural_network/multilayer_perceptron.py\u001b[0m in \u001b[0;36m_fit\u001b[0;34m(self, X, y, incremental)\u001b[0m\n\u001b[1;32m    376\u001b[0m         \u001b[0;32mif\u001b[0m \u001b[0mself\u001b[0m\u001b[0;34m.\u001b[0m\u001b[0msolver\u001b[0m \u001b[0;32min\u001b[0m \u001b[0m_STOCHASTIC_SOLVERS\u001b[0m\u001b[0;34m:\u001b[0m\u001b[0;34m\u001b[0m\u001b[0m\n\u001b[1;32m    377\u001b[0m             self._fit_stochastic(X, y, activations, deltas, coef_grads,\n\u001b[0;32m--> 378\u001b[0;31m                                  intercept_grads, layer_units, incremental)\n\u001b[0m\u001b[1;32m    379\u001b[0m \u001b[0;34m\u001b[0m\u001b[0m\n\u001b[1;32m    380\u001b[0m         \u001b[0;31m# Run the LBFGS solver\u001b[0m\u001b[0;34m\u001b[0m\u001b[0;34m\u001b[0m\u001b[0m\n",
      "\u001b[0;32m~/anaconda3/lib/python3.7/site-packages/sklearn/neural_network/multilayer_perceptron.py\u001b[0m in \u001b[0;36m_fit_stochastic\u001b[0;34m(self, X, y, activations, deltas, coef_grads, intercept_grads, layer_units, incremental)\u001b[0m\n\u001b[1;32m    568\u001b[0m         \u001b[0;32mif\u001b[0m \u001b[0mearly_stopping\u001b[0m\u001b[0;34m:\u001b[0m\u001b[0;34m\u001b[0m\u001b[0m\n\u001b[1;32m    569\u001b[0m             \u001b[0;31m# restore best weights\u001b[0m\u001b[0;34m\u001b[0m\u001b[0;34m\u001b[0m\u001b[0m\n\u001b[0;32m--> 570\u001b[0;31m             \u001b[0mself\u001b[0m\u001b[0;34m.\u001b[0m\u001b[0mcoefs_\u001b[0m \u001b[0;34m=\u001b[0m \u001b[0mself\u001b[0m\u001b[0;34m.\u001b[0m\u001b[0m_best_coefs\u001b[0m\u001b[0;34m\u001b[0m\u001b[0m\n\u001b[0m\u001b[1;32m    571\u001b[0m             \u001b[0mself\u001b[0m\u001b[0;34m.\u001b[0m\u001b[0mintercepts_\u001b[0m \u001b[0;34m=\u001b[0m \u001b[0mself\u001b[0m\u001b[0;34m.\u001b[0m\u001b[0m_best_intercepts\u001b[0m\u001b[0;34m\u001b[0m\u001b[0m\n\u001b[1;32m    572\u001b[0m \u001b[0;34m\u001b[0m\u001b[0m\n",
      "\u001b[0;31mAttributeError\u001b[0m: 'MLPRegressor' object has no attribute '_best_coefs'"
     ]
    }
   ],
   "source": [
    "from sklearn.model_selection import GridSearchCV\n",
    "\n",
    "param_grid = {\n",
    "    'solver': ['adam'],\n",
    "    'activation': ['relu', 'tanh'],\n",
    "    'hidden_layer_sizes': [(1024, 4, 2), (1024,512,2)],\n",
    "    'early_stopping': [True]\n",
    "}\n",
    "\n",
    "grid_search = GridSearchCV(model, param_grid=param_grid, verbose=20)\n",
    "\n",
    "grid_search.fit(X_train_transformed, y_train)"
   ]
  },
  {
   "cell_type": "code",
   "execution_count": 59,
   "metadata": {},
   "outputs": [
    {
     "name": "stdout",
     "output_type": "stream",
     "text": [
      "{'activation': 'tanh', 'early_stopping': True, 'hidden_layer_sizes': (256, 512), 'solver': 'adam'}\n"
     ]
    }
   ],
   "source": [
    "print(grid_search.best_params_)"
   ]
  }
 ],
 "metadata": {
  "kernelspec": {
   "display_name": "Python 3",
   "language": "python",
   "name": "python3"
  },
  "language_info": {
   "codemirror_mode": {
    "name": "ipython",
    "version": 3
   },
   "file_extension": ".py",
   "mimetype": "text/x-python",
   "name": "python",
   "nbconvert_exporter": "python",
   "pygments_lexer": "ipython3",
   "version": "3.7.0"
  }
 },
 "nbformat": 4,
 "nbformat_minor": 2
}
