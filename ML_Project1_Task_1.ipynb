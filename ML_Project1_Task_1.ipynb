{
 "cells": [
  {
   "cell_type": "markdown",
   "metadata": {},
   "source": [
    "# Task 1"
   ]
  },
  {
   "cell_type": "markdown",
   "metadata": {},
   "source": [
    "### Imports"
   ]
  },
  {
   "cell_type": "code",
   "execution_count": 2,
   "metadata": {},
   "outputs": [],
   "source": [
    "import pandas as pd\n",
    "import numpy as np\n",
    "from sklearn.neural_network import MLPRegressor\n",
    "from sklearn.model_selection import GridSearchCV\n",
    "from sklearn.metrics import accuracy_score, mean_squared_error\n",
    "from sklearn.model_selection import train_test_split\n",
    "from sklearn.model_selection import cross_val_score\n",
    "import matplotlib.pyplot as plt"
   ]
  },
  {
   "cell_type": "markdown",
   "metadata": {},
   "source": [
    "#### 1) Build colleration matrix and filter results with corellation > 95 or < -.95"
   ]
  },
  {
   "cell_type": "code",
   "execution_count": 4,
   "metadata": {},
   "outputs": [
    {
     "name": "stdout",
     "output_type": "stream",
     "text": [
      "Total number of companies staisfying the correlation threshold:  72\n"
     ]
    }
   ],
   "source": [
    "df = pd.read_csv('sp500_27270.csv')\n",
    "\n",
    "# compute correlations\n",
    "corr = df.corr()\n",
    "filtered_companies = [company for company in corr['SP500'].keys() if corr['SP500'][company] > 0.95 or corr['SP500'][company] < -0.95]\n",
    "\n",
    "# select only the most corrleated companies\n",
    "df_filtered = df.filter(filtered_companies)\n",
    "\n",
    "print(\"Total number of companies staisfying the correlation threshold: \", len(filtered_companies))\n"
   ]
  },
  {
   "cell_type": "markdown",
   "metadata": {},
   "source": [
    "#### 2) Split dataset to training and testing"
   ]
  },
  {
   "cell_type": "code",
   "execution_count": 6,
   "metadata": {},
   "outputs": [
    {
     "name": "stdout",
     "output_type": "stream",
     "text": [
      "Training chunk length:  1008\n",
      "Testing chunk length:  252\n"
     ]
    }
   ],
   "source": [
    "TRAINING_PERCENTAGE = 0.8\n",
    "TESTING_PERCENTAGE = 0.2\n",
    "# VALIDATION_PERCENTAGE = 0.5 \n",
    "\n",
    "train, test = train_test_split(df_filtered, test_size=TESTING_PERCENTAGE)\n",
    "\n",
    "Y_train = list(train['SP500'])\n",
    "X_train = train.drop(columns=['SP500'])\n",
    "Y_test = list(test['SP500'])\n",
    "X_test = test.drop(columns=['SP500'])\n",
    "\n",
    "X_data = np.array(df_filtered.drop(columns=['SP500']))\n",
    "Y_data = np.array(df_filtered['SP500'])\n",
    "\n",
    "\n",
    "X_train, X_test, Y_train, Y_test = train_test_split(X_data, Y_data, test_size=TESTING_PERCENTAGE)\n",
    "\n",
    "\n",
    "print(\"Training chunk length: \", len(train))\n",
    "print(\"Testing chunk length: \", len(test))"
   ]
  },
  {
   "cell_type": "markdown",
   "metadata": {},
   "source": [
    "#### 3) Choose scoring metric "
   ]
  },
  {
   "cell_type": "code",
   "execution_count": 7,
   "metadata": {},
   "outputs": [],
   "source": [
    "# We chose MSE since it's a regression problem\n",
    "scoring_metric = \"neg_mean_squared_error\""
   ]
  },
  {
   "cell_type": "markdown",
   "metadata": {},
   "source": [
    "#### 4) Train the neural network with both the sgd and adam optimizer"
   ]
  },
  {
   "cell_type": "code",
   "execution_count": 8,
   "metadata": {},
   "outputs": [
    {
     "name": "stdout",
     "output_type": "stream",
     "text": [
      "\n",
      "-------------------------Adam-----------------------\n",
      "\n",
      "\n",
      "Score:  0.007473623564164367\n",
      "MSE:  99990.00737669984\n",
      "\n",
      "Score ADAM with constant learning rate of 0.05:  0.9791348150964168\n",
      "MSE:  2102.0196963605626\n",
      "\n",
      "Accuracy:  -0.9160408930343524\n",
      "MSE:  193027.5583370846\n",
      "\n",
      "Concluding learning rate:  0.05  is best\n"
     ]
    }
   ],
   "source": [
    "print(\"\\n-------------------------Adam-----------------------\\n\")\n",
    "\n",
    "model = MLPRegressor(early_stopping=True, max_iter=10000, random_state=1, learning_rate_init=0.1, learning_rate='adaptive', solver='adam')\n",
    "model.fit(X_train, Y_train)\n",
    "y_predictions = model.predict(X_test)\n",
    "score = model.score(X_test, Y_test)\n",
    "print(\"\\nScore: \", score)\n",
    "MSE = mean_squared_error(Y_test, y_predictions)\n",
    "print(\"MSE: \", MSE)\n",
    "\n",
    "model = MLPRegressor(early_stopping=True, max_iter=10000, random_state=1, learning_rate_init=0.05, learning_rate='adaptive', solver='adam')\n",
    "model.fit(X_train, Y_train)\n",
    "y_predictions = model.predict(X_test)\n",
    "score = model.score(X_test, Y_test)\n",
    "print(\"\\nScore ADAM with constant learning rate of 0.05: \", score)\n",
    "MSE = mean_squared_error(Y_test, y_predictions)\n",
    "print(\"MSE: \", MSE)\n",
    "\n",
    "model = MLPRegressor(early_stopping=True, max_iter=10000, random_state=1, learning_rate_init=0.01, learning_rate='adaptive', solver='adam')\n",
    "model.fit(X_train, Y_train)\n",
    "y_predictions = model.predict(X_test)\n",
    "score = model.score(X_test, Y_test)\n",
    "print(\"\\nAccuracy: \", score)\n",
    "MSE = mean_squared_error(Y_test, y_predictions)\n",
    "print(\"MSE: \", MSE)\n",
    "\n",
    "print(\"\\nConcluding learning rate: \", 0.05, \" is best\")\n",
    "\n"
   ]
  },
  {
   "cell_type": "code",
   "execution_count": 9,
   "metadata": {},
   "outputs": [
    {
     "name": "stdout",
     "output_type": "stream",
     "text": [
      "\n",
      "-------------------------SGD-----------------------\n",
      "\n",
      "\n",
      "Accuracy:  -277.70228396687986\n",
      "MSE:  28077282.469634168\n",
      "\n",
      "Accuracy:  -0.007642067501823169\n",
      "MSE:  101512.806263536\n",
      "\n",
      "Accuracy:  -13880343.506699048\n",
      "MSE:  1398346464705.4617\n",
      "\n",
      "Concluding SGD is worse in general\n"
     ]
    }
   ],
   "source": [
    "print(\"\\n-------------------------SGD-----------------------\\n\")\n",
    "\n",
    "model = MLPRegressor(early_stopping=True, max_iter=10000, random_state=1, learning_rate_init=0.05, learning_rate='adaptive', solver='sgd')\n",
    "model.fit(X_train, Y_train)\n",
    "y_predictions = model.predict(X_test)\n",
    "score = model.score(X_test, Y_test)\n",
    "print(\"\\nAccuracy: \", score)\n",
    "MSE = mean_squared_error(Y_test, y_predictions)\n",
    "print(\"MSE: \", MSE)\n",
    "\n",
    "model = MLPRegressor(early_stopping=True, max_iter=10000, random_state=1, learning_rate_init=0.1, learning_rate='adaptive', solver='sgd')\n",
    "model.fit(X_train, Y_train)\n",
    "y_predictions = model.predict(X_test)\n",
    "score = model.score(X_test, Y_test)\n",
    "print(\"\\nAccuracy: \", score)\n",
    "MSE = mean_squared_error(Y_test, y_predictions)\n",
    "print(\"MSE: \", MSE)\n",
    "\n",
    "model = MLPRegressor(early_stopping=True, max_iter=10000, random_state=1, learning_rate_init=0.2, learning_rate='adaptive', solver='sgd')\n",
    "model.fit(X_train, Y_train)\n",
    "y_predictions = model.predict(X_test)\n",
    "score = model.score(X_test, Y_test)\n",
    "print(\"\\nAccuracy: \", score)\n",
    "MSE = mean_squared_error(Y_test, y_predictions)\n",
    "print(\"MSE: \", MSE)\n",
    "\n",
    "print(\"\\nConcluding SGD is worse in general\")\n"
   ]
  },
  {
   "cell_type": "code",
   "execution_count": 10,
   "metadata": {},
   "outputs": [
    {
     "name": "stdout",
     "output_type": "stream",
     "text": [
      "\n",
      "Using grid search to find the best params: \n",
      "\n",
      "Fitting 3 folds for each of 12 candidates, totalling 36 fits\n",
      "[CV] learning_rate=adaptive, learning_rate_init=0.05, solver=sgd .....\n",
      "[CV]  learning_rate=adaptive, learning_rate_init=0.05, solver=sgd, score=-2.1817698925121844e+41, total=   0.1s\n",
      "[CV] learning_rate=adaptive, learning_rate_init=0.05, solver=sgd .....\n",
      "[CV]  learning_rate=adaptive, learning_rate_init=0.05, solver=sgd, score=-1.1305400815625042e+16, total=   0.1s\n",
      "[CV] learning_rate=adaptive, learning_rate_init=0.05, solver=sgd .....\n",
      "[CV]  learning_rate=adaptive, learning_rate_init=0.05, solver=sgd, score=-1.3318685230524438e+16, total=   0.1s\n",
      "[CV] learning_rate=adaptive, learning_rate_init=0.05, solver=adam ....\n"
     ]
    },
    {
     "name": "stderr",
     "output_type": "stream",
     "text": [
      "[Parallel(n_jobs=1)]: Done   1 out of   1 | elapsed:    0.1s remaining:    0.0s\n",
      "[Parallel(n_jobs=1)]: Done   2 out of   2 | elapsed:    0.1s remaining:    0.0s\n",
      "[Parallel(n_jobs=1)]: Done   3 out of   3 | elapsed:    0.2s remaining:    0.0s\n",
      "[Parallel(n_jobs=1)]: Done   4 out of   4 | elapsed:    0.2s remaining:    0.0s\n",
      "[Parallel(n_jobs=1)]: Done   5 out of   5 | elapsed:    0.3s remaining:    0.0s\n"
     ]
    },
    {
     "name": "stdout",
     "output_type": "stream",
     "text": [
      "[CV]  learning_rate=adaptive, learning_rate_init=0.05, solver=adam, score=-57523.96054303957, total=   0.0s\n",
      "[CV] learning_rate=adaptive, learning_rate_init=0.05, solver=adam ....\n",
      "[CV]  learning_rate=adaptive, learning_rate_init=0.05, solver=adam, score=-57434.95636069881, total=   0.0s\n",
      "[CV] learning_rate=adaptive, learning_rate_init=0.05, solver=adam ....\n",
      "[CV]  learning_rate=adaptive, learning_rate_init=0.05, solver=adam, score=-103850.14943550651, total=   0.0s\n",
      "[CV] learning_rate=adaptive, learning_rate_init=0.1, solver=sgd ......\n",
      "[CV]  learning_rate=adaptive, learning_rate_init=0.1, solver=sgd, score=-1.0821074699238698e+42, total=   0.1s\n",
      "[CV] learning_rate=adaptive, learning_rate_init=0.1, solver=sgd ......\n",
      "[CV]  learning_rate=adaptive, learning_rate_init=0.1, solver=sgd, score=-7.979617483440622e+16, total=   0.1s\n",
      "[CV] learning_rate=adaptive, learning_rate_init=0.1, solver=sgd ......\n"
     ]
    },
    {
     "name": "stderr",
     "output_type": "stream",
     "text": [
      "[Parallel(n_jobs=1)]: Done   6 out of   6 | elapsed:    0.3s remaining:    0.0s\n",
      "[Parallel(n_jobs=1)]: Done   7 out of   7 | elapsed:    0.4s remaining:    0.0s\n",
      "[Parallel(n_jobs=1)]: Done   8 out of   8 | elapsed:    0.4s remaining:    0.0s\n"
     ]
    },
    {
     "name": "stdout",
     "output_type": "stream",
     "text": [
      "[CV]  learning_rate=adaptive, learning_rate_init=0.1, solver=sgd, score=-9.400644798860757e+16, total=   0.1s\n",
      "[CV] learning_rate=adaptive, learning_rate_init=0.1, solver=adam .....\n",
      "[CV]  learning_rate=adaptive, learning_rate_init=0.1, solver=adam, score=-60984.036276190694, total=   0.0s\n",
      "[CV] learning_rate=adaptive, learning_rate_init=0.1, solver=adam .....\n",
      "[CV]  learning_rate=adaptive, learning_rate_init=0.1, solver=adam, score=-149922.301198626, total=   0.0s\n",
      "[CV] learning_rate=adaptive, learning_rate_init=0.1, solver=adam .....\n",
      "[CV]  learning_rate=adaptive, learning_rate_init=0.1, solver=adam, score=-70906.50066125022, total=   0.0s\n",
      "[CV] learning_rate=adaptive, learning_rate_init=0.001, solver=sgd ....\n",
      "[CV]  learning_rate=adaptive, learning_rate_init=0.001, solver=sgd, score=-460593266376722.56, total=   0.0s\n",
      "[CV] learning_rate=adaptive, learning_rate_init=0.001, solver=sgd ....\n",
      "[CV]  learning_rate=adaptive, learning_rate_init=0.001, solver=sgd, score=-175336880878515.34, total=   0.0s\n",
      "[CV] learning_rate=adaptive, learning_rate_init=0.001, solver=sgd ....\n",
      "[CV]  learning_rate=adaptive, learning_rate_init=0.001, solver=sgd, score=-206541676517714.47, total=   0.0s\n",
      "[CV] learning_rate=adaptive, learning_rate_init=0.001, solver=adam ...\n"
     ]
    },
    {
     "name": "stderr",
     "output_type": "stream",
     "text": [
      "[Parallel(n_jobs=1)]: Done   9 out of   9 | elapsed:    0.5s remaining:    0.0s\n",
      "[Parallel(n_jobs=1)]: Done  10 out of  10 | elapsed:    0.6s remaining:    0.0s\n",
      "[Parallel(n_jobs=1)]: Done  11 out of  11 | elapsed:    0.6s remaining:    0.0s\n",
      "[Parallel(n_jobs=1)]: Done  12 out of  12 | elapsed:    0.6s remaining:    0.0s\n",
      "[Parallel(n_jobs=1)]: Done  13 out of  13 | elapsed:    0.6s remaining:    0.0s\n",
      "[Parallel(n_jobs=1)]: Done  14 out of  14 | elapsed:    0.7s remaining:    0.0s\n",
      "[Parallel(n_jobs=1)]: Done  15 out of  15 | elapsed:    0.7s remaining:    0.0s\n"
     ]
    },
    {
     "name": "stdout",
     "output_type": "stream",
     "text": [
      "[CV]  learning_rate=adaptive, learning_rate_init=0.001, solver=adam, score=-89629.40730446095, total=   0.1s\n",
      "[CV] learning_rate=adaptive, learning_rate_init=0.001, solver=adam ...\n",
      "[CV]  learning_rate=adaptive, learning_rate_init=0.001, solver=adam, score=-91623.0011965194, total=   0.0s\n",
      "[CV] learning_rate=adaptive, learning_rate_init=0.001, solver=adam ...\n",
      "[CV]  learning_rate=adaptive, learning_rate_init=0.001, solver=adam, score=-95976.41699616199, total=   0.0s\n",
      "[CV] learning_rate=constant, learning_rate_init=0.05, solver=sgd .....\n",
      "[CV]  learning_rate=constant, learning_rate_init=0.05, solver=sgd, score=-1.1570313588751321e+42, total=   0.0s\n",
      "[CV] learning_rate=constant, learning_rate_init=0.05, solver=sgd .....\n",
      "[CV]  learning_rate=constant, learning_rate_init=0.05, solver=sgd, score=-1.553394239309497e+21, total=   0.0s\n",
      "[CV] learning_rate=constant, learning_rate_init=0.05, solver=sgd .....\n",
      "[CV]  learning_rate=constant, learning_rate_init=0.05, solver=sgd, score=-1.8300248263278804e+21, total=   0.0s\n",
      "[CV] learning_rate=constant, learning_rate_init=0.05, solver=adam ....\n",
      "[CV]  learning_rate=constant, learning_rate_init=0.05, solver=adam, score=-57523.96054303957, total=   0.0s\n",
      "[CV] learning_rate=constant, learning_rate_init=0.05, solver=adam ....\n"
     ]
    },
    {
     "name": "stderr",
     "output_type": "stream",
     "text": [
      "[Parallel(n_jobs=1)]: Done  16 out of  16 | elapsed:    0.8s remaining:    0.0s\n",
      "[Parallel(n_jobs=1)]: Done  17 out of  17 | elapsed:    0.8s remaining:    0.0s\n",
      "[Parallel(n_jobs=1)]: Done  18 out of  18 | elapsed:    0.9s remaining:    0.0s\n",
      "[Parallel(n_jobs=1)]: Done  19 out of  19 | elapsed:    0.9s remaining:    0.0s\n"
     ]
    },
    {
     "name": "stdout",
     "output_type": "stream",
     "text": [
      "[CV]  learning_rate=constant, learning_rate_init=0.05, solver=adam, score=-57434.95636069881, total=   0.0s\n",
      "[CV] learning_rate=constant, learning_rate_init=0.05, solver=adam ....\n",
      "[CV]  learning_rate=constant, learning_rate_init=0.05, solver=adam, score=-103850.14943550651, total=   0.0s\n",
      "[CV] learning_rate=constant, learning_rate_init=0.1, solver=sgd ......\n",
      "[CV]  learning_rate=constant, learning_rate_init=0.1, solver=sgd, score=-4.431599112635735e+46, total=   0.0s\n",
      "[CV] learning_rate=constant, learning_rate_init=0.1, solver=sgd ......\n",
      "[CV]  learning_rate=constant, learning_rate_init=0.1, solver=sgd, score=-1.5889566960657753e+22, total=   0.0s\n",
      "[CV] learning_rate=constant, learning_rate_init=0.1, solver=sgd ......\n",
      "[CV]  learning_rate=constant, learning_rate_init=0.1, solver=sgd, score=-1.8719215490868577e+22, total=   0.0s\n",
      "[CV] learning_rate=constant, learning_rate_init=0.1, solver=adam .....\n",
      "[CV]  learning_rate=constant, learning_rate_init=0.1, solver=adam, score=-60984.036276190694, total=   0.0s\n",
      "[CV] learning_rate=constant, learning_rate_init=0.1, solver=adam .....\n",
      "[CV]  learning_rate=constant, learning_rate_init=0.1, solver=adam, score=-149922.301198626, total=   0.0s\n",
      "[CV] learning_rate=constant, learning_rate_init=0.1, solver=adam .....\n",
      "[CV]  learning_rate=constant, learning_rate_init=0.1, solver=adam, score=-70906.50066125022, total=   0.0s\n",
      "[CV] learning_rate=constant, learning_rate_init=0.001, solver=sgd ....\n",
      "[CV]  learning_rate=constant, learning_rate_init=0.001, solver=sgd, score=-460593266376722.56, total=   0.0s\n",
      "[CV] learning_rate=constant, learning_rate_init=0.001, solver=sgd ....\n",
      "[CV]  learning_rate=constant, learning_rate_init=0.001, solver=sgd, score=-175336880878515.34, total=   0.0s\n",
      "[CV] learning_rate=constant, learning_rate_init=0.001, solver=sgd ....\n",
      "[CV]  learning_rate=constant, learning_rate_init=0.001, solver=sgd, score=-206541676517714.47, total=   0.0s\n",
      "[CV] learning_rate=constant, learning_rate_init=0.001, solver=adam ...\n",
      "[CV]  learning_rate=constant, learning_rate_init=0.001, solver=adam, score=-89629.40730446095, total=   0.1s\n",
      "[CV] learning_rate=constant, learning_rate_init=0.001, solver=adam ...\n",
      "[CV]  learning_rate=constant, learning_rate_init=0.001, solver=adam, score=-91623.0011965194, total=   0.1s\n",
      "[CV] learning_rate=constant, learning_rate_init=0.001, solver=adam ...\n",
      "[CV]  learning_rate=constant, learning_rate_init=0.001, solver=adam, score=-95976.41699616199, total=   0.1s\n",
      "{'learning_rate': 'adaptive', 'learning_rate_init': 0.05, 'solver': 'adam'}\n",
      "Score:  -2102.0196963605626\n"
     ]
    },
    {
     "name": "stderr",
     "output_type": "stream",
     "text": [
      "[Parallel(n_jobs=1)]: Done  36 out of  36 | elapsed:    1.4s finished\n"
     ]
    }
   ],
   "source": [
    "param_grid = {'learning_rate' : ['adaptive', 'constant'],\n",
    "              'solver': ['sgd', 'adam'],\n",
    "              'learning_rate_init': [0.05, 0.1, 0.001],\n",
    "              # 'hidden_layer_sizes': [(15, 2), (10, 2), (20, 2), (30, 2)]\n",
    "             }\n",
    "\n",
    "\n",
    "print(\"\\nUsing grid search to find the best params: \\n\")\n",
    "gs = GridSearchCV(model, param_grid=param_grid, verbose=20, scoring=scoring_metric)\n",
    "gs.fit(X_train, Y_train)\n",
    "print(gs.best_params_)\n",
    "score = gs.score(X_test, Y_test)\n",
    "print(\"Score: \", score)\n",
    "\n"
   ]
  },
  {
   "cell_type": "code",
   "execution_count": 11,
   "metadata": {},
   "outputs": [
    {
     "name": "stdout",
     "output_type": "stream",
     "text": [
      "Finally using best params\n",
      "\n",
      "\n",
      "Accuracy:  0.9791348150964168\n",
      "MSE:  2102.0196963605626\n"
     ]
    }
   ],
   "source": [
    "print(\"Finally using best params\\n\")\n",
    "\n",
    "model = MLPRegressor(early_stopping=True, max_iter=10000, random_state=1,\n",
    "                     learning_rate_init=0.05, learning_rate='adaptive', solver='adam')\n",
    "model.fit(X_train, Y_train)\n",
    "y_predictions = model.predict(X_test)\n",
    "score = model.score(X_test, Y_test)\n",
    "print(\"\\nAccuracy: \", score)\n",
    "MSE = mean_squared_error(Y_test, y_predictions)\n",
    "print(\"MSE: \", MSE)"
   ]
  },
  {
   "cell_type": "markdown",
   "metadata": {},
   "source": [
    "#### 5) Indicate which regularization technique you use to avoid overfitting."
   ]
  },
  {
   "cell_type": "code",
   "execution_count": null,
   "metadata": {},
   "outputs": [],
   "source": []
  },
  {
   "cell_type": "markdown",
   "metadata": {},
   "source": [
    "#### 6) Which optimizer performs better in this task? Why?"
   ]
  },
  {
   "cell_type": "code",
   "execution_count": 12,
   "metadata": {},
   "outputs": [
    {
     "name": "stdout",
     "output_type": "stream",
     "text": [
      "Validation score:  [-97194.52442755 -96937.70727927 -83983.17156416]\n"
     ]
    }
   ],
   "source": [
    "cros_score = cross_val_score(model, X_test, Y_test, scoring=scoring_metric)\n",
    "print(\"Validation score: \", cros_score)"
   ]
  },
  {
   "cell_type": "code",
   "execution_count": 13,
   "metadata": {},
   "outputs": [
    {
     "data": {
      "text/plain": [
       "-92705.13442366058"
      ]
     },
     "execution_count": 13,
     "metadata": {},
     "output_type": "execute_result"
    }
   ],
   "source": [
    "cros_score.mean()"
   ]
  },
  {
   "cell_type": "markdown",
   "metadata": {},
   "source": [
    "Adam is the best optimizer because that's what the GridSearch tells us. overall, it hase lowest training error/loss"
   ]
  },
  {
   "cell_type": "markdown",
   "metadata": {},
   "source": [
    "#### 7) Plotting predicted vs actual Y values"
   ]
  },
  {
   "cell_type": "code",
   "execution_count": 62,
   "metadata": {},
   "outputs": [
    {
     "data": {
      "image/png": "[encoded data removed]",
      "text/plain": [
       "<Figure size 432x288 with 1 Axes>"
      ]
     },
     "metadata": {
      "needs_background": "light"
     },
     "output_type": "display_data"
    }
   ],
   "source": [
    "fig = plt.figure()\n",
    "ax = fig.add_axes([1,0.1,0.8,0.8])\n",
    "ax.scatter(X_test[:,1], Y_test, c='r', label='Actual values')\n",
    "ax.scatter(X_test[:,1], y_predictions, c='b', label='Predicted values')\n",
    "\n",
    "ax.grid()\n",
    "ax.legend(loc='best')\n",
    "ax.set_xlabel('One of the companies')\n",
    "ax.set_ylabel('S&P')\n",
    "ax.set_title('S&P VS Company')\n",
    "\n",
    "plt.show()"
   ]
  },
  {
   "cell_type": "markdown",
   "metadata": {},
   "source": [
    "#### 8) Comment on the points where the prediction and true values mismatch most"
   ]
  },
  {
   "cell_type": "code",
   "execution_count": null,
   "metadata": {},
   "outputs": [],
   "source": []
  },
  {
   "cell_type": "code",
   "execution_count": null,
   "metadata": {},
   "outputs": [],
   "source": []
  },
  {
   "cell_type": "code",
   "execution_count": null,
   "metadata": {},
   "outputs": [],
   "source": []
  },
  {
   "cell_type": "markdown",
   "metadata": {},
   "source": [
    "# Task 2"
   ]
  },
  {
   "cell_type": "markdown",
   "metadata": {},
   "source": [
    "#### 1) get most correlated company"
   ]
  },
  {
   "cell_type": "code",
   "execution_count": 36,
   "metadata": {},
   "outputs": [
    {
     "name": "stdout",
     "output_type": "stream",
     "text": [
      "APH\n",
      "0.9883608178608217\n"
     ]
    }
   ],
   "source": [
    "max_corr = -100\n",
    "max_company = ''\n",
    "\n",
    "for i in corr['SP500'].keys():\n",
    "    if corr['SP500'][i] > max_corr and i != 'SP500':\n",
    "        max_corr = corr['SP500'][i]\n",
    "        max_company = i\n",
    "        \n",
    "        \n",
    "print(max_company)\n",
    "print(max_corr)\n",
    "\n",
    "max_company_data = df[max_company]\n",
    "# print(max_company_data)"
   ]
  },
  {
   "cell_type": "markdown",
   "metadata": {},
   "source": [
    "#### 2) prepare input and output data set of days using shifting"
   ]
  },
  {
   "cell_type": "code",
   "execution_count": 37,
   "metadata": {},
   "outputs": [
    {
     "name": "stdout",
     "output_type": "stream",
     "text": [
      "[[36.2702, 35.8013, 36.2127, 36.4472, 36.8634], [35.8013, 36.2127, 36.4472, 36.8634, 36.8873], [36.2127, 36.4472, 36.8634, 36.8873, 37.0548], [36.4472, 36.8634, 36.8873, 37.0548, 37.8203], [36.8634, 36.8873, 37.0548, 37.8203, 38.8106], [36.8873, 37.0548, 37.8203, 38.8106, 39.3896], [37.0548, 37.8203, 38.8106, 39.3896, 39.3943], [37.8203, 38.8106, 39.3896, 39.3943, 39.2269], [38.8106, 39.3896, 39.3943, 39.2269, 39.0212], [39.3896, 39.3943, 39.2269, 39.0212, 38.891999999999996], [39.3943, 39.2269, 39.0212, 38.891999999999996, 38.8824], [39.2269, 39.0212, 38.891999999999996, 38.8824, 38.6241], [39.0212, 38.891999999999996, 38.8824, 38.6241, 38.7245], [38.891999999999996, 38.8824, 38.6241, 38.7245, 38.4757], [38.8824, 38.6241, 38.7245, 38.4757, 38.4135], [38.6241, 38.7245, 38.4757, 38.4135, 38.2413], [38.7245, 38.4757, 38.4135, 38.2413, 38.4135], [38.4757, 38.4135, 38.2413, 38.4135, 38.1791], [38.4135, 38.2413, 38.4135, 38.1791, 38.6958], [38.2413, 38.4135, 38.1791, 38.6958, 38.404], [38.4135, 38.1791, 38.6958, 38.404, 38.9159], [38.1791, 38.6958, 38.404, 38.9159, 38.7963], [38.6958, 38.404, 38.9159, 38.7963, 38.9303], [38.404, 38.9159, 38.7963, 38.9303, 39.0834], [38.9159, 38.7963, 38.9303, 39.0834, 39.5761], [38.7963, 38.9303, 39.0834, 39.5761, 40.2364], [38.9303, 39.0834, 39.5761, 40.2364, 40.5617], [39.0834, 39.5761, 40.2364, 40.5617, 40.4947], [39.5761, 40.2364, 40.5617, 40.4947, 40.6239], [40.2364, 40.5617, 40.4947, 40.6239, 40.6622], [40.5617, 40.4947, 40.6239, 40.6622, 40.7196], [40.4947, 40.6239, 40.6622, 40.7196, 40.6909], [40.6239, 40.6622, 40.7196, 40.6909, 40.667], [40.6622, 40.7196, 40.6909, 40.667, 40.6718], [40.7196, 40.6909, 40.667, 40.6718, 40.667], [40.6909, 40.667, 40.6718, 40.667, 40.6909], [40.667, 40.6718, 40.667, 40.6909, 40.8296], [40.6718, 40.667, 40.6909, 40.8296, 40.7435], [40.667, 40.6909, 40.8296, 40.7435, 40.6813], [40.6909, 40.8296, 40.7435, 40.6813, 41.198], [40.8296, 40.7435, 40.6813, 41.198, 41.5241], [40.7435, 40.6813, 41.198, 41.5241, 41.4714], [40.6813, 41.198, 41.5241, 41.4714, 40.7377], [41.198, 41.5241, 41.4714, 40.7377, 40.7904], [41.5241, 41.4714, 40.7377, 40.7904, 40.8384], [41.4714, 40.7377, 40.7904, 40.8384, 41.2652], [40.7377, 40.7904, 40.8384, 41.2652, 41.3947], [40.7904, 40.8384, 41.2652, 41.3947, 41.8215], [40.8384, 41.2652, 41.3947, 41.8215, 41.7351], [41.2652, 41.3947, 41.8215, 41.7351, 42.1044], [41.3947, 41.8215, 41.7351, 42.1044, 42.1476], [41.8215, 41.7351, 42.1044, 42.1476, 42.2914], [41.7351, 42.1044, 42.1476, 42.2914, 42.4065], [42.1044, 42.1476, 42.2914, 42.4065, 42.3298], [42.1476, 42.2914, 42.4065, 42.3298, 42.5408], [42.2914, 42.4065, 42.3298, 42.5408, 42.7662], [42.4065, 42.3298, 42.5408, 42.7662, 42.0756], [42.3298, 42.5408, 42.7662, 42.0756, 42.2291], [42.5408, 42.7662, 42.0756, 42.2291, 41.8406], [42.7662, 42.0756, 42.2291, 41.8406, 42.1236], [42.0756, 42.2291, 41.8406, 42.1236, 42.3586], [42.2291, 41.8406, 42.1236, 42.3586, 42.8813], [41.8406, 42.1236, 42.3586, 42.8813, 42.8429], [42.1236, 42.3586, 42.8813, 42.8429, 42.771], [42.3586, 42.8813, 42.8429, 42.771, 44.3151], [42.8813, 42.8429, 42.771, 44.3151, 44.1425], [42.8429, 42.771, 44.3151, 44.1425, 44.0562], [42.771, 44.3151, 44.1425, 44.0562, 44.1569], [44.3151, 44.1425, 44.0562, 44.1569, 43.6581], [44.1425, 44.0562, 44.1569, 43.6581, 43.6725], [44.0562, 44.1569, 43.6581, 43.6725, 42.4353], [44.1569, 43.6581, 43.6725, 42.4353, 41.1885], [43.6581, 43.6725, 42.4353, 41.1885, 40.9247], [43.6725, 42.4353, 41.1885, 40.9247, 41.2844], [42.4353, 41.1885, 40.9247, 41.2844, 41.0638], [41.1885, 40.9247, 41.2844, 41.0638, 41.5625], [40.9247, 41.2844, 41.0638, 41.5625, 41.6632], [41.2844, 41.0638, 41.5625, 41.6632, 40.6082], [41.0638, 41.5625, 41.6632, 40.6082, 40.7425], [41.5625, 41.6632, 40.6082, 40.7425, 40.9199], [41.6632, 40.6082, 40.7425, 40.9199, 41.5769], [40.6082, 40.7425, 40.9199, 41.5769, 41.8934], [40.7425, 40.9199, 41.5769, 41.8934, 41.7351], [40.9199, 41.5769, 41.8934, 41.7351, 42.1811], [41.5769, 41.8934, 41.7351, 42.1811, 42.3346], [41.8934, 41.7351, 42.1811, 42.3346, 42.4593], [41.7351, 42.1811, 42.3346, 42.4593, 42.3298], [42.1811, 42.3346, 42.4593, 42.3298, 42.6079], [42.3346, 42.4593, 42.3298, 42.6079, 42.4641], [42.4593, 42.3298, 42.6079, 42.4641, 42.6559], [42.3298, 42.6079, 42.4641, 42.6559, 42.277], [42.6079, 42.4641, 42.6559, 42.277, 42.6367], [42.4641, 42.6559, 42.277, 42.6367, 42.3586], [42.6559, 42.277, 42.6367, 42.3586, 41.7591], [42.277, 42.6367, 42.3586, 41.7591, 42.0037], [42.6367, 42.3586, 41.7591, 42.0037, 42.2099], [42.3586, 41.7591, 42.0037, 42.2099, 42.0948], [41.7591, 42.0037, 42.2099, 42.0948, 43.1498], [42.0037, 42.2099, 42.0948, 43.1498, 42.8237], [42.2099, 42.0948, 43.1498, 42.8237, 43.2793], [42.0948, 43.1498, 42.8237, 43.2793, 43.356], [43.1498, 42.8237, 43.2793, 43.356, 43.4906], [42.8237, 43.2793, 43.356, 43.4906, 43.1782], [43.2793, 43.356, 43.4906, 43.1782, 43.5242], [43.356, 43.4906, 43.1782, 43.5242, 43.3656], [43.4906, 43.1782, 43.5242, 43.3656, 43.4906], [43.1782, 43.5242, 43.3656, 43.4906, 43.851000000000006], [43.5242, 43.3656, 43.4906, 43.851000000000006, 44.0962], [43.3656, 43.4906, 43.851000000000006, 44.0962, 43.803000000000004], [43.4906, 43.851000000000006, 44.0962, 43.803000000000004, 44.0577], [43.851000000000006, 44.0962, 43.803000000000004, 44.0577, 44.8171], [44.0962, 43.803000000000004, 44.0577, 44.8171, 44.4566], [43.803000000000004, 44.0577, 44.8171, 44.4566, 44.5624], [44.0577, 44.8171, 44.4566, 44.5624, 43.9616], [44.8171, 44.4566, 44.5624, 43.9616, 43.63], [44.4566, 44.5624, 43.9616, 43.63, 44.0337], [44.5624, 43.9616, 43.63, 44.0337, 44.0481], [43.9616, 43.63, 44.0337, 44.0481, 44.321999999999996], [43.63, 44.0337, 44.0481, 44.321999999999996, 45.1775], [44.0337, 44.0481, 44.321999999999996, 45.1775, 45.0526], [44.0481, 44.321999999999996, 45.1775, 45.0526, 44.5624], [44.321999999999996, 45.1775, 45.0526, 44.5624, 43.9616], [45.1775, 45.0526, 44.5624, 43.9616, 44.0817], [45.0526, 44.5624, 43.9616, 44.0817, 44.7642], [44.5624, 43.9616, 44.0817, 44.7642, 43.7597], [43.9616, 44.0817, 44.7642, 43.7597, 43.5098], [44.0817, 44.7642, 43.7597, 43.5098, 43.8414], [44.7642, 43.7597, 43.5098, 43.8414, 43.9087], [43.7597, 43.5098, 43.8414, 43.9087, 44.8796], [43.5098, 43.8414, 43.9087, 44.8796, 45.2352], [43.8414, 43.9087, 44.8796, 45.2352, 45.3506], [43.9087, 44.8796, 45.2352, 45.3506, 45.663000000000004], [44.8796, 45.2352, 45.3506, 45.663000000000004, 45.9129], [45.2352, 45.3506, 45.663000000000004, 45.9129, 46.2926], [45.3506, 45.663000000000004, 45.9129, 46.2926, 45.5188], [45.663000000000004, 45.9129, 46.2926, 45.5188, 45.5284], [45.9129, 46.2926, 45.5188, 45.5284, 45.6533], [46.2926, 45.5188, 45.5284, 45.6533, 45.8264], [45.5188, 45.5284, 45.6533, 45.8264, 46.2974], [45.5284, 45.6533, 45.8264, 46.2974, 46.0138], [45.6533, 45.8264, 46.2974, 46.0138, 46.3983], [45.8264, 46.2974, 46.0138, 46.3983, 45.8119], [46.2974, 46.0138, 46.3983, 45.8119, 45.9802], [46.0138, 46.3983, 45.8119, 45.9802, 45.9033], [46.3983, 45.8119, 45.9802, 45.9033, 46.1388], [45.8119, 45.9802, 45.9033, 46.1388, 46.4415], [45.9802, 45.9033, 46.1388, 46.4415, 46.1964], [45.9033, 46.1388, 46.4415, 46.1964, 45.9321], [46.1388, 46.4415, 46.1964, 45.9321, 45.562], [46.4415, 46.1964, 45.9321, 45.562, 45.8936], [46.1964, 45.9321, 45.562, 45.8936, 46.0282], [45.9321, 45.562, 45.8936, 46.0282, 45.4659], [45.562, 45.8936, 46.0282, 45.4659, 45.7302], [45.8936, 46.0282, 45.4659, 45.7302, 45.8648], [46.0282, 45.4659, 45.7302, 45.8648, 45.9994], [45.4659, 45.7302, 45.8648, 45.9994, 45.8985], [45.7302, 45.8648, 45.9994, 45.8985, 45.8071], [45.8648, 45.9994, 45.8985, 45.8071, 46.1003], [45.9994, 45.8985, 45.8071, 46.1003, 46.0426], [45.8985, 45.8071, 46.1003, 46.0426, 46.5377], [45.8071, 46.1003, 46.0426, 46.5377, 46.3646], [46.1003, 46.0426, 46.5377, 46.3646, 46.1868], [46.0426, 46.5377, 46.3646, 46.1868, 46.5569], [46.5377, 46.3646, 46.1868, 46.5569, 46.9029], [46.3646, 46.1868, 46.5569, 46.9029, 47.293], [46.1868, 46.5569, 46.9029, 47.293, 47.0329], [46.5569, 46.9029, 47.293, 47.0329, 47.2256], [46.9029, 47.293, 47.0329, 47.2256, 46.7199], [47.293, 47.0329, 47.2256, 46.7199, 46.6284], [47.0329, 47.2256, 46.7199, 46.6284, 46.4647], [47.2256, 46.7199, 46.6284, 46.4647, 46.5947], [46.7199, 46.6284, 46.4647, 46.5947, 46.7151], [46.6284, 46.4647, 46.5947, 46.7151, 46.9126], [46.4647, 46.5947, 46.7151, 46.9126, 46.9463], [46.5947, 46.7151, 46.9126, 46.9463, 46.7633], [46.7151, 46.9126, 46.9463, 46.7633, 46.3154], [46.9126, 46.9463, 46.7633, 46.3154, 46.2961], [46.9463, 46.7633, 46.3154, 46.2961, 46.0264], [46.7633, 46.3154, 46.2961, 46.0264, 46.3635], [46.3154, 46.2961, 46.0264, 46.3635, 46.3972], [46.2961, 46.0264, 46.3635, 46.3972, 46.8837], [46.0264, 46.3635, 46.3972, 46.8837, 46.8114], [46.3635, 46.3972, 46.8837, 46.8114, 47.11], [46.3972, 46.8837, 46.8114, 47.11, 47.1148], [46.8837, 46.8114, 47.11, 47.1148, 47.0426], [46.8114, 47.11, 47.1148, 47.0426, 46.8499], [47.11, 47.1148, 47.0426, 46.8499, 46.5513], [47.1148, 47.0426, 46.8499, 46.5513, 46.5176], [47.0426, 46.8499, 46.5513, 46.5176, 46.6958], [46.8499, 46.5513, 46.5176, 46.6958, 46.4743], [46.5513, 46.5176, 46.6958, 46.4743, 46.4743], [46.5176, 46.6958, 46.4743, 46.4743, 46.4117], [46.6958, 46.4743, 46.4743, 46.4117, 46.4117], [46.4743, 46.4743, 46.4117, 46.4117, 46.3972], [46.4743, 46.4117, 46.4117, 46.3972, 46.8162], [46.4117, 46.4117, 46.3972, 46.8162, 46.7055], [46.4117, 46.3972, 46.8162, 46.7055, 47.056999999999995], [46.3972, 46.8162, 46.7055, 47.056999999999995, 47.0041], [46.8162, 46.7055, 47.056999999999995, 47.0041, 47.0089], [46.7055, 47.056999999999995, 47.0041, 47.0089, 46.797], [47.056999999999995, 47.0041, 47.0089, 46.797, 46.9126], [47.0041, 47.0089, 46.797, 46.9126, 46.3154], [47.0089, 46.797, 46.9126, 46.3154, 46.7921], [46.797, 46.9126, 46.3154, 46.7921, 46.7921], [46.9126, 46.3154, 46.7921, 46.7921, 46.8933], [46.3154, 46.7921, 46.7921, 46.8933, 47.11], [46.7921, 46.7921, 46.8933, 47.11, 46.927], [46.7921, 46.8933, 47.11, 46.927, 47.4808], [46.8933, 47.11, 46.927, 47.4808, 47.7891], [47.11, 46.927, 47.4808, 47.7891, 48.0876], [46.927, 47.4808, 47.7891, 48.0876, 48.1743], [47.4808, 47.7891, 48.0876, 48.1743, 48.5933], [47.7891, 48.0876, 48.1743, 48.5933, 48.3477], [48.0876, 48.1743, 48.5933, 48.3477, 49.022], [48.1743, 48.5933, 48.3477, 49.022, 49.2146], [48.5933, 48.3477, 49.022, 49.2146, 49.2435], [48.3477, 49.022, 49.2146, 49.2435, 50.2693], [49.022, 49.2146, 49.2435, 50.2693, 50.013999999999996], [49.2146, 49.2435, 50.2693, 50.013999999999996, 50.2404], [49.2435, 50.2693, 50.013999999999996, 50.2404, 49.9803], [50.2693, 50.013999999999996, 50.2404, 49.9803, 49.8503], [50.013999999999996, 50.2404, 49.9803, 49.8503, 49.7925], [50.2404, 49.9803, 49.8503, 49.7925, 49.6095], [49.9803, 49.8503, 49.7925, 49.6095, 50.2308], [49.8503, 49.7925, 49.6095, 50.2308, 50.1585], [49.7925, 49.6095, 50.2308, 50.1585, 50.0526], [49.6095, 50.2308, 50.1585, 50.0526, 50.1441], [50.2308, 50.1585, 50.0526, 50.1441, 50.1399], [50.1585, 50.0526, 50.1441, 50.1399, 49.8315], [50.0526, 50.1441, 50.1399, 49.8315, 49.8123], [50.1441, 50.1399, 49.8315, 49.8123, 50.3133], [50.1399, 49.8315, 49.8123, 50.3133, 50.2073], [49.8315, 49.8123, 50.3133, 50.2073, 49.9183], [49.8123, 50.3133, 50.2073, 49.9183, 50.0965], [50.3133, 50.2073, 49.9183, 50.0965, 50.3229], [50.2073, 49.9183, 50.0965, 50.3229, 50.7372], [49.9183, 50.0965, 50.3229, 50.7372, 50.0628], [50.0965, 50.3229, 50.7372, 50.0628, 49.8942], [50.3229, 50.7372, 50.0628, 49.8942, 49.0463], [50.7372, 50.0628, 49.8942, 49.0463, 49.2053], [50.0628, 49.8942, 49.0463, 49.2053, 48.5164], [49.8942, 49.0463, 49.2053, 48.5164, 49.0511], [49.0463, 49.2053, 48.5164, 49.0511, 49.0607], [49.2053, 48.5164, 49.0511, 49.0607, 48.1069], [48.5164, 49.0511, 49.0607, 48.1069, 47.25899999999999], [49.0511, 49.0607, 48.1069, 47.25899999999999, 47.5577], [49.0607, 48.1069, 47.25899999999999, 47.5577, 47.8757], [48.1069, 47.25899999999999, 47.5577, 47.8757, 47.6926], [47.25899999999999, 47.5577, 47.8757, 47.6926, 47.0856], [47.5577, 47.8757, 47.6926, 47.0856, 48.0828], [47.8757, 47.6926, 47.0856, 48.0828, 47.5384], [47.6926, 47.0856, 48.0828, 47.5384, 44.0313], [47.0856, 48.0828, 47.5384, 44.0313, 43.8965], [48.0828, 47.5384, 44.0313, 43.8965, 44.7443], [47.5384, 44.0313, 43.8965, 44.7443, 45.3513], [44.0313, 43.8965, 44.7443, 45.3513, 45.4766], [43.8965, 44.7443, 45.3513, 45.4766, 46.2763], [44.7443, 45.3513, 45.4766, 46.2763, 46.4979], [45.3513, 45.4766, 46.2763, 46.4979, 47.8564], [45.4766, 46.2763, 46.4979, 47.8564, 45.3995], [46.2763, 46.4979, 47.8564, 45.3995, 46.257], [46.4979, 47.8564, 45.3995, 46.257, 47.0471], [47.8564, 45.3995, 46.257, 47.0471, 46.6039], [45.3995, 46.257, 47.0471, 46.6039, 47.4325], [46.257, 47.0471, 46.6039, 47.4325, 47.3939], [47.0471, 46.6039, 47.4325, 47.3939, 47.683], [46.6039, 47.4325, 47.3939, 47.683, 48.7332], [47.4325, 47.3939, 47.683, 48.7332, 48.5597], [47.3939, 47.683, 48.7332, 48.5597, 48.1551], [47.683, 48.7332, 48.5597, 48.1551, 48.7717], [48.7332, 48.5597, 48.1551, 48.7717, 49.1764], [48.5597, 48.1551, 48.7717, 49.1764, 49.0993], [48.1551, 48.7717, 49.1764, 49.0993, 48.8295], [48.7717, 49.1764, 49.0993, 48.8295, 48.9548], [49.1764, 49.0993, 48.8295, 48.9548, 49.398], [49.0993, 48.8295, 48.9548, 49.398, 48.8584], [48.8295, 48.9548, 49.398, 48.8584, 49.0029], [48.9548, 49.398, 48.8584, 49.0029, 48.974], [49.398, 48.8584, 49.0029, 48.974, 49.6677], [48.8584, 49.0029, 48.974, 49.6677, 49.6485], [49.0029, 48.974, 49.6677, 49.6485, 49.4751], [48.974, 49.6677, 49.6485, 49.4751, 50.1495], [49.6677, 49.6485, 49.4751, 50.1495, 50.5349], [49.6485, 49.4751, 50.1495, 50.5349, 50.68899999999999], [49.4751, 50.1495, 50.5349, 50.68899999999999, 51.0455], [50.1495, 50.5349, 50.68899999999999, 51.0455, 51.6718], [50.5349, 50.68899999999999, 51.0455, 51.6718, 51.007], [50.68899999999999, 51.0455, 51.6718, 51.007, 51.2575], [51.0455, 51.6718, 51.007, 51.2575, 51.8611], [51.6718, 51.007, 51.2575, 51.8611, 51.8515], [51.007, 51.2575, 51.8611, 51.8515, 51.8804], [51.2575, 51.8611, 51.8515, 51.8804, 51.7645], [51.8611, 51.8515, 51.8804, 51.7645, 52.035], [51.8515, 51.8804, 51.7645, 52.035, 51.977], [51.8804, 51.7645, 52.035, 51.977, 51.9384], [51.7645, 52.035, 51.977, 51.9384, 50.538000000000004], [52.035, 51.977, 51.9384, 50.538000000000004, 50.1228], [51.977, 51.9384, 50.538000000000004, 50.1228, 49.861999999999995], [51.9384, 50.538000000000004, 50.1228, 49.861999999999995, 50.8374], [50.538000000000004, 50.1228, 49.861999999999995, 50.8374, 52.5275], [50.1228, 49.861999999999995, 50.8374, 52.5275, 53.1359], [49.861999999999995, 50.8374, 52.5275, 53.1359, 53.3387], [50.8374, 52.5275, 53.1359, 53.3387, 53.5512], [52.5275, 53.1359, 53.3387, 53.5512, 53.3677], [53.1359, 53.3387, 53.5512, 53.3677, 53.3291], [53.3387, 53.5512, 53.3677, 53.3291, 53.0973], [53.5512, 53.3677, 53.3291, 53.0973, 52.6144], [53.3677, 53.3291, 53.0973, 52.6144, 51.9674], [53.3291, 53.0973, 52.6144, 51.9674, 51.8032], [53.0973, 52.6144, 51.9674, 51.8032, 50.8567], [52.6144, 51.9674, 51.8032, 50.8567, 50.2097], [51.9674, 51.8032, 50.8567, 50.2097, 51.0692], [51.8032, 50.8567, 50.2097, 51.0692, 52.0639], [50.8567, 50.2097, 51.0692, 52.0639, 51.7645], [50.2097, 51.0692, 52.0639, 51.7645, 51.1368], [51.0692, 52.0639, 51.7645, 51.1368, 51.0209], [52.0639, 51.7645, 51.1368, 51.0209, 50.6539], [51.7645, 51.1368, 51.0209, 50.6539, 50.1517], [51.1368, 51.0209, 50.6539, 50.1517, 50.6249], [51.0209, 50.6539, 50.1517, 50.6249, 50.5573], [50.6539, 50.1517, 50.6249, 50.5573, 52.0832], [50.1517, 50.6249, 50.5573, 52.0832, 52.8848], [50.6249, 50.5573, 52.0832, 52.8848, 53.0297], [50.5573, 52.0832, 52.8848, 53.0297, 52.9138], [52.0832, 52.8848, 53.0297, 52.9138, 52.4599], [52.8848, 53.0297, 52.9138, 52.4599, 52.1219], [53.0297, 52.9138, 52.4599, 52.1219, 53.078], [52.9138, 52.4599, 52.1219, 53.078, 51.8708], [52.4599, 52.1219, 53.078, 51.8708, 52.3826], [52.1219, 53.078, 51.8708, 52.3826, 52.711000000000006], [53.078, 51.8708, 52.3826, 52.711000000000006, 52.7013], [51.8708, 52.3826, 52.711000000000006, 52.7013, 53.3484], [52.3826, 52.711000000000006, 52.7013, 53.3484, 53.1649], [52.711000000000006, 52.7013, 53.3484, 53.1649, 52.9234], [52.7013, 53.3484, 53.1649, 52.9234, 53.8313], [53.3484, 53.1649, 52.9234, 53.8313, 53.6478], [53.1649, 52.9234, 53.8313, 53.6478, 54.0824], [52.9234, 53.8313, 53.6478, 54.0824, 54.458999999999996], [53.8313, 53.6478, 54.0824, 54.458999999999996, 54.0824], [53.6478, 54.0824, 54.458999999999996, 54.0824, 54.3238], [54.0824, 54.458999999999996, 54.0824, 54.3238, 54.2948], [54.458999999999996, 54.0824, 54.3238, 54.2948, 54.9709], [54.0824, 54.3238, 54.2948, 54.9709, 54.7777], [54.3238, 54.2948, 54.9709, 54.7777, 54.8743], [54.2948, 54.9709, 54.7777, 54.8743, 54.9032], [54.9709, 54.7777, 54.8743, 54.9032, 54.855], [54.7777, 54.8743, 54.9032, 54.855, 54.5266], [54.8743, 54.9032, 54.855, 54.5266, 55.2606], [54.9032, 54.855, 54.5266, 55.2606, 55.3572], [54.855, 54.5266, 55.2606, 55.3572, 56.2457], [54.5266, 55.2606, 55.3572, 56.2457, 56.7092], [55.2606, 55.3572, 56.2457, 56.7092, 55.7917], [55.3572, 56.2457, 56.7092, 55.7917, 55.8547], [56.2457, 56.7092, 55.7917, 55.8547, 55.4191], [56.7092, 55.7917, 55.8547, 55.4191, 55.4482], [55.7917, 55.8547, 55.4191, 55.4482, 56.416000000000004], [55.8547, 55.4191, 55.4482, 56.416000000000004, 56.086999999999996], [55.4191, 55.4482, 56.416000000000004, 56.086999999999996, 57.4032], [55.4482, 56.416000000000004, 56.086999999999996, 57.4032, 57.1032], [56.416000000000004, 56.086999999999996, 57.4032, 57.1032, 58.2646], [56.086999999999996, 57.4032, 57.1032, 58.2646, 58.042], [57.4032, 57.1032, 58.2646, 58.042, 58.1194], [57.1032, 58.2646, 58.042, 58.1194, 57.8194], [58.2646, 58.042, 58.1194, 57.8194, 57.1903], [58.042, 58.1194, 57.8194, 57.1903, 55.7579], [58.1194, 57.8194, 57.1903, 55.7579, 55.6514], [57.8194, 57.1903, 55.7579, 55.6514, 55.7869], [57.1903, 55.7579, 55.6514, 55.7869, 56.8806], [55.7579, 55.6514, 55.7869, 56.8806, 57.0354], [55.6514, 55.7869, 56.8806, 57.0354, 56.4063], [55.7869, 56.8806, 57.0354, 56.4063, 56.9096], [56.8806, 57.0354, 56.4063, 56.9096, 57.0742], [57.0354, 56.4063, 56.9096, 57.0742, 56.9483], [56.4063, 56.9096, 57.0742, 56.9483, 57.3064], [56.9096, 57.0742, 56.9483, 57.3064, 57.3936], [57.0742, 56.9483, 57.3064, 57.3936, 57.6258], [56.9483, 57.3064, 57.3936, 57.6258, 57.1129], [57.3064, 57.3936, 57.6258, 57.1129, 57.0354], [57.3936, 57.6258, 57.1129, 57.0354, 57.3161], [57.6258, 57.1129, 57.0354, 57.3161, 56.8709], [57.1129, 57.0354, 57.3161, 56.8709, 56.0966], [57.0354, 57.3161, 56.8709, 56.0966, 56.5612], [57.3161, 56.8709, 56.0966, 56.5612, 56.2902], [56.8709, 56.0966, 56.5612, 56.2902, 54.9836], [56.0966, 56.5612, 56.2902, 54.9836, 54.8771], [56.5612, 56.2902, 54.9836, 54.8771, 54.3642], [56.2902, 54.9836, 54.8771, 54.3642, 54.4126], [54.9836, 54.8771, 54.3642, 54.4126, 54.19], [54.8771, 54.3642, 54.4126, 54.19, 53.9964], [54.3642, 54.4126, 54.19, 53.9964, 53.5899], [54.4126, 54.19, 53.9964, 53.5899, 54.6739], [54.19, 53.9964, 53.5899, 54.6739, 55.003], [53.9964, 53.5899, 54.6739, 55.003, 54.1222], [53.5899, 54.6739, 55.003, 54.1222, 53.9093], [54.6739, 55.003, 54.1222, 53.9093, 53.9577], [55.003, 54.1222, 53.9093, 53.9577, 54.9836], [54.1222, 53.9093, 53.9577, 54.9836, 55.3127], [53.9093, 53.9577, 54.9836, 55.3127, 54.9449], [53.9577, 54.9836, 55.3127, 54.9449, 55.1191], [54.9836, 55.3127, 54.9449, 55.1191, 56.2128], [55.3127, 54.9449, 55.1191, 56.2128, 55.9224], [54.9449, 55.1191, 56.2128, 55.9224, 56.2902], [55.1191, 56.2128, 55.9224, 56.2902, 56.1934], [56.2128, 55.9224, 56.2902, 56.1934, 56.3967], [55.9224, 56.2902, 56.1934, 56.3967, 56.1063], [56.2902, 56.1934, 56.3967, 56.1063, 56.0676], [56.1934, 56.3967, 56.1063, 56.0676, 55.3417], [56.3967, 56.1063, 56.0676, 55.3417, 55.7966], [56.1063, 56.0676, 55.3417, 55.7966, 55.7772], [56.0676, 55.3417, 55.7966, 55.7772, 55.2159], [55.3417, 55.7966, 55.7772, 55.2159, 55.3611], [55.7966, 55.7772, 55.2159, 55.3611, 55.8063], [55.7772, 55.2159, 55.3611, 55.8063, 56.0192], [55.2159, 55.3611, 55.8063, 56.0192, 55.1191], [55.3611, 55.8063, 56.0192, 55.1191, 55.303000000000004], [55.8063, 56.0192, 55.1191, 55.303000000000004, 55.1527], [56.0192, 55.1191, 55.303000000000004, 55.1527, 54.9878], [55.1191, 55.303000000000004, 55.1527, 54.9878, 55.6668], [55.303000000000004, 55.1527, 54.9878, 55.6668, 55.7735], [55.1527, 54.9878, 55.6668, 55.7735, 55.9577], [54.9878, 55.6668, 55.7735, 55.9577, 55.2788], [55.6668, 55.7735, 55.9577, 55.2788, 55.434], [55.7735, 55.9577, 55.2788, 55.434, 55.3176], [55.9577, 55.2788, 55.434, 55.3176, 56.4524], [55.2788, 55.434, 55.3176, 56.4524, 55.9577], [55.434, 55.3176, 56.4524, 55.9577, 56.1905], [55.3176, 56.4524, 55.9577, 56.1905, 55.9965], [56.4524, 55.9577, 56.1905, 55.9965, 55.0848], [55.9577, 56.1905, 55.9965, 55.0848, 54.4931], [56.1905, 55.9965, 55.0848, 54.4931, 54.0081], [55.9965, 55.0848, 54.4931, 54.0081, 55.1333], [55.0848, 54.4931, 54.0081, 55.1333, 56.2293], [54.4931, 54.0081, 55.1333, 56.2293, 55.725], [54.0081, 55.1333, 56.2293, 55.725, 55.2788], [55.1333, 56.2293, 55.725, 55.2788, 54.3379], [56.2293, 55.725, 55.2788, 54.3379, 54.2118], [55.725, 55.2788, 54.3379, 54.2118, 52.5725], [55.2788, 54.3379, 54.2118, 52.5725, 52.6598], [54.3379, 54.2118, 52.5725, 52.6598, 52.8732], [54.2118, 52.5725, 52.6598, 52.8732, 53.7171], [52.5725, 52.6598, 52.8732, 53.7171, 53.494], [52.6598, 52.8732, 53.7171, 53.494, 53.3485], [52.8732, 53.7171, 53.494, 53.3485, 53.3], [53.7171, 53.494, 53.3485, 53.3, 52.6889], [53.494, 53.3485, 53.3, 52.6889, 52.718], [53.3485, 53.3, 52.6889, 52.718, 52.4658], [53.3, 52.6889, 52.718, 52.4658, 55.0751], [52.6889, 52.718, 52.4658, 55.0751, 54.5707], [52.718, 52.4658, 55.0751, 54.5707, 54.1827], [52.4658, 55.0751, 54.5707, 54.1827, 53.106], [55.0751, 54.5707, 54.1827, 53.106, 54.852], [54.5707, 54.1827, 53.106, 54.852, 55.336999999999996], [54.1827, 53.106, 54.852, 55.336999999999996, 55.2012], [53.106, 54.852, 55.336999999999996, 55.2012, 54.7162], [54.852, 55.336999999999996, 55.2012, 54.7162, 54.2603], [55.336999999999996, 55.2012, 54.7162, 54.2603, 53.9305], [55.2012, 54.7162, 54.2603, 53.9305, 54.4058], [54.7162, 54.2603, 53.9305, 54.4058, 54.0663], [54.2603, 53.9305, 54.4058, 54.0663, 53.8917], [53.9305, 54.4058, 54.0663, 53.8917, 54.9296], [54.4058, 54.0663, 53.8917, 54.9296, 54.2409], [54.0663, 53.8917, 54.9296, 54.2409, 54.076], [53.8917, 54.9296, 54.2409, 54.076, 53.785], [54.9296, 54.2409, 54.076, 53.785, 53.9014], [54.2409, 54.076, 53.785, 53.9014, 54.1148], [54.076, 53.785, 53.9014, 54.1148, 53.5425], [53.785, 53.9014, 54.1148, 53.5425, 53.5716], [53.9014, 54.1148, 53.5425, 53.5716, 52.4949], [54.1148, 53.5425, 53.5716, 52.4949, 50.2834], [53.5425, 53.5716, 52.4949, 50.2834, 47.5869], [53.5716, 52.4949, 50.2834, 47.5869, 48.101000000000006], [52.4949, 50.2834, 47.5869, 48.101000000000006, 49.0709], [50.2834, 47.5869, 48.101000000000006, 49.0709, 51.622], [47.5869, 48.101000000000006, 49.0709, 51.622, 51.2922], [48.101000000000006, 49.0709, 51.622, 51.2922, 50.7878], [49.0709, 51.622, 51.2922, 50.7878, 48.8672], [51.622, 51.2922, 50.7878, 48.8672, 50.3804], [51.2922, 50.7878, 48.8672, 50.3804, 50.4192], [50.7878, 48.8672, 50.3804, 50.4192, 49.3591], [48.8672, 50.3804, 50.4192, 49.3591, 50.1955], [50.3804, 50.4192, 49.3591, 50.1955, 49.2229], [50.4192, 49.3591, 50.1955, 49.2229, 49.9912], [49.3591, 50.1955, 49.2229, 49.9912, 50.1371], [50.1955, 49.2229, 49.9912, 50.1371, 50.0982], [49.2229, 49.9912, 50.1371, 50.0982, 50.8471], [49.9912, 50.1371, 50.0982, 50.8471, 51.2653], [50.1371, 50.0982, 50.8471, 51.2653, 51.4015], [50.0982, 50.8471, 51.2653, 51.4015, 50.5164], [50.8471, 51.2653, 51.4015, 50.5164, 50.5845], [51.2653, 51.4015, 50.5164, 50.5845, 49.3007], [51.4015, 50.5164, 50.5845, 49.3007, 49.0965], [50.5164, 50.5845, 49.3007, 49.0965, 48.688], [50.5845, 49.3007, 49.0965, 48.688, 49.2326], [49.3007, 49.0965, 48.688, 49.2326, 48.1141], [49.0965, 48.688, 49.2326, 48.1141, 48.3573], [48.688, 49.2326, 48.1141, 48.3573, 49.5633], [49.2326, 48.1141, 48.3573, 49.5633, 48.6588], [48.1141, 48.3573, 49.5633, 48.6588, 49.1256], [48.3573, 49.5633, 48.6588, 49.1256, 50.3608], [49.5633, 48.6588, 49.1256, 50.3608, 49.8356], [48.6588, 49.1256, 50.3608, 49.8356, 50.2441], [49.1256, 50.3608, 49.8356, 50.2441, 50.6818], [50.3608, 49.8356, 50.2441, 50.6818, 50.5067], [49.8356, 50.2441, 50.6818, 50.5067, 50.604], [50.2441, 50.6818, 50.5067, 50.604, 50.2733], [50.6818, 50.5067, 50.604, 50.2733, 50.4775], [50.5067, 50.604, 50.2733, 50.4775, 51.3723], [50.604, 50.2733, 50.4775, 51.3723, 51.8489], [50.2733, 50.4775, 51.3723, 51.8489, 51.6252], [50.4775, 51.3723, 51.8489, 51.6252, 51.9462], [51.3723, 51.8489, 51.6252, 51.9462, 49.0478], [51.8489, 51.6252, 51.9462, 49.0478, 50.6526], [51.6252, 51.9462, 49.0478, 50.6526, 52.0629], [51.9462, 49.0478, 50.6526, 52.0629, 52.3546], [49.0478, 50.6526, 52.0629, 52.3546, 52.5103], [50.6526, 52.0629, 52.3546, 52.5103, 52.9382], [52.0629, 52.3546, 52.5103, 52.9382, 52.909], [52.3546, 52.5103, 52.9382, 52.909, 52.733999999999995], [52.5103, 52.9382, 52.909, 52.733999999999995, 53.5607], [52.9382, 52.909, 52.733999999999995, 53.5607, 53.3759], [52.909, 52.733999999999995, 53.5607, 53.3759, 53.4245], [52.733999999999995, 53.5607, 53.3759, 53.4245, 53.2008], [53.5607, 53.3759, 53.4245, 53.2008, 53.6579], [53.3759, 53.4245, 53.2008, 53.6579, 53.3953], [53.4245, 53.2008, 53.6579, 53.3953, 52.9479], [53.2008, 53.6579, 53.3953, 52.9479, 53.23], [53.6579, 53.3953, 52.9479, 53.23, 52.4324], [53.3953, 52.9479, 53.23, 52.4324, 51.5474], [52.9479, 53.23, 52.4324, 51.5474, 53.0355], [53.23, 52.4324, 51.5474, 53.0355, 52.3935], [52.4324, 51.5474, 53.0355, 52.3935, 53.2981], [51.5474, 53.0355, 52.3935, 53.2981, 53.0841], [53.0355, 52.3935, 53.2981, 53.0841, 53.23], [52.3935, 53.2981, 53.0841, 53.23, 53.8622], [53.2981, 53.0841, 53.23, 53.8622, 53.1911], [53.0841, 53.23, 53.8622, 53.1911, 53.2592], [53.23, 53.8622, 53.1911, 53.2592, 53.4537], [53.8622, 53.1911, 53.2592, 53.4537, 53.5412], [53.1911, 53.2592, 53.4537, 53.5412, 53.9691], [53.2592, 53.4537, 53.5412, 53.9691, 53.0938], [53.4537, 53.5412, 53.9691, 53.0938, 52.1504], [53.5412, 53.9691, 53.0938, 52.1504, 53.2883], [53.9691, 53.0938, 52.1504, 53.2883, 53.2105], [53.0938, 52.1504, 53.2883, 53.2105, 52.8409], [52.1504, 53.2883, 53.2105, 52.8409, 52.413000000000004], [53.2883, 53.2105, 52.8409, 52.413000000000004, 52.092], [53.2105, 52.8409, 52.413000000000004, 52.092, 51.3022], [52.8409, 52.413000000000004, 52.092, 51.3022, 51.5167], [52.413000000000004, 52.092, 51.3022, 51.5167, 51.1267], [52.092, 51.3022, 51.5167, 51.1267, 51.5557], [51.3022, 51.5167, 51.1267, 51.5557, 51.4192], [51.5167, 51.1267, 51.5557, 51.4192, 50.3563], [51.1267, 51.5557, 51.4192, 50.3563, 50.8049], [51.5557, 51.4192, 50.3563, 50.8049, 51.7117], [51.4192, 50.3563, 50.8049, 51.7117, 52.2091], [50.3563, 50.8049, 51.7117, 52.2091, 52.092], [50.8049, 51.7117, 52.2091, 52.092, 51.8483], [51.7117, 52.2091, 52.092, 51.8483, 52.1213], [52.2091, 52.092, 51.8483, 52.1213, 51.6142], [52.092, 51.8483, 52.1213, 51.6142, 50.9316], [51.8483, 52.1213, 51.6142, 50.9316, 49.6054], [52.1213, 51.6142, 50.9316, 49.6054, 49.0496], [51.6142, 50.9316, 49.6054, 49.0496, 47.8892], [50.9316, 49.6054, 49.0496, 47.8892, 46.1632], [49.6054, 49.0496, 47.8892, 46.1632, 45.4708], [49.0496, 47.8892, 46.1632, 45.4708, 45.1198], [47.8892, 46.1632, 45.4708, 45.1198, 46.251000000000005], [46.1632, 45.4708, 45.1198, 46.251000000000005, 45.3928], [45.4708, 45.1198, 46.251000000000005, 45.3928, 45.5488], [45.1198, 46.251000000000005, 45.3928, 45.5488, 44.3592], [46.251000000000005, 45.3928, 45.5488, 44.3592, 44.2909], [45.3928, 45.5488, 44.3592, 44.2909, 45.3538], [45.5488, 44.3592, 44.2909, 45.3538, 46.5922], [44.3592, 44.2909, 45.3538, 46.5922, 47.4894], [44.2909, 45.3538, 46.5922, 47.4894, 46.9823], [45.3538, 46.5922, 47.4894, 46.9823, 47.3724], [46.5922, 47.4894, 46.9823, 47.3724, 47.1871], [47.4894, 46.9823, 47.3724, 47.1871, 47.2553], [46.9823, 47.3724, 47.1871, 47.2553, 48.3378], [47.3724, 47.1871, 47.2553, 48.3378, 48.6303], [47.1871, 47.2553, 48.3378, 48.6303, 47.977], [47.2553, 48.3378, 48.6303, 47.977, 47.8307], [48.3378, 48.6303, 47.977, 47.8307, 48.3378], [48.6303, 47.977, 47.8307, 48.3378, 48.3183], [47.977, 47.8307, 48.3378, 48.3183, 47.7624], [47.8307, 48.3378, 48.3183, 47.7624, 47.8209], [48.3378, 48.3183, 47.7624, 47.8209, 48.483999999999995], [48.3183, 47.7624, 47.8209, 48.483999999999995, 47.7917], [47.7624, 47.8209, 48.483999999999995, 47.7917, 48.3085], [47.8209, 48.483999999999995, 47.7917, 48.3085, 49.4689], [48.483999999999995, 47.7917, 48.3085, 49.4689, 50.7269], [47.7917, 48.3085, 49.4689, 50.7269, 50.8049], [48.3085, 49.4689, 50.7269, 50.8049, 50.8049], [49.4689, 50.7269, 50.8049, 50.8049, 51.1949], [50.7269, 50.8049, 50.8049, 51.1949, 50.8536], [50.8049, 50.8049, 51.1949, 50.8536, 51.1267], [50.8049, 51.1949, 50.8536, 51.1267, 51.4095], [51.1949, 50.8536, 51.1267, 51.4095, 51.623999999999995], [50.8536, 51.1267, 51.4095, 51.623999999999995, 51.7507], [51.1267, 51.4095, 51.623999999999995, 51.7507, 53.4963], [51.4095, 51.623999999999995, 51.7507, 53.4963, 53.818000000000005], [51.623999999999995, 51.7507, 53.4963, 53.818000000000005, 54.4421], [51.7507, 53.4963, 53.818000000000005, 54.4421, 54.8029], [53.4963, 53.818000000000005, 54.4421, 54.8029, 55.3198], [53.818000000000005, 54.4421, 54.8029, 55.3198, 54.2959], [54.4421, 54.8029, 55.3198, 54.2959, 54.3934], [54.8029, 55.3198, 54.2959, 54.3934, 54.0423], [55.3198, 54.2959, 54.3934, 54.0423, 54.9124], [54.2959, 54.3934, 54.0423, 54.9124, 54.4236], [54.3934, 54.0423, 54.9124, 54.4236, 54.2769], [54.0423, 54.9124, 54.4236, 54.2769, 55.147], [54.9124, 54.4236, 54.2769, 55.147, 55.8314], [54.4236, 54.2769, 55.147, 55.8314, 56.3495], [54.2769, 55.147, 55.8314, 56.3495, 55.9096], [55.147, 55.8314, 56.3495, 55.9096, 55.9878], [55.8314, 56.3495, 55.9096, 55.9878, 55.5869], [56.3495, 55.9096, 55.9878, 55.5869, 55.89], [55.9096, 55.9878, 55.5869, 55.89, 55.9389], [55.9878, 55.5869, 55.89, 55.9389, 56.4961], [55.5869, 55.89, 55.9389, 56.4961, 56.4179], [55.89, 55.9389, 56.4961, 56.4179, 56.5255], [55.9389, 56.4961, 56.4179, 56.5255, 57.1707], [56.4961, 56.4179, 56.5255, 57.1707, 56.9165], [56.4179, 56.5255, 57.1707, 56.9165, 56.9067], [56.5255, 57.1707, 56.9165, 56.9067, 57.0925], [57.1707, 56.9165, 56.9067, 57.0925, 56.4863], [56.9165, 56.9067, 57.0925, 56.4863, 57.0631], [56.9067, 57.0925, 56.4863, 57.0631, 57.1218], [57.0925, 56.4863, 57.0631, 57.1218, 56.9752], [56.4863, 57.0631, 57.1218, 56.9752, 57.7279], [57.0631, 57.1218, 56.9752, 57.7279, 57.4542], [57.1218, 56.9752, 57.7279, 57.4542, 57.4249], [56.9752, 57.7279, 57.4542, 57.4249, 57.1902], [57.7279, 57.4542, 57.4249, 57.1902, 57.0045], [57.4542, 57.4249, 57.1902, 57.0045, 56.5352], [57.4249, 57.1902, 57.0045, 56.5352, 55.5674], [57.1902, 57.0045, 56.5352, 55.5674, 55.6847], [57.0045, 56.5352, 55.5674, 55.6847, 55.4794], [56.5352, 55.5674, 55.6847, 55.4794, 55.7629], [55.5674, 55.6847, 55.4794, 55.7629, 55.7336], [55.6847, 55.4794, 55.7629, 55.7336, 55.147], [55.4794, 55.7629, 55.7336, 55.147, 54.58], [55.7629, 55.7336, 55.147, 54.58, 55.0004], [55.7336, 55.147, 54.58, 55.0004, 54.492], [55.147, 54.58, 55.0004, 54.492, 54.1401], [54.58, 55.0004, 54.492, 54.1401, 54.403999999999996], [55.0004, 54.492, 54.1401, 54.403999999999996, 54.6093], [54.492, 54.1401, 54.403999999999996, 54.6093, 54.9124], [54.1401, 54.403999999999996, 54.6093, 54.9124, 55.2057], [54.403999999999996, 54.6093, 54.9124, 55.2057, 54.9124], [54.6093, 54.9124, 55.2057, 54.9124, 54.5507], [54.9124, 55.2057, 54.9124, 54.5507, 53.8468], [55.2057, 54.9124, 54.5507, 53.8468, 54.3943], [54.9124, 54.5507, 53.8468, 54.3943, 54.1792], [54.5507, 53.8468, 54.3943, 54.1792, 54.4138], [53.8468, 54.3943, 54.1792, 54.4138, 54.0814], [54.3943, 54.1792, 54.4138, 54.0814, 54.7853], [54.1792, 54.4138, 54.0814, 54.7853, 55.1079], [54.4138, 54.0814, 54.7853, 55.1079, 56.3299], [54.0814, 54.7853, 55.1079, 56.3299, 56.369], [54.7853, 55.1079, 56.3299, 56.369, 56.6916], [55.1079, 56.3299, 56.369, 56.6916, 56.8481], [56.3299, 56.369, 56.6916, 56.8481, 57.4053], [56.369, 56.6916, 56.8481, 57.4053, 57.4933], [56.6916, 56.8481, 57.4053, 57.4933, 57.766999999999996], [56.8481, 57.4053, 57.4933, 57.766999999999996, 57.9332], [57.4053, 57.4933, 57.766999999999996, 57.9332, 58.0799], [57.4933, 57.766999999999996, 57.9332, 58.0799, 58.3438], [57.766999999999996, 57.9332, 58.0799, 58.3438, 58.7642], [57.9332, 58.0799, 58.3438, 58.7642, 58.6371], [58.0799, 58.3438, 58.7642, 58.6371, 58.2745], [58.3438, 58.7642, 58.6371, 58.2745, 57.471000000000004], [58.7642, 58.6371, 58.2745, 57.471000000000004, 57.3828], [58.6371, 58.2745, 57.471000000000004, 57.3828, 57.3338], [58.2745, 57.471000000000004, 57.3828, 57.3338, 57.1378], [57.471000000000004, 57.3828, 57.3338, 57.1378, 56.6969], [57.3828, 57.3338, 57.1378, 56.6969, 57.0888], [57.3338, 57.1378, 56.6969, 57.0888, 57.1084], [57.1378, 56.6969, 57.0888, 57.1084, 57.0399], [56.6969, 57.0888, 57.1084, 57.0399, 58.3431], [57.0888, 57.1084, 57.0399, 58.3431, 56.0992], [57.1084, 57.0399, 58.3431, 56.0992, 54.4039], [57.0399, 58.3431, 56.0992, 54.4039, 54.7175], [58.3431, 56.0992, 54.4039, 54.7175, 55.2466], [56.0992, 54.4039, 54.7175, 55.2466, 56.1775], [54.4039, 54.7175, 55.2466, 56.1775, 56.0992], [54.7175, 55.2466, 56.1775, 56.0992, 54.8449], [55.2466, 56.1775, 56.0992, 54.8449, 54.9135], [56.1775, 56.0992, 54.8449, 54.9135, 54.9821], [56.0992, 54.8449, 54.9135, 54.9821, 56.2069], [54.8449, 54.9135, 54.9821, 56.2069, 56.4127], [54.9135, 54.9821, 56.2069, 56.4127, 56.5499], [54.9821, 56.2069, 56.4127, 56.5499, 56.8341], [56.2069, 56.4127, 56.5499, 56.8341, 57.226000000000006], [56.4127, 56.5499, 56.8341, 57.226000000000006, 57.9022], [56.5499, 56.8341, 57.226000000000006, 57.9022, 57.8924], [56.8341, 57.226000000000006, 57.9022, 57.8924, 57.3828], [57.226000000000006, 57.9022, 57.8924, 57.3828, 57.9904], [57.9022, 57.8924, 57.3828, 57.9904, 58.0491], [57.8924, 57.3828, 57.9904, 58.0491, 57.7944], [57.3828, 57.9904, 58.0491, 57.7944, 57.471000000000004], [57.9904, 58.0491, 57.7944, 57.471000000000004, 58.2059], [58.0491, 57.7944, 57.471000000000004, 58.2059, 57.9414], [57.7944, 57.471000000000004, 58.2059, 57.9414, 57.9806], [57.471000000000004, 58.2059, 57.9414, 57.9806, 58.3235], [58.2059, 57.9414, 57.9806, 58.3235, 58.2549], [57.9414, 57.9806, 58.3235, 58.2549, 57.5396], [57.9806, 58.3235, 58.2549, 57.5396, 57.8434], [58.3235, 58.2549, 57.5396, 57.8434, 58.01], [58.2549, 57.5396, 57.8434, 58.01, 58.7155], [57.5396, 57.8434, 58.01, 58.7155, 58.6959], [57.8434, 58.01, 58.7155, 58.6959, 58.9409], [58.01, 58.7155, 58.6959, 58.9409, 58.9017], [58.7155, 58.6959, 58.9409, 58.9017, 59.1662], [58.6959, 58.9409, 58.9017, 59.1662, 59.1858], [58.9409, 58.9017, 59.1662, 59.1858, 59.3034], [58.9017, 59.1662, 59.1858, 59.3034, 58.6371], [59.1662, 59.1858, 59.3034, 58.6371, 58.7547], [59.1858, 59.3034, 58.6371, 58.7547, 59.2936], [59.3034, 58.6371, 58.7547, 59.2936, 59.9599], [58.6371, 58.7547, 59.2936, 59.9599, 60.2637], [58.7547, 59.2936, 59.9599, 60.2637, 60.2441], [59.2936, 59.9599, 60.2637, 60.2441, 60.1951], [59.9599, 60.2637, 60.2441, 60.1951, 60.2049], [60.2637, 60.2441, 60.1951, 60.2049, 60.2735], [60.2441, 60.1951, 60.2049, 60.2735, 60.8321], [60.1951, 60.2049, 60.2735, 60.8321, 61.0182], [60.2049, 60.2735, 60.8321, 61.0182, 61.0574], [60.2735, 60.8321, 61.0182, 61.0574, 61.077], [60.8321, 61.0182, 61.0574, 61.077, 61.321999999999996], [61.0182, 61.0574, 61.077, 61.321999999999996, 61.4004], [61.0574, 61.077, 61.321999999999996, 61.4004, 61.6062], [61.077, 61.321999999999996, 61.4004, 61.6062, 61.6258], [61.321999999999996, 61.4004, 61.6062, 61.6258, 60.1919], [61.4004, 61.6062, 61.6258, 60.1919, 61.0562], [61.6062, 61.6258, 60.1919, 61.0562, 60.5062], [61.6258, 60.1919, 61.0562, 60.5062, 60.6731], [60.1919, 61.0562, 60.5062, 60.6731, 61.6651], [61.0562, 60.5062, 60.6731, 61.6651, 61.8222], [60.5062, 60.6731, 61.6651, 61.8222, 62.6177], [60.6731, 61.6651, 61.8222, 62.6177, 62.981], [61.6651, 61.8222, 62.6177, 62.981, 63.7372], [61.8222, 62.6177, 62.981, 63.7372, 64.5033], [62.6177, 62.981, 63.7372, 64.5033, 63.2658], [62.981, 63.7372, 64.5033, 63.2658, 62.8927], [63.7372, 64.5033, 63.2658, 62.8927, 63.3444], [64.5033, 63.2658, 62.8927, 63.3444, 63.8158], [63.2658, 62.8927, 63.3444, 63.8158, 63.5212], [62.8927, 63.3444, 63.8158, 63.5212, 63.7569], [63.3444, 63.8158, 63.5212, 63.7569, 63.2462], [63.8158, 63.5212, 63.7569, 63.2462, 63.148], [63.5212, 63.7569, 63.2462, 63.148, 63.7372], [63.7569, 63.2462, 63.148, 63.7372, 64.3461], [63.2462, 63.148, 63.7372, 64.3461, 64.1988], [63.148, 63.7372, 64.3461, 64.1988, 63.698], [63.7372, 64.3461, 64.1988, 63.698, 62.8534], [64.3461, 64.1988, 63.698, 62.8534, 62.8141], [64.1988, 63.698, 62.8534, 62.8141, 62.1659], [63.698, 62.8534, 62.8141, 62.1659, 62.4213], [62.8534, 62.8141, 62.1659, 62.4213, 61.9204], [62.8141, 62.1659, 62.4213, 61.9204, 62.0775], [62.1659, 62.4213, 61.9204, 62.0775, 63.5507], [62.4213, 61.9204, 62.0775, 63.5507, 65.2398], [61.9204, 62.0775, 63.5507, 65.2398, 64.7783], [62.0775, 63.5507, 65.2398, 64.7783, 64.8077], [63.5507, 65.2398, 64.7783, 64.8077, 64.0221], [65.2398, 64.7783, 64.8077, 64.0221, 64.35600000000001], [64.7783, 64.8077, 64.0221, 64.35600000000001, 64.1988], [64.8077, 64.0221, 64.35600000000001, 64.1988, 64.3167], [64.0221, 64.35600000000001, 64.1988, 64.3167, 64.7488], [64.35600000000001, 64.1988, 64.3167, 64.7488, 64.8372], [64.1988, 64.3167, 64.7488, 64.8372, 63.9435], [64.3167, 64.7488, 64.8372, 63.9435, 63.7274], [64.7488, 64.8372, 63.9435, 63.7274, 63.7471], [64.8372, 63.9435, 63.7274, 63.7471, 65.3479], [63.9435, 63.7274, 63.7471, 65.3479, 65.613], [63.7274, 63.7471, 65.3479, 65.613, 66.1434], [63.7471, 65.3479, 65.613, 66.1434, 65.2791], [65.3479, 65.613, 66.1434, 65.2791, 65.4363], [65.613, 66.1434, 65.2791, 65.4363, 65.4363], [66.1434, 65.2791, 65.4363, 65.4363, 65.9273], [65.2791, 65.4363, 65.4363, 65.9273, 66.5853], [65.4363, 65.4363, 65.9273, 66.5853, 66.7915], [65.4363, 65.9273, 66.5853, 66.7915, 66.821], [65.9273, 66.5853, 66.7915, 66.821, 66.7522], [66.5853, 66.7915, 66.821, 66.7522, 66.8014], [66.7915, 66.821, 66.7522, 66.8014, 66.821], [66.821, 66.7522, 66.8014, 66.821, 67.4397], [66.7522, 66.8014, 66.821, 67.4397, 67.2629], [66.8014, 66.821, 67.4397, 67.2629, 67.204], [66.821, 67.4397, 67.2629, 67.204, 67.03699999999999], [67.4397, 67.2629, 67.204, 67.03699999999999, 65.5443], [67.2629, 67.204, 67.03699999999999, 65.5443, 66.1335], [67.204, 67.03699999999999, 65.5443, 66.1335, 66.6344], [67.03699999999999, 65.5443, 66.1335, 66.6344, 66.3889], [65.5443, 66.1335, 66.6344, 66.3889, 66.8505], [66.1335, 66.6344, 66.3889, 66.8505, 67.5968], [66.6344, 66.3889, 66.8505, 67.5968, 67.4394], [66.3889, 66.8505, 67.5968, 67.4394, 66.6027], [66.8505, 67.5968, 67.4394, 66.6027, 66.8487], [67.5968, 67.4394, 66.6027, 66.8487, 66.7011], [67.4394, 66.6027, 66.8487, 66.7011, 66.9176], [66.6027, 66.8487, 66.7011, 66.9176, 66.3467], [66.8487, 66.7011, 66.9176, 66.3467, 66.9373], [66.7011, 66.9176, 66.3467, 66.9373, 67.2622], [66.9176, 66.3467, 66.9373, 67.2622, 67.1539], [66.3467, 66.9373, 67.2622, 67.1539, 67.21300000000001], [66.9373, 67.2622, 67.1539, 67.21300000000001, 67.2326], [67.2622, 67.1539, 67.21300000000001, 67.2326, 67.27199999999999], [67.1539, 67.21300000000001, 67.2326, 67.27199999999999, 66.5141], [67.21300000000001, 67.2326, 67.27199999999999, 66.5141, 66.5436], [67.2326, 67.27199999999999, 66.5141, 66.5436, 66.1498], [67.27199999999999, 66.5141, 66.5436, 66.1498, 66.3762], [66.5141, 66.5436, 66.1498, 66.3762, 66.8684], [66.5436, 66.1498, 66.3762, 66.8684, 66.5141], [66.1498, 66.3762, 66.8684, 66.5141, 67.0161], [66.3762, 66.8684, 66.5141, 67.0161, 66.327], [66.8684, 66.5141, 67.0161, 66.327, 66.7306], [66.5141, 67.0161, 66.327, 66.7306, 66.7601], [67.0161, 66.327, 66.7306, 66.7601, 66.9078], [66.327, 66.7306, 66.7601, 66.9078, 67.0456], [66.7306, 66.7601, 66.9078, 67.0456, 66.642], [66.7601, 66.9078, 67.0456, 66.642, 67.21300000000001], [66.9078, 67.0456, 66.642, 67.21300000000001, 67.1441], [67.0456, 66.642, 67.21300000000001, 67.1441, 67.528], [66.642, 67.21300000000001, 67.1441, 67.528, 66.9176], [67.21300000000001, 67.1441, 67.528, 66.9176, 67.6855], [67.1441, 67.528, 66.9176, 67.6855, 65.9825], [67.528, 66.9176, 67.6855, 65.9825, 65.5986], [66.9176, 67.6855, 65.9825, 65.5986, 65.8742], [67.6855, 65.9825, 65.5986, 65.8742, 65.9333], [65.9825, 65.5986, 65.8742, 65.9333, 66.4353], [65.5986, 65.8742, 65.9333, 66.4353, 65.5592], [65.8742, 65.9333, 66.4353, 65.5592, 66.1006], [65.9333, 66.4353, 65.5592, 66.1006, 66.4058], [66.4353, 65.5592, 66.1006, 66.4058, 66.0219], [65.5592, 66.1006, 66.4058, 66.0219, 66.2384], [66.1006, 66.4058, 66.0219, 66.2384, 66.957], [66.4058, 66.0219, 66.2384, 66.957, 67.2228], [66.0219, 66.2384, 66.957, 67.2228, 67.6953], [66.2384, 66.957, 67.2228, 67.6953, 67.8922], [66.957, 67.2228, 67.6953, 67.8922, 68.0497], [67.2228, 67.6953, 67.8922, 68.0497, 67.9414], [67.6953, 67.8922, 68.0497, 67.9414, 68.2958], [67.8922, 68.0497, 67.9414, 68.2958, 68.3745], [68.0497, 67.9414, 68.2958, 68.3745, 68.4926], [67.9414, 68.2958, 68.3745, 68.4926, 68.7289], [68.2958, 68.3745, 68.4926, 68.7289, 68.8766], [68.3745, 68.4926, 68.7289, 68.8766, 69.0833], [68.4926, 68.7289, 68.8766, 69.0833, 68.3844], [68.7289, 68.8766, 69.0833, 68.3844, 68.1284], [68.8766, 69.0833, 68.3844, 68.1284, 69.7723], [69.0833, 68.3844, 68.1284, 69.7723, 69.3786], [68.3844, 68.1284, 69.7723, 69.3786, 69.3687], [68.1284, 69.7723, 69.3786, 69.3687, 69.03399999999999], [69.7723, 69.3786, 69.3687, 69.03399999999999, 69.1719], [69.3786, 69.3687, 69.03399999999999, 69.1719, 69.2801], [69.3687, 69.03399999999999, 69.1719, 69.2801, 69.0439], [69.03399999999999, 69.1719, 69.2801, 69.0439, 69.4475], [69.1719, 69.2801, 69.0439, 69.4475, 70.2744], [69.2801, 69.0439, 69.4475, 70.2744, 69.8412], [69.0439, 69.4475, 70.2744, 69.8412, 70.737], [69.4475, 70.2744, 69.8412, 70.737, 70.4805], [70.2744, 69.8412, 70.737, 70.4805, 70.3819], [69.8412, 70.737, 70.4805, 70.3819, 70.3819], [70.737, 70.4805, 70.3819, 70.3819, 69.4644], [70.4805, 70.3819, 70.3819, 69.4644, 70.007], [70.3819, 70.3819, 69.4644, 70.007, 69.9478], [70.3819, 69.4644, 70.007, 69.9478, 70.0169], [69.4644, 70.007, 69.9478, 70.0169, 70.0267], [70.007, 69.9478, 70.0169, 70.0267, 70.3622], [69.9478, 70.0169, 70.0267, 70.3622, 70.3523], [70.0169, 70.0267, 70.3622, 70.3523, 70.9245], [70.0267, 70.3622, 70.3523, 70.9245, 70.2142], [70.3622, 70.3523, 70.9245, 70.2142, 69.346], [70.3523, 70.9245, 70.2142, 69.346, 68.9612], [70.9245, 70.2142, 69.346, 68.9612, 68.6357], [70.2142, 69.346, 68.9612, 68.6357, 68.9908], [69.346, 68.9612, 68.6357, 68.9908, 68.833], [68.9612, 68.6357, 68.9908, 68.833, 68.7047], [68.6357, 68.9908, 68.833, 68.7047, 68.8034], [68.9908, 68.833, 68.7047, 68.8034, 67.9155], [68.833, 68.7047, 68.8034, 67.9155, 67.72800000000001], [68.7047, 68.8034, 67.9155, 67.72800000000001, 68.5962], [68.8034, 67.9155, 67.72800000000001, 68.5962, 69.0204], [67.9155, 67.72800000000001, 68.5962, 69.0204, 69.1783], [67.72800000000001, 68.5962, 69.0204, 69.1783, 69.8689], [68.5962, 69.0204, 69.1783, 69.8689, 69.5236], [69.0204, 69.1783, 69.8689, 69.5236, 70.964], [69.1783, 69.8689, 69.5236, 70.964, 71.2106], [69.8689, 69.5236, 70.964, 71.2106, 70.7666], [69.5236, 70.964, 71.2106, 70.7666, 71.8025], [70.964, 71.2106, 70.7666, 71.8025, 71.3389], [71.2106, 70.7666, 71.8025, 71.3389, 70.9245], [70.7666, 71.8025, 71.3389, 70.9245, 70.5397], [71.8025, 71.3389, 70.9245, 70.5397, 70.3326], [71.3389, 70.9245, 70.5397, 70.3326, 70.8752], [70.9245, 70.5397, 70.3326, 70.8752, 71.1613], [70.5397, 70.3326, 70.8752, 71.1613, 71.5559], [70.3326, 70.8752, 71.1613, 71.5559, 71.6842], [70.8752, 71.1613, 71.5559, 71.6842, 71.9999], [71.1613, 71.5559, 71.6842, 71.9999, 71.6447], [71.5559, 71.6842, 71.9999, 71.6447, 71.8716], [71.6842, 71.9999, 71.6447, 71.8716, 72.1873], [71.9999, 71.6447, 71.8716, 72.1873, 72.7496], [71.6447, 71.8716, 72.1873, 72.7496, 71.5855], [71.8716, 72.1873, 72.7496, 71.5855, 71.477], [72.1873, 72.7496, 71.5855, 71.477, 71.9209], [72.7496, 71.5855, 71.477, 71.9209, 72.6115], [71.5855, 71.477, 71.9209, 72.6115, 72.3846], [71.477, 71.9209, 72.6115, 72.3846, 72.9371], [71.9209, 72.6115, 72.3846, 72.9371, 73.5685], [72.6115, 72.3846, 72.9371, 73.5685, 73.7954], [72.3846, 72.9371, 73.5685, 73.7954, 73.8743], [72.9371, 73.5685, 73.7954, 73.8743, 73.5981], [73.5685, 73.7954, 73.8743, 73.5981, 74.12100000000001], [73.7954, 73.8743, 73.5981, 74.12100000000001, 74.5452], [73.8743, 73.5981, 74.12100000000001, 74.5452, 74.5748], [73.5981, 74.12100000000001, 74.5452, 74.5748, 74.5353], [74.12100000000001, 74.5452, 74.5748, 74.5353, 74.9004], [74.5452, 74.5748, 74.5353, 74.9004, 75.1569], [74.5748, 74.5353, 74.9004, 75.1569, 74.7425], [74.5353, 74.9004, 75.1569, 74.7425, 74.4071], [74.9004, 75.1569, 74.7425, 74.4071, 74.9004], [75.1569, 74.7425, 74.4071, 74.9004, 74.9201], [74.7425, 74.4071, 74.9004, 74.9201, 75.1574], [74.4071, 74.9004, 74.9201, 75.1574, 74.7718], [74.9004, 74.9201, 75.1574, 74.7718, 74.7916], [74.9201, 75.1574, 74.7718, 74.7916, 74.0995], [75.1574, 74.7718, 74.7916, 74.0995, 73.882], [74.7718, 74.7916, 74.0995, 73.882, 73.5261], [74.7916, 74.0995, 73.882, 73.5261, 74.2281], [74.0995, 73.882, 73.5261, 74.2281, 73.9117], [73.882, 73.5261, 74.2281, 73.9117, 73.3877], [73.5261, 74.2281, 73.9117, 73.3877, 74.2577], [74.2281, 73.9117, 73.3877, 74.2577, 72.923], [73.9117, 73.3877, 74.2577, 72.923, 72.9823], [73.3877, 74.2577, 72.923, 72.9823, 72.2705], [74.2577, 72.923, 72.9823, 72.2705, 72.9329], [72.923, 72.9823, 72.2705, 72.9329, 71.6576], [72.9823, 72.2705, 72.9329, 71.6576, 72.5572], [72.2705, 72.9329, 71.6576, 72.5572, 72.9329], [72.9329, 71.6576, 72.5572, 72.9329, 72.8242], [71.6576, 72.5572, 72.9329, 72.8242, 73.7337], [72.5572, 72.9329, 72.8242, 73.7337, 73.7436], [72.9329, 72.8242, 73.7337, 73.7436, 73.7041], [72.8242, 73.7337, 73.7436, 73.7041, 73.9908], [73.7337, 73.7436, 73.7041, 73.9908, 74.06], [73.7436, 73.7041, 73.9908, 74.06, 74.7224], [73.7041, 73.9908, 74.06, 74.7224, 74.8015], [73.9908, 74.06, 74.7224, 74.8015, 74.7125], [74.06, 74.7224, 74.8015, 74.7125, 74.7817], [74.7224, 74.8015, 74.7125, 74.7817, 74.9794], [74.8015, 74.7125, 74.7817, 74.9794, 74.0896], [74.7125, 74.7817, 74.9794, 74.0896, 74.9794], [74.7817, 74.9794, 74.0896, 74.9794, 75.2661], [74.9794, 74.0896, 74.9794, 75.2661, 75.7506], [74.0896, 74.9794, 75.2661, 75.7506, 76.7788], [74.9794, 75.2661, 75.7506, 76.7788, 76.9567], [75.2661, 75.7506, 76.7788, 76.9567, 76.9468], [75.7506, 76.7788, 76.9567, 76.9468, 76.7788], [76.7788, 76.9567, 76.9468, 76.7788, 77.0951], [76.9567, 76.9468, 76.7788, 77.0951, 77.0853], [76.9468, 76.7788, 77.0951, 77.0853, 77.5994], [76.7788, 77.0951, 77.0853, 77.5994, 76.8875], [77.0951, 77.0853, 77.5994, 76.8875, 77.0853], [77.0853, 77.5994, 76.8875, 77.0853, 78.2024], [77.5994, 76.8875, 77.0853, 78.2024, 78.0146], [76.8875, 77.0853, 78.2024, 78.0146, 78.4199], [77.0853, 78.2024, 78.0146, 78.4199, 78.0541], [78.2024, 78.0146, 78.4199, 78.0541, 77.5302], [78.0146, 78.4199, 78.0541, 77.5302, 77.8169], [78.4199, 78.0541, 77.5302, 77.8169, 78.7956], [78.0541, 77.5302, 77.8169, 78.7956, 78.499], [77.5302, 77.8169, 78.7956, 78.499, 78.4891], [77.8169, 78.7956, 78.499, 78.4891, 79.2504], [78.7956, 78.499, 78.4891, 79.2504, 78.8451], [78.499, 78.4891, 79.2504, 78.8451, 79.2504], [78.4891, 79.2504, 78.8451, 79.2504, 79.3987], [79.2504, 78.8451, 79.2504, 79.3987, 80.0216], [78.8451, 79.2504, 79.3987, 80.0216, 79.9524], [79.2504, 79.3987, 80.0216, 79.9524, 79.4383], [79.3987, 80.0216, 79.9524, 79.4383, 79.6656], [80.0216, 79.9524, 79.4383, 79.6656, 79.5964], [79.9524, 79.4383, 79.6656, 79.5964, 79.6063], [79.4383, 79.6656, 79.5964, 79.6063, 81.0102], [79.6656, 79.5964, 79.6063, 81.0102, 81.1882], [79.5964, 79.6063, 81.0102, 81.1882, 80.7927], [79.6063, 81.0102, 81.1882, 80.7927, 81.2771], [81.0102, 81.1882, 80.7927, 81.2771, 81.8321], [81.1882, 80.7927, 81.2771, 81.8321, 82.0501], [80.7927, 81.2771, 81.8321, 82.0501, 82.3176], [81.2771, 81.8321, 82.0501, 82.3176, 82.2383], [81.8321, 82.0501, 82.3176, 82.2383, 82.387], [82.0501, 82.3176, 82.2383, 82.387, 82.1888], [82.3176, 82.2383, 82.387, 82.1888, 81.178], [82.2383, 82.387, 82.1888, 81.178, 80.8808], [82.387, 82.1888, 81.178, 80.8808, 81.2276], [82.1888, 81.178, 80.8808, 81.2276, 81.5348], [81.178, 80.8808, 81.2276, 81.5348, 83.8734], [80.8808, 81.2276, 81.5348, 83.8734, 84.0022], [81.2276, 81.5348, 83.8734, 84.0022, 84.2301], [81.5348, 83.8734, 84.0022, 84.2301, 84.9833], [83.8734, 84.0022, 84.2301, 84.9833, 85.5184], [84.0022, 84.2301, 84.9833, 85.5184, 85.7958], [84.2301, 84.9833, 85.5184, 85.7958, 85.7661], [84.9833, 85.5184, 85.7958, 85.7661, 86.2318], [85.5184, 85.7958, 85.7661, 86.2318, 85.994], [85.7958, 85.7661, 86.2318, 85.994, 86.9751], [85.7661, 86.2318, 85.994, 86.9751, 86.4102], [86.2318, 85.994, 86.9751, 86.4102, 86.1526], [85.994, 86.9751, 86.4102, 86.1526, 85.9147], [86.9751, 86.4102, 86.1526, 85.9147, 85.8355], [86.4102, 86.1526, 85.9147, 85.8355, 85.3202], [86.1526, 85.9147, 85.8355, 85.3202, 85.7859], [85.9147, 85.8355, 85.3202, 85.7859, 85.5679], [85.8355, 85.3202, 85.7859, 85.5679, 85.8652], [85.3202, 85.7859, 85.5679, 85.8652, 86.4499], [85.7859, 85.5679, 85.8652, 86.4499, 84.7256], [85.5679, 85.8652, 86.4499, 84.7256, 85.8157], [85.8652, 86.4499, 84.7256, 85.8157, 84.9833], [86.4499, 84.7256, 85.8157, 84.9833, 86.212], [84.7256, 85.8157, 84.9833, 86.212, 86.0832], [85.8157, 84.9833, 86.212, 86.0832, 86.7967], [84.9833, 86.212, 86.0832, 86.7967, 86.539], [86.212, 86.0832, 86.7967, 86.539, 86.4499], [86.0832, 86.7967, 86.539, 86.4499, 86.5787], [86.7967, 86.539, 86.4499, 86.5787, 86.9453], [86.539, 86.4499, 86.5787, 86.9453, 85.9346], [86.4499, 86.5787, 86.9453, 85.9346, 87.4111], [86.5787, 86.9453, 85.9346, 87.4111, 87.6786], [86.9453, 85.9346, 87.4111, 87.6786, 88.1741], [85.9346, 87.4111, 87.6786, 88.1741, 87.6093], [87.4111, 87.6786, 88.1741, 87.6093, 88.5011], [87.6786, 88.1741, 87.6093, 88.5011, 88.7092], [88.1741, 87.6093, 88.5011, 88.7092, 89.0659], [87.6093, 88.5011, 88.7092, 89.0659, 90.0173], [88.5011, 88.7092, 89.0659, 90.0173, 89.0858], [88.7092, 89.0659, 90.0173, 89.0858, 90.0866], [89.0659, 90.0173, 89.0858, 90.0866, 89.5614], [90.0173, 89.0858, 90.0866, 89.5614, 90.2154], [89.0858, 90.0866, 89.5614, 90.2154, 88.9569], [90.0866, 89.5614, 90.2154, 88.9569, 89.7695], [89.5614, 90.2154, 88.9569, 89.7695, 88.9867], [90.2154, 88.9569, 89.7695, 88.9867, 87.6588], [88.9569, 89.7695, 88.9867, 87.6588, 87.3813], [89.7695, 88.9867, 87.6588, 87.3813, 86.985], [88.9867, 87.6588, 87.3813, 86.985, 87.3417], [87.6588, 87.3813, 86.985, 87.3417, 88.5308], [87.3813, 86.985, 87.3417, 88.5308, 88.4317], [86.985, 87.3417, 88.5308, 88.4317, 88.8578], [87.3417, 88.5308, 88.4317, 88.8578, 88.6894], [88.5308, 88.4317, 88.8578, 88.6894, 88.4218], [88.4317, 88.8578, 88.6894, 88.4218, 88.5112], [88.8578, 88.6894, 88.4218, 88.5112, 88.829], [88.6894, 88.4218, 88.5112, 88.829, 88.1835], [88.4218, 88.5112, 88.829, 88.1835, 88.0246], [88.5112, 88.829, 88.1835, 88.0246, 87.8359], [88.829, 88.1835, 88.0246, 87.8359, 87.5281], [88.1835, 88.0246, 87.8359, 87.5281, 87.1805], [88.0246, 87.8359, 87.5281, 87.1805, 87.4784], [87.8359, 87.5281, 87.1805, 87.4784, 87.9849], [87.5281, 87.1805, 87.4784, 87.9849, 87.1904], [87.1805, 87.4784, 87.9849, 87.1904, 87.1904], [87.4784, 87.9849, 87.1904, 87.1904, 88.3225], [87.9849, 87.1904, 87.1904, 88.3225, 88.0146], [87.1904, 87.1904, 88.3225, 88.0146, 89.0871], [87.1904, 88.3225, 88.0146, 89.0871, 90.0405], [88.3225, 88.0146, 89.0871, 90.0405, 90.1795], [88.0146, 89.0871, 90.0405, 90.1795, 88.8885], [89.0871, 90.0405, 90.1795, 88.8885, 90.1597], [90.0405, 90.1795, 88.8885, 90.1597, 91.1924], [90.1795, 88.8885, 90.1597, 91.1924, 90.6462], [88.8885, 90.1597, 91.1924, 90.6462, 92.2053], [90.1597, 91.1924, 90.6462, 92.2053, 91.6492], [91.1924, 90.6462, 92.2053, 91.6492, 92.4834], [90.6462, 92.2053, 91.6492, 92.4834, 91.3414], [92.2053, 91.6492, 92.4834, 91.3414, 91.1825], [91.6492, 92.4834, 91.3414, 91.1825, 90.5668], [92.4834, 91.3414, 91.1825, 90.5668, 90.5668], [91.3414, 91.1825, 90.5668, 90.5668, 92.0862], [91.1825, 90.5668, 90.5668, 92.0862, 91.4903], [90.5668, 90.5668, 92.0862, 91.4903, 91.9074], [90.5668, 92.0862, 91.4903, 91.9074, 92.1259], [92.0862, 91.4903, 91.9074, 92.1259, 92.1756], [91.4903, 91.9074, 92.1259, 92.1756, 90.6165], [91.9074, 92.1259, 92.1756, 90.6165, 87.7962], [92.1259, 92.1756, 90.6165, 87.7962, 87.9451], [92.1756, 90.6165, 87.7962, 87.9451, 87.6671], [90.6165, 87.7962, 87.9451, 87.6671, 83.8537], [87.7962, 87.9451, 87.6671, 83.8537, 84.1914], [87.9451, 87.6671, 83.8537, 84.1914, 85.8101], [87.6671, 83.8537, 84.1914, 85.8101, 86.2768], [83.8537, 84.1914, 85.8101, 86.2768, 86.7336], [84.1914, 85.8101, 86.2768, 86.7336, 88.5211], [85.8101, 86.2768, 86.7336, 88.5211, 89.3652], [86.2768, 86.7336, 88.5211, 89.3652, 89.7326], [86.7336, 88.5211, 89.3652, 89.7326, 89.7922], [88.5211, 89.3652, 89.7326, 89.7922, 89.6035], [89.3652, 89.7326, 89.7922, 89.6035, 90.1994], [89.7326, 89.7922, 89.6035, 90.1994, 91.7684], [89.7922, 89.6035, 90.1994, 91.7684, 91.3017], [89.6035, 90.1994, 91.7684, 91.3017, 90.7555], [90.1994, 91.7684, 91.3017, 90.7555, 88.3324], [91.7684, 91.3017, 90.7555, 88.3324, 89.0276], [91.3017, 90.7555, 88.3324, 89.0276, 88.5608], [90.7555, 88.3324, 89.0276, 88.5608, 89.1269], [88.3324, 89.0276, 88.5608, 89.1269, 89.6333], [89.0276, 88.5608, 89.1269, 89.6333, 89.9511], [88.5608, 89.1269, 89.6333, 89.9511, 91.7982], [89.1269, 89.6333, 89.9511, 91.7982, 92.0167], [89.6333, 89.9511, 91.7982, 92.0167, 91.8677], [89.9511, 91.7982, 92.0167, 91.8677, 90.7356], [91.7982, 92.0167, 91.8677, 90.7356, 91.3116], [92.0167, 91.8677, 90.7356, 91.3116, 91.5504], [91.8677, 90.7356, 91.3116, 91.5504, 90.8936], [90.7356, 91.3116, 91.5504, 90.8936, 91.2519], [91.3116, 91.5504, 90.8936, 91.2519, 90.5851], [91.5504, 90.8936, 91.2519, 90.5851, 87.7391], [90.8936, 91.2519, 90.5851, 87.7391, 84.913], [91.2519, 90.5851, 87.7391, 84.913, 86.6644], [90.5851, 87.7391, 84.913, 86.6644, 85.1717], [87.7391, 84.913, 86.6644, 85.1717, 84.4353], [84.913, 86.6644, 85.1717, 84.4353, 85.7091], [86.6644, 85.1717, 84.4353, 85.7091, 83.6392], [85.1717, 84.4353, 85.7091, 83.6392, 84.3856], [84.4353, 85.7091, 83.6392, 84.3856, 84.5747], [85.7091, 83.6392, 84.3856, 84.5747, 84.3557], [83.6392, 84.3856, 84.5747, 84.3557, 82.1665], [84.3856, 84.5747, 84.3557, 82.1665, 83.1715], [84.5747, 84.3557, 82.1665, 83.1715, 84.9528], [84.3557, 82.1665, 83.1715, 84.9528, 84.8632], [82.1665, 83.1715, 84.9528, 84.8632, 85.719], [83.1715, 84.9528, 84.8632, 85.719, 85.1916], [84.9528, 84.8632, 85.719, 85.1916, 86.0474], [84.8632, 85.719, 85.1916, 86.0474, 86.3957], [85.719, 85.1916, 86.0474, 86.3957, 86.7739], [85.1916, 86.0474, 86.3957, 86.7739, 85.7787], [86.0474, 86.3957, 86.7739, 85.7787, 84.7936], [86.3957, 86.7739, 85.7787, 84.7936, 83.9875], [86.7739, 85.7787, 84.7936, 83.9875, 82.3655], [85.7787, 84.7936, 83.9875, 82.3655, 82.475], [84.7936, 83.9875, 82.3655, 82.475, 83.3805], [83.9875, 82.3655, 82.475, 83.3805, 83.8681], [82.3655, 82.475, 83.3805, 83.8681, 83.3009], [82.475, 83.3805, 83.8681, 83.3009, 83.5298], [83.3805, 83.8681, 83.3009, 83.5298, 83.5497], [83.8681, 83.3009, 83.5298, 83.5497, 83.8681], [83.3009, 83.5298, 83.5497, 83.8681, 84.9329], [83.5298, 83.5497, 83.8681, 84.9329, 85.4006], [83.5497, 83.8681, 84.9329, 85.4006, 85.321], [83.8681, 84.9329, 85.4006, 85.321, 85.8882], [84.9329, 85.4006, 85.321, 85.8882, 86.8435], [85.4006, 85.321, 85.8882, 86.8435, 87.55], [85.321, 85.8882, 86.8435, 87.55, 87.759], [85.8882, 86.8435, 87.55, 87.759, 87.4306], [86.8435, 87.55, 87.759, 87.4306, 87.9182], [87.55, 87.759, 87.4306, 87.9182, 87.6894], [87.759, 87.4306, 87.9182, 87.6894, 87.55], [87.4306, 87.9182, 87.6894, 87.55, 88.4954], [87.9182, 87.6894, 87.55, 88.4954, 87.6695], [87.6894, 87.55, 88.4954, 87.6695, 87.76899999999999], [87.55, 88.4954, 87.6695, 87.76899999999999, 87.3709], [88.4954, 87.6695, 87.76899999999999, 87.3709, 86.8435], [87.6695, 87.76899999999999, 87.3709, 86.8435, 86.5549], [87.76899999999999, 87.3709, 86.8435, 86.5549, 87.14200000000001], [87.3709, 86.8435, 86.5549, 87.14200000000001, 86.5052], [86.8435, 86.5549, 87.14200000000001, 86.5052, 87.9381], [86.5549, 87.14200000000001, 86.5052, 87.9381, 87.6595], [87.14200000000001, 86.5052, 87.9381, 87.6595, 89.5104], [86.5052, 87.9381, 87.6595, 89.5104, 89.99799999999999], [87.9381, 87.6595, 89.5104, 89.99799999999999, 90.3662], [87.6595, 89.5104, 89.99799999999999, 90.3662, 90.4657], [89.5104, 89.99799999999999, 90.3662, 90.4657, 90.2766], [89.99799999999999, 90.3662, 90.4657, 90.2766, 90.4259], [90.3662, 90.4657, 90.2766, 90.4259, 90.605], [90.4657, 90.2766, 90.4259, 90.605, 90.7543], [90.2766, 90.4259, 90.605, 90.7543, 91.1035], [90.4259, 90.605, 90.7543, 91.1035, 90.5847], [90.605, 90.7543, 91.1035, 90.5847, 89.4674], [90.7543, 91.1035, 90.5847, 89.4674, 89.62700000000001], [91.1035, 90.5847, 89.4674, 89.62700000000001, 88.2503], [90.5847, 89.4674, 89.62700000000001, 88.2503, 88.9885], [89.4674, 89.62700000000001, 88.2503, 88.9885, 87.5819], [89.62700000000001, 88.2503, 88.9885, 87.5819, 86.9633], [88.2503, 88.9885, 87.5819, 86.9633, 86.0655], [88.9885, 87.5819, 86.9633, 86.0655, 86.8536], [87.5819, 86.9633, 86.0655, 86.8536, 86.9434], [86.9633, 86.0655, 86.8536, 86.9434, 86.9035], [86.0655, 86.8536, 86.9434, 86.9035, 86.5044], [86.8536, 86.9434, 86.9035, 86.5044, 87.6018], [86.9434, 86.9035, 86.5044, 87.6018, 87.9809], [86.9035, 86.5044, 87.6018, 87.9809, 89.1581], [86.5044, 87.6018, 87.9809, 89.1581, 89.0583], [87.6018, 87.9809, 89.1581, 89.0583, 87.4422], [87.9809, 89.1581, 89.0583, 87.4422, 88.8389], [89.1581, 89.0583, 87.4422, 88.8389, 88.4997], [89.0583, 87.4422, 88.8389, 88.4997, 88.3201], [87.4422, 88.8389, 88.4997, 88.3201, 88.79899999999999], [88.8389, 88.4997, 88.3201, 88.79899999999999, 88.9187], [88.4997, 88.3201, 88.79899999999999, 88.9187, 88.38], [88.3201, 88.79899999999999, 88.9187, 88.38, 88.1904], [88.79899999999999, 88.9187, 88.38, 88.1904, 87.7914], [88.9187, 88.38, 88.1904, 87.7914, 88.6693], [88.38, 88.1904, 87.7914, 88.6693, 92.8194], [88.1904, 87.7914, 88.6693, 92.8194, 95.3035], [87.7914, 88.6693, 92.8194, 95.3035, 93.7372], [88.6693, 92.8194, 95.3035, 93.7372, 92.0313], [92.8194, 95.3035, 93.7372, 92.0313, 93.2883], [95.3035, 93.7372, 92.0313, 93.2883, 93.1586], [93.7372, 92.0313, 93.2883, 93.1586, 93.6175], [92.0313, 93.2883, 93.1586, 93.6175, 93.6375], [93.2883, 93.1586, 93.6175, 93.6375, 93.7472], [93.1586, 93.6175, 93.6375, 93.7472, 94.3558], [93.6175, 93.6375, 93.7472, 94.3558, 94.236], [93.6375, 93.7472, 94.3558, 94.236, 94.0964], [93.7472, 94.3558, 94.236, 94.0964, 93.5277], [94.3558, 94.236, 94.0964, 93.5277, 93.6275], [94.236, 94.0964, 93.5277, 93.6275, 93.84700000000001], [94.0964, 93.5277, 93.6275, 93.84700000000001, 93.7073], [93.5277, 93.6275, 93.84700000000001, 93.7073, 93.837], [93.6275, 93.84700000000001, 93.7073, 93.837, 93.82700000000001], [93.84700000000001, 93.7073, 93.837, 93.82700000000001, 94.0764], [93.7073, 93.837, 93.82700000000001, 94.0764, 93.9268], [93.837, 93.82700000000001, 94.0764, 93.9268, 93.1686], [93.82700000000001, 94.0764, 93.9268, 93.1686, 93.2783], [94.0764, 93.9268, 93.1686, 93.2783, 93.3781], [93.9268, 93.1686, 93.2783, 93.3781, 94.2261], [93.1686, 93.2783, 93.3781, 94.2261, 94.3957], [93.2783, 93.3781, 94.2261, 94.3957, 94.8047], [93.3781, 94.2261, 94.3957, 94.8047, 94.1562], [94.2261, 94.3957, 94.8047, 94.1562, 94.3558], [94.3957, 94.8047, 94.1562, 94.3558, 94.3059], [94.8047, 94.1562, 94.3558, 94.3059, 94.8945], [94.1562, 94.3558, 94.3059, 94.8945, 95.3035], [94.3558, 94.3059, 94.8945, 95.3035, 95.1239], [94.3059, 94.8945, 95.3035, 95.1239, 96.0916], [94.8945, 95.3035, 95.1239, 96.0916, 96.4807], [95.3035, 95.1239, 96.0916, 96.4807, 95.4132], [95.1239, 96.0916, 96.4807, 95.4132, 96.76], [96.0916, 96.4807, 95.4132, 96.76, 96.83], [96.4807, 95.4132, 96.76, 96.83, 96.19], [95.4132, 96.76, 96.83, 96.19, 95.37], [96.76, 96.83, 96.19, 95.37, 95.37], [96.83, 96.19, 95.37, 95.37, 96.06], [96.19, 95.37, 95.37, 96.06, 95.36], [95.37, 95.37, 96.06, 95.36, 94.68], [95.37, 96.06, 95.36, 94.68, 94.05], [96.06, 95.36, 94.68, 94.05, 93.6], [95.36, 94.68, 94.05, 93.6, 93.47], [94.68, 94.05, 93.6, 93.47, 94.02]]\n"
     ]
    }
   ],
   "source": [
    "# print(type(max_company_data))\n",
    "# print(max_company_data)\n",
    "# print(max_company_data.shift(-1))\n",
    "# print(len(max_company_data))\n",
    "\n",
    "X_data = []\n",
    "Y_data = []\n",
    "\n",
    "for iter in range(len(max_company_data) - 9):\n",
    "    # get first 5 days for input\n",
    "    X_data.append(list(max_company_data)[:5])\n",
    "    # get following for days for output\n",
    "    Y_data.append(list(max_company_data)[5:9])\n",
    "    # shift data upwards by one step\n",
    "    max_company_data = max_company_data.shift(-1)\n",
    "    \n",
    "print(X_data)\n",
    "    \n"
   ]
  },
  {
   "cell_type": "markdown",
   "metadata": {},
   "source": [
    "#### 3) split dataset into test and train"
   ]
  },
  {
   "cell_type": "code",
   "execution_count": 39,
   "metadata": {},
   "outputs": [
    {
     "name": "stdout",
     "output_type": "stream",
     "text": [
      "Training chunk length:  1000\n",
      "Testing chunk length:  251\n"
     ]
    }
   ],
   "source": [
    "TRAINING_PERCENTAGE = 0.8\n",
    "TESTING_PERCENTAGE = 0.2\n",
    "# VALIDATION_PERCENTAGE = 0.5 \n",
    "\n",
    "from sklearn.model_selection import train_test_split\n",
    "\n",
    "train, test = train_test_split(df_filtered, test_size=TESTING_PERCENTAGE)\n",
    "X_train, X_test, y_train, y_test = train_test_split(X_data, Y_data, test_size=TESTING_PERCENTAGE)\n",
    "\n",
    "print(\"Training chunk length: \", len(X_train))\n",
    "print(\"Testing chunk length: \", len(X_test))\n",
    "# print(X_train)"
   ]
  },
  {
   "cell_type": "markdown",
   "metadata": {},
   "source": [
    "#### 4) Create model and it "
   ]
  },
  {
   "cell_type": "code",
   "execution_count": 41,
   "metadata": {},
   "outputs": [
    {
     "data": {
      "text/plain": [
       "MLPRegressor(activation='relu', alpha=0.0001, batch_size='auto', beta_1=0.9,\n",
       "       beta_2=0.999, early_stopping=True, epsilon=1e-08,\n",
       "       hidden_layer_sizes=(100,), learning_rate='adaptive',\n",
       "       learning_rate_init=0.001, max_iter=10000, momentum=0.9,\n",
       "       n_iter_no_change=10, nesterovs_momentum=True, power_t=0.5,\n",
       "       random_state=1, shuffle=True, solver='adam', tol=0.0001,\n",
       "       validation_fraction=0.1, verbose=False, warm_start=False)"
      ]
     },
     "execution_count": 41,
     "metadata": {},
     "output_type": "execute_result"
    }
   ],
   "source": [
    "from sklearn.neural_network import MLPRegressor\n",
    "\n",
    "model = MLPRegressor(early_stopping=True, max_iter=10000, random_state=1, learning_rate='adaptive')\n",
    "\n",
    "model.fit(X_train, y_train)"
   ]
  },
  {
   "cell_type": "markdown",
   "metadata": {},
   "source": [
    "#### 5) Evaluate model"
   ]
  },
  {
   "cell_type": "code",
   "execution_count": 42,
   "metadata": {},
   "outputs": [
    {
     "name": "stdout",
     "output_type": "stream",
     "text": [
      "Accuracy:  0.994349635826715\n"
     ]
    }
   ],
   "source": [
    "score = model.score(X_test, y_test)\n",
    "\n",
    "print(\"Accuracy: \", score)"
   ]
  },
  {
   "cell_type": "code",
   "execution_count": null,
   "metadata": {},
   "outputs": [],
   "source": []
  },
  {
   "cell_type": "code",
   "execution_count": null,
   "metadata": {},
   "outputs": [],
   "source": []
  },
  {
   "cell_type": "code",
   "execution_count": null,
   "metadata": {},
   "outputs": [],
   "source": []
  },
  {
   "cell_type": "code",
   "execution_count": null,
   "metadata": {},
   "outputs": [],
   "source": []
  },
  {
   "cell_type": "code",
   "execution_count": null,
   "metadata": {},
   "outputs": [],
   "source": []
  },
  {
   "cell_type": "code",
   "execution_count": null,
   "metadata": {},
   "outputs": [],
   "source": []
  },
  {
   "cell_type": "markdown",
   "metadata": {},
   "source": [
    "# Task 3"
   ]
  },
  {
   "cell_type": "markdown",
   "metadata": {},
   "source": [
    "## Some context on the TfidVectorizer and text handing in sklearn\n",
    "\n",
    "* To represent a review to a neural network, each word has to be expressed as a number. \n",
    "\n",
    "* Each word in the review corpus is assigned a unique number. Assume the total number of unique words is feature_count. \n",
    "\n",
    "* Each review can then be represented as a vector of length feature_count. \n",
    "\n",
    "* Entries in this vector can be either 0 or 1, if the word is present in this review or absent respectively. \n",
    "\n",
    "* A more advanced approach will replace the binary numbers above with ratios that emphaise how rare ( and hence meanigful and representative ) the word is across all reviews. For example, a word like \"product\" will have little use for the neural network in determing whetehr this is a rating-1 or rating-5 review, as this particular word occurs in most reviews, both positive and negative ones. \n",
    "\n",
    "* Here we limit the number of feature_count to 40,000 to cut down the training time. \n",
    "\n",
    "more info available from \n",
    "http://scikit-learn.org/stable/tutorial/text_analytics/working_with_text_data.html\n",
    "http://scikit-learn.org/stable/modules/generated/sklearn.feature_extraction.text.TfidfVectorizer.html"
   ]
  },
  {
   "cell_type": "markdown",
   "metadata": {},
   "source": [
    "#### Read dataset and clean"
   ]
  },
  {
   "cell_type": "code",
   "execution_count": 2,
   "metadata": {},
   "outputs": [
    {
     "name": "stdout",
     "output_type": "stream",
     "text": [
      "64706\n"
     ]
    }
   ],
   "source": [
    "import pandas as pd\n",
    "\n",
    "reviews = pd.read_json('reviews_digital.json', lines=True)\n"
   ]
  },
  {
   "cell_type": "code",
   "execution_count": 16,
   "metadata": {},
   "outputs": [
    {
     "name": "stdout",
     "output_type": "stream",
     "text": [
      "overall\n",
      "1     2791\n",
      "2     3010\n",
      "3     6789\n",
      "4    16536\n",
      "5    35580\n",
      "Name: asin, dtype: int64\n",
      "\n",
      "12500\n"
     ]
    }
   ],
   "source": [
    "print(reviews.groupby('overall').count()['asin'])\n",
    "print()\n",
    "frames = []\n",
    "\n",
    "for i in range(1,6):\n",
    "    frames.append(reviews[(reviews['overall'] == i)][:2500])\n",
    "\n",
    "balanced_data = pd.concat(frames)\n",
    "\n",
    "print(len(balanced_data))"
   ]
  },
  {
   "cell_type": "markdown",
   "metadata": {},
   "source": [
    "#### Split data"
   ]
  },
  {
   "cell_type": "code",
   "execution_count": null,
   "metadata": {},
   "outputs": [],
   "source": [
    "from sklearn.model_selection import train_test_split\n",
    "import numpy as np\n",
    "import nltk\n",
    "from nltk.corpus import stopwords \n",
    "from nltk.tokenize import word_tokenize \n",
    "\n",
    "TESTING_PERCENTAGE = 0.2\n",
    "\n",
    "X_data = np.array(balanced_data['reviewText'])\n",
    "\n",
    "stop_words = set(stopwords.words('english')) \n",
    "X_data_new = []\n",
    "for text in X_data:\n",
    "    word_tokens = word_tokenize(text)\n",
    "    filtered_sentence = [w for w in word_tokens if not w in stop_words]\n",
    "    X_data_new.append(' '.join(filtered_sentence))\n",
    "  \n",
    "\n",
    "Y_data = np.array(balanced_data['overall'])\n",
    "\n",
    "\n",
    "X_train, X_test, y_train, y_test = train_test_split(X_data_new, Y_data, test_size=TESTING_PERCENTAGE)\n"
   ]
  },
  {
   "cell_type": "markdown",
   "metadata": {},
   "source": [
    "#### Calculate tfidf scores"
   ]
  },
  {
   "cell_type": "code",
   "execution_count": 35,
   "metadata": {},
   "outputs": [],
   "source": [
    "from sklearn.feature_extraction.text import TfidfTransformer\n",
    "from sklearn.feature_extraction.text import TfidfVectorizer\n",
    "\n",
    "#You need to define X_train and X_test\n",
    "tfidf_vectorizer = TfidfVectorizer(max_features=40000)\n",
    "X_train_transformed = tfidf_vectorizer.fit_transform(X_train)\n",
    "X_test_transformed = tfidf_vectorizer.transform(X_test)\n",
    "\n",
    "# print(X_train_transformed)"
   ]
  },
  {
   "cell_type": "code",
   "execution_count": 65,
   "metadata": {},
   "outputs": [
    {
     "data": {
      "text/plain": [
       "MLPClassifier(activation='relu', alpha=0.0001, batch_size='auto', beta_1=0.9,\n",
       "       beta_2=0.999, early_stopping=True, epsilon=1e-08,\n",
       "       hidden_layer_sizes=(1024,), learning_rate='constant',\n",
       "       learning_rate_init=0.001, max_iter=200, momentum=0.9,\n",
       "       nesterovs_momentum=True, power_t=0.5, random_state=None,\n",
       "       shuffle=True, solver='adam', tol=0.0001, validation_fraction=0.1,\n",
       "       verbose=False, warm_start=False)"
      ]
     },
     "execution_count": 65,
     "metadata": {},
     "output_type": "execute_result"
    }
   ],
   "source": [
    "from sklearn.neural_network import MLPClassifier\n",
    "\n",
    "model = MLPClassifier(early_stopping=True, hidden_layer_sizes=(1024,))\n",
    "\n",
    "model.fit(X_train_transformed, y_train)\n"
   ]
  },
  {
   "cell_type": "code",
   "execution_count": 66,
   "metadata": {},
   "outputs": [
    {
     "name": "stdout",
     "output_type": "stream",
     "text": [
      "0.6264\n"
     ]
    }
   ],
   "source": [
    "print(model.score(X_test_transformed, y_test))"
   ]
  },
  {
   "cell_type": "code",
   "execution_count": null,
   "metadata": {},
   "outputs": [
    {
     "name": "stdout",
     "output_type": "stream",
     "text": [
      "[CV]  ................................................................\n"
     ]
    }
   ],
   "source": [
    "from sklearn import model_selection\n",
    "# seed = 7\n",
    "# kfold = model_selection.KFold(n_splits=10, random_state=seed)\n",
    "scoring = 'accuracy'\n",
    "results = model_selection.cross_val_score(model, X_train_transformed, y_train, cv=3, scoring=scoring, verbose=20)"
   ]
  },
  {
   "cell_type": "code",
   "execution_count": 70,
   "metadata": {},
   "outputs": [
    {
     "data": {
      "text/plain": [
       "0.5972996342489773"
      ]
     },
     "execution_count": 70,
     "metadata": {},
     "output_type": "execute_result"
    }
   ],
   "source": [
    "results.mean()\n",
    "results.std()"
   ]
  },
  {
   "cell_type": "code",
   "execution_count": 57,
   "metadata": {},
   "outputs": [
    {
     "name": "stdout",
     "output_type": "stream",
     "text": [
      "Fitting 3 folds for each of 4 candidates, totalling 12 fits\n",
      "[CV] activation=relu, early_stopping=True, hidden_layer_sizes=(256, 512), solver=adam \n",
      "[CV]  activation=relu, early_stopping=True, hidden_layer_sizes=(256, 512), solver=adam, score=0.5916041979010495, total=  42.9s\n",
      "[CV] activation=relu, early_stopping=True, hidden_layer_sizes=(256, 512), solver=adam \n"
     ]
    },
    {
     "name": "stderr",
     "output_type": "stream",
     "text": [
      "[Parallel(n_jobs=1)]: Done   1 out of   1 | elapsed:   43.0s remaining:    0.0s\n"
     ]
    },
    {
     "name": "stdout",
     "output_type": "stream",
     "text": [
      "[CV]  activation=relu, early_stopping=True, hidden_layer_sizes=(256, 512), solver=adam, score=0.588058805880588, total=  44.4s\n",
      "[CV] activation=relu, early_stopping=True, hidden_layer_sizes=(256, 512), solver=adam \n"
     ]
    },
    {
     "name": "stderr",
     "output_type": "stream",
     "text": [
      "[Parallel(n_jobs=1)]: Done   2 out of   2 | elapsed:  1.5min remaining:    0.0s\n"
     ]
    },
    {
     "name": "stdout",
     "output_type": "stream",
     "text": [
      "[CV]  activation=relu, early_stopping=True, hidden_layer_sizes=(256, 512), solver=adam, score=0.5972388955582233, total=  45.2s\n",
      "[CV] activation=relu, early_stopping=True, hidden_layer_sizes=(512, 1024), solver=adam \n"
     ]
    },
    {
     "name": "stderr",
     "output_type": "stream",
     "text": [
      "[Parallel(n_jobs=1)]: Done   3 out of   3 | elapsed:  2.2min remaining:    0.0s\n"
     ]
    },
    {
     "name": "stdout",
     "output_type": "stream",
     "text": [
      "[CV]  activation=relu, early_stopping=True, hidden_layer_sizes=(512, 1024), solver=adam, score=0.5538230884557721, total= 1.2min\n",
      "[CV] activation=relu, early_stopping=True, hidden_layer_sizes=(512, 1024), solver=adam \n"
     ]
    },
    {
     "name": "stderr",
     "output_type": "stream",
     "text": [
      "[Parallel(n_jobs=1)]: Done   4 out of   4 | elapsed:  3.4min remaining:    0.0s\n"
     ]
    },
    {
     "name": "stdout",
     "output_type": "stream",
     "text": [
      "[CV]  activation=relu, early_stopping=True, hidden_layer_sizes=(512, 1024), solver=adam, score=0.5739573957395739, total= 1.4min\n",
      "[CV] activation=relu, early_stopping=True, hidden_layer_sizes=(512, 1024), solver=adam \n"
     ]
    },
    {
     "name": "stderr",
     "output_type": "stream",
     "text": [
      "[Parallel(n_jobs=1)]: Done   5 out of   5 | elapsed:  4.8min remaining:    0.0s\n"
     ]
    },
    {
     "name": "stdout",
     "output_type": "stream",
     "text": [
      "[CV]  activation=relu, early_stopping=True, hidden_layer_sizes=(512, 1024), solver=adam, score=0.595438175270108, total= 1.5min\n",
      "[CV] activation=tanh, early_stopping=True, hidden_layer_sizes=(256, 512), solver=adam \n"
     ]
    },
    {
     "name": "stderr",
     "output_type": "stream",
     "text": [
      "[Parallel(n_jobs=1)]: Done   6 out of   6 | elapsed:  6.3min remaining:    0.0s\n"
     ]
    },
    {
     "name": "stdout",
     "output_type": "stream",
     "text": [
      "[CV]  activation=tanh, early_stopping=True, hidden_layer_sizes=(256, 512), solver=adam, score=0.5997001499250375, total=  44.1s\n",
      "[CV] activation=tanh, early_stopping=True, hidden_layer_sizes=(256, 512), solver=adam \n"
     ]
    },
    {
     "name": "stderr",
     "output_type": "stream",
     "text": [
      "[Parallel(n_jobs=1)]: Done   7 out of   7 | elapsed:  7.0min remaining:    0.0s\n"
     ]
    },
    {
     "name": "stdout",
     "output_type": "stream",
     "text": [
      "[CV]  activation=tanh, early_stopping=True, hidden_layer_sizes=(256, 512), solver=adam, score=0.5958595859585959, total=  44.7s\n",
      "[CV] activation=tanh, early_stopping=True, hidden_layer_sizes=(256, 512), solver=adam \n"
     ]
    },
    {
     "name": "stderr",
     "output_type": "stream",
     "text": [
      "[Parallel(n_jobs=1)]: Done   8 out of   8 | elapsed:  7.7min remaining:    0.0s\n"
     ]
    },
    {
     "name": "stdout",
     "output_type": "stream",
     "text": [
      "[CV]  activation=tanh, early_stopping=True, hidden_layer_sizes=(256, 512), solver=adam, score=0.5897358943577431, total=  45.6s\n",
      "[CV] activation=tanh, early_stopping=True, hidden_layer_sizes=(512, 1024), solver=adam \n"
     ]
    },
    {
     "name": "stderr",
     "output_type": "stream",
     "text": [
      "[Parallel(n_jobs=1)]: Done   9 out of   9 | elapsed:  8.5min remaining:    0.0s\n"
     ]
    },
    {
     "name": "stdout",
     "output_type": "stream",
     "text": [
      "[CV]  activation=tanh, early_stopping=True, hidden_layer_sizes=(512, 1024), solver=adam, score=0.5757121439280359, total= 1.1min\n",
      "[CV] activation=tanh, early_stopping=True, hidden_layer_sizes=(512, 1024), solver=adam \n"
     ]
    },
    {
     "name": "stderr",
     "output_type": "stream",
     "text": [
      "[Parallel(n_jobs=1)]: Done  10 out of  10 | elapsed:  9.6min remaining:    0.0s\n"
     ]
    },
    {
     "name": "stdout",
     "output_type": "stream",
     "text": [
      "[CV]  activation=tanh, early_stopping=True, hidden_layer_sizes=(512, 1024), solver=adam, score=0.5916591659165916, total= 1.1min\n",
      "[CV] activation=tanh, early_stopping=True, hidden_layer_sizes=(512, 1024), solver=adam \n"
     ]
    },
    {
     "name": "stderr",
     "output_type": "stream",
     "text": [
      "[Parallel(n_jobs=1)]: Done  11 out of  11 | elapsed: 10.8min remaining:    0.0s\n"
     ]
    },
    {
     "name": "stdout",
     "output_type": "stream",
     "text": [
      "[CV]  activation=tanh, early_stopping=True, hidden_layer_sizes=(512, 1024), solver=adam, score=0.5834333733493398, total= 1.2min\n"
     ]
    },
    {
     "name": "stderr",
     "output_type": "stream",
     "text": [
      "[Parallel(n_jobs=1)]: Done  12 out of  12 | elapsed: 11.9min remaining:    0.0s\n",
      "[Parallel(n_jobs=1)]: Done  12 out of  12 | elapsed: 11.9min finished\n"
     ]
    },
    {
     "data": {
      "text/plain": [
       "GridSearchCV(cv=None, error_score='raise',\n",
       "       estimator=MLPClassifier(activation='relu', alpha=0.0001, batch_size='auto', beta_1=0.9,\n",
       "       beta_2=0.999, early_stopping=True, epsilon=1e-08,\n",
       "       hidden_layer_sizes=(100,), learning_rate='constant',\n",
       "       learning_rate_init=0.001, max_iter=200, momentum=0.9,\n",
       "       nesterovs_momentum=True, power_t=0.5, random_state=None,\n",
       "       shuffle=True, solver='adam', tol=0.0001, validation_fraction=0.1,\n",
       "       verbose=False, warm_start=False),\n",
       "       fit_params=None, iid=True, n_jobs=1,\n",
       "       param_grid={'solver': ['adam'], 'activation': ['relu', 'tanh'], 'hidden_layer_sizes': [(256, 512), (512, 1024)], 'early_stopping': [True]},\n",
       "       pre_dispatch='2*n_jobs', refit=True, return_train_score='warn',\n",
       "       scoring=None, verbose=20)"
      ]
     },
     "execution_count": 57,
     "metadata": {},
     "output_type": "execute_result"
    }
   ],
   "source": [
    "from sklearn.model_selection import GridSearchCV\n",
    "\n",
    "param_grid = {\n",
    "    'solver': ['adam'],\n",
    "    'activation': ['relu', 'tanh'],\n",
    "    'hidden_layer_sizes': [(256, 512), (512, 1024)],\n",
    "    'early_stopping': [True]\n",
    "}\n",
    "\n",
    "grid_search = GridSearchCV(model, param_grid=param_grid, verbose=20)\n",
    "\n",
    "grid_search.fit(X_train_transformed, y_train)"
   ]
  },
  {
   "cell_type": "code",
   "execution_count": 59,
   "metadata": {},
   "outputs": [
    {
     "name": "stdout",
     "output_type": "stream",
     "text": [
      "{'activation': 'tanh', 'early_stopping': True, 'hidden_layer_sizes': (256, 512), 'solver': 'adam'}\n"
     ]
    }
   ],
   "source": [
    "print(grid_search.best_params_)"
   ]
  }
 ],
 "metadata": {
  "kernelspec": {
   "display_name": "Python 3",
   "language": "python",
   "name": "python3"
  },
  "language_info": {
   "codemirror_mode": {
    "name": "ipython",
    "version": 3
   },
   "file_extension": ".py",
   "mimetype": "text/x-python",
   "name": "python",
   "nbconvert_exporter": "python",
   "pygments_lexer": "ipython3",
   "version": "3.7.0"
  }
 },
 "nbformat": 4,
 "nbformat_minor": 2
}
