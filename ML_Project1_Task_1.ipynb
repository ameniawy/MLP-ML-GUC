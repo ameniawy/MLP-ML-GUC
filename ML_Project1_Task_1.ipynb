{
 "cells": [
  {
   "cell_type": "markdown",
   "metadata": {},
   "source": [
    "# Task 1"
   ]
  },
  {
   "cell_type": "markdown",
   "metadata": {},
   "source": [
    "### Imports"
   ]
  },
  {
   "cell_type": "code",
   "execution_count": 1,
   "metadata": {},
   "outputs": [],
   "source": [
    "import pandas as pd\n",
    "import numpy as np\n",
    "from sklearn.neural_network import MLPRegressor\n",
    "from sklearn.model_selection import GridSearchCV\n",
    "from sklearn.metrics import accuracy_score, mean_squared_error, mean_squared_log_error\n",
    "from sklearn.model_selection import train_test_split\n",
    "from sklearn.model_selection import cross_val_score\n",
    "from sklearn import preprocessing\n",
    "import matplotlib.pyplot as plt"
   ]
  },
  {
   "cell_type": "markdown",
   "metadata": {},
   "source": [
    "#### 1) Build colleration matrix and filter results with corellation > 95 or < -.95"
   ]
  },
  {
   "cell_type": "code",
   "execution_count": 2,
   "metadata": {},
   "outputs": [
    {
     "name": "stdout",
     "output_type": "stream",
     "text": [
      "Total number of companies staisfying the correlation threshold:  72\n"
     ]
    }
   ],
   "source": [
    "df = pd.read_csv('sp500_27270.csv')\n",
    "\n",
    "# compute correlations\n",
    "corr = df.corr()\n",
    "filtered_companies = [company for company in corr['SP500'].keys() if corr['SP500'][company] > 0.95 or corr['SP500'][company] < -0.95]\n",
    "\n",
    "# select only the most corrleated companies\n",
    "df_filtered = df.filter(filtered_companies)\n",
    "\n",
    "print(\"Total number of companies staisfying the correlation threshold: \", len(filtered_companies))\n"
   ]
  },
  {
   "cell_type": "markdown",
   "metadata": {},
   "source": [
    "#### 2) Split dataset to training and testing"
   ]
  },
  {
   "cell_type": "code",
   "execution_count": 21,
   "metadata": {},
   "outputs": [
    {
     "name": "stdout",
     "output_type": "stream",
     "text": [
      "Training chunk length:  1008\n",
      "Testing chunk length:  252\n"
     ]
    }
   ],
   "source": [
    "TRAINING_PERCENTAGE = 0.8\n",
    "TESTING_PERCENTAGE = 0.2\n",
    "\n",
    "X_data = np.array(df_filtered.drop(columns=['SP500']))\n",
    "Y_data = np.array(df_filtered['SP500'])\n",
    "\n",
    "X_train, X_test, Y_train, Y_test = train_test_split(X_data, Y_data, test_size=TESTING_PERCENTAGE)\n",
    "\n",
    "\n",
    "print(\"Training chunk length: \", len(X_train))\n",
    "print(\"Testing chunk length: \", len(X_test))"
   ]
  },
  {
   "cell_type": "markdown",
   "metadata": {},
   "source": [
    "#### 3) Choose scoring metric "
   ]
  },
  {
   "cell_type": "code",
   "execution_count": 14,
   "metadata": {},
   "outputs": [],
   "source": [
    "# We chose MSE since it's a regression problem and the output range is large and error needs to be minimized\n",
    "scoring_metric = \"neg_mean_squared_log_error\""
   ]
  },
  {
   "cell_type": "markdown",
   "metadata": {},
   "source": [
    "#### 4) Train the neural network with both the sgd and adam optimizer"
   ]
  },
  {
   "cell_type": "code",
   "execution_count": 32,
   "metadata": {},
   "outputs": [
    {
     "name": "stdout",
     "output_type": "stream",
     "text": [
      "\n",
      "-------------------------Adam-----------------------\n",
      "\n",
      "MSLE:  0.022916126889398248\n",
      "MSLE:  0.0001854633751186637\n",
      "MSLE:  0.00019062252107250488\n"
     ]
    }
   ],
   "source": [
    "print(\"\\n-------------------------Adam-----------------------\\n\")\n",
    "\n",
    "model = MLPRegressor(early_stopping=True, max_iter=10000, random_state=1, learning_rate_init=0.01, learning_rate='adaptive', solver='adam')\n",
    "model.fit(X_train, Y_train)\n",
    "y_predictions = model.predict(X_test)\n",
    "MSLE = mean_squared_log_error(Y_test, y_predictions)\n",
    "print(\"MSLE: \", MSLE)\n",
    "\n",
    "model = MLPRegressor(early_stopping=True, max_iter=100000, hidden_layer_sizes=(1024, 1024), random_state=1, learning_rate_init=0.01, alpha=0.1, learning_rate='constant', solver='adam')\n",
    "model.fit(X_train, Y_train)\n",
    "y_predictions = model.predict(X_test)\n",
    "MSLE = mean_squared_log_error(Y_test, y_predictions)\n",
    "print(\"MSLE: \", MSLE)\n",
    "\n",
    "model = MLPRegressor(early_stopping=True, max_iter=100000, hidden_layer_sizes=(1024,), random_state=1, learning_rate_init=0.01, alpha=0.1, learning_rate='constant', solver='adam')\n",
    "model.fit(X_train, Y_train)\n",
    "y_predictions = model.predict(X_test)\n",
    "MSLE = mean_squared_log_error(Y_test, y_predictions)\n",
    "print(\"MSLE: \", MSLE)"
   ]
  },
  {
   "cell_type": "code",
   "execution_count": 16,
   "metadata": {},
   "outputs": [
    {
     "name": "stdout",
     "output_type": "stream",
     "text": [
      "\n",
      "-------------------------SGD-----------------------\n",
      "\n",
      "MSLE:  0.018798115492017146\n",
      "MSLE:  0.01786444006983937\n",
      "\n",
      "Concluding SGD is worse in general\n"
     ]
    }
   ],
   "source": [
    "print(\"\\n-------------------------SGD-----------------------\\n\")\n",
    "\n",
    "model = MLPRegressor(early_stopping=True, hidden_layer_sizes=(1024,2), max_iter=10000, random_state=1, learning_rate_init=0.01, learning_rate='adaptive', solver='sgd')\n",
    "model.fit(X_train, Y_train)\n",
    "y_predictions = model.predict(X_test)\n",
    "MSLE = mean_squared_log_error(Y_test, y_predictions)\n",
    "print(\"MSLE: \", MSLE)\n",
    "\n",
    "\n",
    "model = MLPRegressor(early_stopping=True, max_iter=10000, hidden_layer_sizes=(1024,4,2), random_state=1, learning_rate_init=0.1, learning_rate='adaptive', solver='sgd')\n",
    "model.fit(X_train, Y_train)\n",
    "y_predictions = model.predict(X_test)\n",
    "MSLE = mean_squared_log_error(Y_test, y_predictions)\n",
    "print(\"MSLE: \", MSLE)\n",
    "\n",
    "print(\"\\nConcluding SGD is worse in general\")\n"
   ]
  },
  {
   "cell_type": "code",
   "execution_count": 33,
   "metadata": {},
   "outputs": [
    {
     "name": "stdout",
     "output_type": "stream",
     "text": [
      "Finally using best params\n",
      "\n",
      "Iteration 1, loss = 1740283.01773266\n",
      "Validation score: -4.009707\n",
      "Iteration 2, loss = 223186.02038350\n",
      "Validation score: -0.225742\n",
      "Iteration 3, loss = 49433.87912241\n",
      "Validation score: 0.278246\n",
      "Iteration 4, loss = 37393.03347118\n",
      "Validation score: 0.344015\n",
      "Iteration 5, loss = 32033.74474674\n",
      "Validation score: 0.423799\n",
      "Iteration 6, loss = 28474.22001631\n",
      "Validation score: 0.536701\n",
      "Iteration 7, loss = 23212.47817825\n",
      "Validation score: 0.529690\n",
      "Iteration 8, loss = 19242.82091961\n",
      "Validation score: 0.714661\n",
      "Iteration 9, loss = 11847.17191748\n",
      "Validation score: 0.829987\n",
      "Iteration 10, loss = 7088.68408679\n",
      "Validation score: 0.912588\n",
      "Iteration 11, loss = 3397.45760739\n",
      "Validation score: 0.960615\n",
      "Iteration 12, loss = 1445.96491372\n",
      "Validation score: 0.977320\n",
      "Iteration 13, loss = 982.88509052\n",
      "Validation score: 0.979341\n",
      "Iteration 14, loss = 955.31166899\n",
      "Validation score: 0.977918\n",
      "Iteration 15, loss = 1028.76625988\n",
      "Validation score: 0.977944\n",
      "Iteration 16, loss = 936.88285290\n",
      "Validation score: 0.981894\n",
      "Iteration 17, loss = 945.13846111\n",
      "Validation score: 0.974233\n",
      "Iteration 18, loss = 1101.79568758\n",
      "Validation score: 0.983937\n",
      "Iteration 19, loss = 760.87972413\n",
      "Validation score: 0.983290\n",
      "Iteration 20, loss = 771.47578288\n",
      "Validation score: 0.983125\n",
      "Iteration 21, loss = 815.75555073\n",
      "Validation score: 0.986193\n",
      "Iteration 22, loss = 734.51844744\n",
      "Validation score: 0.986750\n",
      "Iteration 23, loss = 652.63341284\n",
      "Validation score: 0.986858\n",
      "Iteration 24, loss = 576.84744424\n",
      "Validation score: 0.986346\n",
      "Iteration 25, loss = 654.56668324\n",
      "Validation score: 0.986154\n",
      "Iteration 26, loss = 554.94686326\n",
      "Validation score: 0.987206\n",
      "Iteration 27, loss = 591.95483943\n",
      "Validation score: 0.984418\n",
      "Iteration 28, loss = 645.40736261\n",
      "Validation score: 0.984827\n",
      "Iteration 29, loss = 620.84257805\n",
      "Validation score: 0.989098\n",
      "Iteration 30, loss = 670.35233427\n",
      "Validation score: 0.989276\n",
      "Iteration 31, loss = 529.07022271\n",
      "Validation score: 0.983717\n",
      "Iteration 32, loss = 604.29422695\n",
      "Validation score: 0.988444\n",
      "Iteration 33, loss = 488.74366950\n",
      "Validation score: 0.990229\n",
      "Iteration 34, loss = 464.73853429\n",
      "Validation score: 0.990180\n",
      "Iteration 35, loss = 460.21869457\n",
      "Validation score: 0.990539\n",
      "Iteration 36, loss = 435.75811041\n",
      "Validation score: 0.986119\n",
      "Iteration 37, loss = 631.25055158\n",
      "Validation score: 0.987274\n",
      "Iteration 38, loss = 714.00803526\n",
      "Validation score: 0.981241\n",
      "Validation score did not improve more than tol=0.000100 for two consecutive epochs. Stopping.\n",
      "\n",
      "Score:  0.9919026010981488\n",
      "MSLE:  0.00019062252107250488\n"
     ]
    }
   ],
   "source": [
    "print(\"Finally using best params\\n\")\n",
    "\n",
    "model = MLPRegressor(early_stopping=True, hidden_layer_sizes=(1024, 1024), random_state=1, learning_rate_init=0.01, alpha=0.1, learning_rate='constant', solver='adam', verbose=20)\n",
    "model.fit(X_train, Y_train)\n",
    "y_predictions = model.predict(X_test)\n",
    "score = model.score(X_test, Y_test)\n",
    "print(\"\\nScore: \", score)\n",
    "MSLE = mean_squared_log_error(Y_test, y_predictions)\n",
    "print(\"MSLE: \", MSE)"
   ]
  },
  {
   "cell_type": "markdown",
   "metadata": {},
   "source": [
    "#### 5) Indicate which regularization technique you use to avoid overfitting."
   ]
  },
  {
   "cell_type": "markdown",
   "metadata": {},
   "source": [
    "We used early stopping to stop the the training when the validation error stops decreasing or the change is slow. Not stopping might cause the validation error to increase.\n",
    "\n",
    "We also used alpha=0.1 to decrease the penalty for the bigger weights."
   ]
  },
  {
   "cell_type": "markdown",
   "metadata": {},
   "source": [
    "#### 6) Which optimizer performs better in this task? Why?"
   ]
  },
  {
   "cell_type": "code",
   "execution_count": 34,
   "metadata": {},
   "outputs": [
    {
     "name": "stdout",
     "output_type": "stream",
     "text": [
      "Iteration 1, loss = 2614164.88898711\n",
      "Validation score: -45.887074\n",
      "Iteration 2, loss = 2412920.08119258\n",
      "Validation score: -30.587150\n",
      "Iteration 3, loss = 1200236.68176821\n",
      "Validation score: -42.806763\n",
      "Iteration 4, loss = 1708999.75682736\n",
      "Validation score: -33.678033\n",
      "Iteration 5, loss = 1327000.60772516\n",
      "Validation score: -13.308418\n",
      "Iteration 6, loss = 496111.89395433\n",
      "Validation score: -0.984356\n",
      "Iteration 7, loss = 129338.22720838\n",
      "Validation score: -6.233188\n",
      "Iteration 8, loss = 431183.73643262\n",
      "Validation score: -0.388294\n",
      "Iteration 9, loss = 40947.80677231\n",
      "Validation score: -7.611207\n",
      "Iteration 10, loss = 279643.76448772\n",
      "Validation score: -0.452298\n",
      "Iteration 11, loss = 40621.50378374\n",
      "Validation score: -2.057630\n",
      "Validation score did not improve more than tol=0.000100 for two consecutive epochs. Stopping.\n",
      "Iteration 1, loss = 2549446.28899474\n",
      "Validation score: -36.589172\n",
      "Iteration 2, loss = 2264316.28873432\n",
      "Validation score: -22.177891\n",
      "Iteration 3, loss = 1190300.99102445\n",
      "Validation score: -30.551441\n",
      "Iteration 4, loss = 1642566.99915668\n",
      "Validation score: -22.763974\n",
      "Iteration 5, loss = 1221421.19847915\n",
      "Validation score: -7.085636\n",
      "Iteration 6, loss = 387262.84746327\n",
      "Validation score: -2.781159\n",
      "Iteration 7, loss = 248845.89935324\n",
      "Validation score: -3.361421\n",
      "Iteration 8, loss = 285178.65808356\n",
      "Validation score: -0.528190\n",
      "Iteration 9, loss = 62744.22402286\n",
      "Validation score: -1.755141\n",
      "Iteration 10, loss = 119293.45974509\n",
      "Validation score: 0.163838\n",
      "Iteration 11, loss = 42133.75527142\n",
      "Validation score: -0.283830\n",
      "Iteration 12, loss = 83653.62489910\n",
      "Validation score: 0.184200\n",
      "Iteration 13, loss = 38418.33904847\n",
      "Validation score: -0.696280\n",
      "Iteration 14, loss = 70537.25711132\n",
      "Validation score: -0.077053\n",
      "Iteration 15, loss = 44514.61518056\n",
      "Validation score: 0.246937\n",
      "Iteration 16, loss = 41190.74970256\n",
      "Validation score: 0.169390\n",
      "Iteration 17, loss = 50158.54446739\n",
      "Validation score: 0.289389\n",
      "Iteration 18, loss = 36385.41240554\n",
      "Validation score: 0.076616\n",
      "Iteration 19, loss = 38599.56370846\n",
      "Validation score: -0.059532\n",
      "Iteration 20, loss = 43563.80641954\n",
      "Validation score: 0.177620\n",
      "Validation score did not improve more than tol=0.000100 for two consecutive epochs. Stopping.\n",
      "Iteration 1, loss = 2505042.90545959\n",
      "Validation score: -49.644934\n",
      "Iteration 2, loss = 2163276.95335042\n",
      "Validation score: -25.972394\n",
      "Iteration 3, loss = 1182236.03589848\n",
      "Validation score: -35.118238\n",
      "Iteration 4, loss = 1578951.26464040\n",
      "Validation score: -25.231241\n",
      "Iteration 5, loss = 1151206.63714577\n",
      "Validation score: -6.300277\n",
      "Iteration 6, loss = 330833.86144584\n",
      "Validation score: -6.048585\n",
      "Iteration 7, loss = 304258.50480599\n",
      "Validation score: -4.819899\n",
      "Iteration 8, loss = 252229.14589917\n",
      "Validation score: -0.501974\n",
      "Iteration 9, loss = 76494.54391768\n",
      "Validation score: -1.007490\n",
      "Iteration 10, loss = 98784.87763576\n",
      "Validation score: 0.217166\n",
      "Iteration 11, loss = 41687.35639927\n",
      "Validation score: -0.436274\n",
      "Iteration 12, loss = 67748.28231717\n",
      "Validation score: 0.336373\n",
      "Iteration 13, loss = 37051.86905777\n",
      "Validation score: -0.144126\n",
      "Iteration 14, loss = 59803.75166082\n",
      "Validation score: 0.263707\n",
      "Iteration 15, loss = 41057.23160361\n",
      "Validation score: 0.294877\n",
      "Validation score did not improve more than tol=0.000100 for two consecutive epochs. Stopping.\n",
      "Validation score:  [-0.02579086 -0.01352409 -0.01737431]\n"
     ]
    }
   ],
   "source": [
    "cross_score = cross_val_score(model, X_test, Y_test, scoring=scoring_metric)\n",
    "print(\"Validation score: \", cross_score)"
   ]
  },
  {
   "cell_type": "code",
   "execution_count": 35,
   "metadata": {},
   "outputs": [
    {
     "data": {
      "text/plain": [
       "-0.01889642082276505"
      ]
     },
     "execution_count": 35,
     "metadata": {},
     "output_type": "execute_result"
    }
   ],
   "source": [
    "cross_score.mean()"
   ]
  },
  {
   "cell_type": "markdown",
   "metadata": {},
   "source": [
    "Adam is the best optimizer, this was concluded from trying different values with Adam and Sgd."
   ]
  },
  {
   "cell_type": "markdown",
   "metadata": {},
   "source": [
    "#### 7) Plotting predicted vs actual Y values"
   ]
  },
  {
   "cell_type": "code",
   "execution_count": 53,
   "metadata": {},
   "outputs": [
    {
     "data": {
      "image/png": "[encoded data removed]",
      "text/plain": [
       "<Figure size 432x288 with 1 Axes>"
      ]
     },
     "metadata": {
      "needs_background": "light"
     },
     "output_type": "display_data"
    }
   ],
   "source": [
    "fig = plt.figure()\n",
    "ax = fig.add_axes([1,0.1,0.8,0.8])\n",
    "ax.scatter(X_test[:,1], Y_test, c='r', label='Actual values')\n",
    "ax.scatter(X_test[:,1], y_predictions, c='b', label='Predicted values')\n",
    "\n",
    "ax.grid()\n",
    "ax.legend(loc='best')\n",
    "ax.set_xlabel('One of the companies')\n",
    "ax.set_ylabel('S&P')\n",
    "ax.set_title('S&P VS Company')\n",
    "\n",
    "plt.show()"
   ]
  },
  {
   "cell_type": "markdown",
   "metadata": {},
   "source": [
    "#### 8) Comment on the points where the prediction and true values mismatch most"
   ]
  },
  {
   "cell_type": "markdown",
   "metadata": {},
   "source": [
    "These points are outliers in the dataset and should be removed"
   ]
  },
  {
   "cell_type": "markdown",
   "metadata": {},
   "source": [
    "# Task 2"
   ]
  },
  {
   "cell_type": "markdown",
   "metadata": {},
   "source": [
    "#### 1) get most correlated company"
   ]
  },
  {
   "cell_type": "code",
   "execution_count": 37,
   "metadata": {},
   "outputs": [
    {
     "name": "stdout",
     "output_type": "stream",
     "text": [
      "Company name: APH\n",
      "Colleration: 0.9883608178608217\n"
     ]
    }
   ],
   "source": [
    "max_corr = -100\n",
    "max_company = ''\n",
    "\n",
    "for i in corr['SP500'].keys():\n",
    "    if corr['SP500'][i] > max_corr and i != 'SP500':\n",
    "        max_corr = corr['SP500'][i]\n",
    "        max_company = i\n",
    "        \n",
    "        \n",
    "print('Company name:', max_company)\n",
    "print('Colleration:', max_corr)\n",
    "\n",
    "max_company_data = df[max_company]"
   ]
  },
  {
   "cell_type": "markdown",
   "metadata": {},
   "source": [
    "#### 2) prepare input and output data set of days using shifting"
   ]
  },
  {
   "cell_type": "code",
   "execution_count": 38,
   "metadata": {},
   "outputs": [],
   "source": [
    "X_data = []\n",
    "Y_data = []\n",
    "\n",
    "for iter in range(len(max_company_data) - 9):\n",
    "    # get first 5 days for input\n",
    "    X_data.append(list(max_company_data)[:5])\n",
    "    # get following for days for output\n",
    "    Y_data.append(list(max_company_data)[5:9])\n",
    "    # shift data upwards by one step\n",
    "    max_company_data = max_company_data.shift(-1)"
   ]
  },
  {
   "cell_type": "markdown",
   "metadata": {},
   "source": [
    "#### 3) split dataset into test and train"
   ]
  },
  {
   "cell_type": "code",
   "execution_count": 39,
   "metadata": {},
   "outputs": [
    {
     "name": "stdout",
     "output_type": "stream",
     "text": [
      "Training chunk length:  1000\n",
      "Testing chunk length:  251\n"
     ]
    }
   ],
   "source": [
    "TRAINING_PERCENTAGE = 0.8\n",
    "TESTING_PERCENTAGE = 0.2\n",
    "# VALIDATION_PERCENTAGE = 0.5 \n",
    "\n",
    "from sklearn.model_selection import train_test_split\n",
    "\n",
    "train, test = train_test_split(df_filtered, test_size=TESTING_PERCENTAGE)\n",
    "X_train, X_test, y_train, y_test = train_test_split(X_data, Y_data, test_size=TESTING_PERCENTAGE)\n",
    "\n",
    "print(\"Training chunk length: \", len(X_train))\n",
    "print(\"Testing chunk length: \", len(X_test))"
   ]
  },
  {
   "cell_type": "markdown",
   "metadata": {},
   "source": [
    "#### 4) Create model and fit "
   ]
  },
  {
   "cell_type": "code",
   "execution_count": 41,
   "metadata": {},
   "outputs": [
    {
     "name": "stdout",
     "output_type": "stream",
     "text": [
      "Score:  0.994549198467953\n"
     ]
    }
   ],
   "source": [
    "from sklearn.neural_network import MLPRegressor\n",
    "\n",
    "model = MLPRegressor(early_stopping=True)\n",
    "\n",
    "model.fit(X_train, y_train)\n",
    "\n",
    "score = model.score(X_test, y_test)\n",
    "\n",
    "print(\"Score: \", score)"
   ]
  },
  {
   "cell_type": "markdown",
   "metadata": {},
   "source": [
    "We chose MSE since it's a regression problem and the output range is acceptable, so no need for using mean squared log error"
   ]
  },
  {
   "cell_type": "code",
   "execution_count": 42,
   "metadata": {},
   "outputs": [],
   "source": [
    "scoring_metric = \"neg_mean_squared_error\""
   ]
  },
  {
   "cell_type": "code",
   "execution_count": 45,
   "metadata": {},
   "outputs": [
    {
     "name": "stdout",
     "output_type": "stream",
     "text": [
      "\n",
      "Score:  0.9946417462315174\n",
      "MSE:  1.3481863329581911\n"
     ]
    },
    {
     "name": "stderr",
     "output_type": "stream",
     "text": [
      "/home/ameniawy/anaconda3/lib/python3.7/site-packages/sklearn/neural_network/multilayer_perceptron.py:564: ConvergenceWarning: Stochastic Optimizer: Maximum iterations (200) reached and the optimization hasn't converged yet.\n",
      "  % self.max_iter, ConvergenceWarning)\n"
     ]
    },
    {
     "name": "stdout",
     "output_type": "stream",
     "text": [
      "\n",
      "Score:  0.9899238725463174\n",
      "MSE:  2.5352470989903395\n",
      "\n",
      "Score:  0.9947258662881608\n",
      "MSE:  1.327020946697187\n"
     ]
    }
   ],
   "source": [
    "model = MLPRegressor(early_stopping=True, random_state=1, learning_rate_init=0.001, learning_rate='adaptive', solver='adam', hidden_layer_sizes=(100,2))\n",
    "model.fit(X_train, y_train)\n",
    "y_predictions = model.predict(X_test)\n",
    "score = model.score(X_test, y_test)\n",
    "print(\"\\nScore: \", score)\n",
    "MSE = mean_squared_error(y_test, y_predictions)\n",
    "print(\"MSE: \", MSE)\n",
    "\n",
    "model = MLPRegressor(early_stopping=True, random_state=1, learning_rate_init=0.001, learning_rate='adaptive', solver='adam', hidden_layer_sizes=(1024,2))\n",
    "model.fit(X_train, y_train)\n",
    "y_predictions = model.predict(X_test)\n",
    "score = model.score(X_test, y_test)\n",
    "print(\"\\nScore: \", score)\n",
    "MSE = mean_squared_error(y_test, y_predictions)\n",
    "print(\"MSE: \", MSE)\n",
    "\n",
    "model = MLPRegressor(early_stopping=True, random_state=1, learning_rate_init=0.001, learning_rate='adaptive', solver='adam', hidden_layer_sizes=(512, 128))\n",
    "model.fit(X_train, y_train)\n",
    "y_predictions = model.predict(X_test)\n",
    "score = model.score(X_test, y_test)\n",
    "print(\"\\nScore: \", score)\n",
    "MSE = mean_squared_error(y_test, y_predictions)\n",
    "print(\"MSE: \", MSE)"
   ]
  },
  {
   "cell_type": "markdown",
   "metadata": {},
   "source": [
    "#### 5) Evaluate model using best params"
   ]
  },
  {
   "cell_type": "code",
   "execution_count": 46,
   "metadata": {},
   "outputs": [
    {
     "name": "stdout",
     "output_type": "stream",
     "text": [
      "Score:  0.9946417462315174\n"
     ]
    }
   ],
   "source": [
    "model = MLPRegressor(early_stopping=True, random_state=1, learning_rate_init=0.001, learning_rate='adaptive', solver='adam', hidden_layer_sizes=(100,2))\n",
    "\n",
    "model.fit(X_train, y_train)\n",
    "\n",
    "score = model.score(X_test, y_test)\n",
    "\n",
    "print(\"Score: \", score)"
   ]
  },
  {
   "cell_type": "code",
   "execution_count": 47,
   "metadata": {},
   "outputs": [
    {
     "name": "stdout",
     "output_type": "stream",
     "text": [
      "\n",
      "Score:  0.9946417462315174\n",
      "MSE:  1.3481863329581911\n"
     ]
    }
   ],
   "source": [
    "y_predictions = model.predict(X_test)\n",
    "score = model.score(X_test, y_test)\n",
    "print(\"\\nScore: \", score)\n",
    "MSE = mean_squared_error(y_test, y_predictions)\n",
    "print(\"MSE: \", MSE)"
   ]
  },
  {
   "cell_type": "markdown",
   "metadata": {},
   "source": [
    "#### Try 3 instances"
   ]
  },
  {
   "cell_type": "code",
   "execution_count": 48,
   "metadata": {},
   "outputs": [
    {
     "name": "stdout",
     "output_type": "stream",
     "text": [
      "[[56.1063, 56.0676, 55.3417, 55.7966, 55.7772], [55.6847, 55.4794, 55.7629, 55.7336, 55.147], [87.6595, 89.5104, 89.99799999999999, 90.3662, 90.4657]]\n",
      "[[55.2159, 55.3611, 55.8063, 56.0192], [54.58, 55.0004, 54.492, 54.1401], [90.2766, 90.4259, 90.605, 90.7543]]\n",
      "[[56.02902018 55.98407708 56.0281861  56.03640665]\n",
      " [55.72515541 55.68253446 55.73518549 55.73348921]\n",
      " [90.19926461 89.89319041 88.97673176 90.10012106]]\n"
     ]
    }
   ],
   "source": [
    "three_instances_x = X_test[:3]\n",
    "three_instances_y = y_test[:3]\n",
    "print(three_instances_x)\n",
    "print(three_instances_y)\n",
    "\n",
    "three_predictions_y = model.predict(three_instances_x)\n",
    "print(three_predictions_y)"
   ]
  },
  {
   "cell_type": "markdown",
   "metadata": {},
   "source": [
    "#### Display 3 Instances"
   ]
  },
  {
   "cell_type": "code",
   "execution_count": 49,
   "metadata": {},
   "outputs": [
    {
     "name": "stdout",
     "output_type": "stream",
     "text": [
      "Instance 1 :\n",
      "\n",
      "Day  1 :\n",
      "Predicted:  56.02902017577302  Actual:  55.2159\n",
      "Day  2 :\n",
      "Predicted:  55.984077078396  Actual:  55.3611\n",
      "Day  3 :\n",
      "Predicted:  56.02818609809782  Actual:  55.8063\n",
      "Day  4 :\n",
      "Predicted:  56.036406647668535  Actual:  56.0192\n",
      "\n",
      "\n",
      "\n",
      "Instance 2 :\n",
      "\n",
      "Day  1 :\n",
      "Predicted:  55.725155405573815  Actual:  54.58\n",
      "Day  2 :\n",
      "Predicted:  55.682534461420694  Actual:  55.0004\n",
      "Day  3 :\n",
      "Predicted:  55.73518549421704  Actual:  54.492\n",
      "Day  4 :\n",
      "Predicted:  55.733489214032815  Actual:  54.1401\n",
      "\n",
      "\n",
      "\n",
      "Instance 3 :\n",
      "\n",
      "Day  1 :\n",
      "Predicted:  90.19926461317353  Actual:  90.2766\n",
      "Day  2 :\n",
      "Predicted:  89.89319041056886  Actual:  90.4259\n",
      "Day  3 :\n",
      "Predicted:  88.97673175657779  Actual:  90.605\n",
      "Day  4 :\n",
      "Predicted:  90.10012105884164  Actual:  90.7543\n",
      "\n",
      "\n",
      "\n"
     ]
    }
   ],
   "source": [
    "for idx, instance in enumerate(three_predictions_y):\n",
    "    print(\"Instance\", (str(idx+1)), \":\\n\")\n",
    "    for idx2, day in enumerate(instance):\n",
    "        print(\"Day \", (str(idx2+1)), \":\")\n",
    "        print(\"Predicted: \", day, \" Actual: \", three_instances_y[idx][idx2])\n",
    "    print(\"\\n\\n\")\n",
    "    "
   ]
  },
  {
   "cell_type": "markdown",
   "metadata": {},
   "source": [
    "#### Values are close due to the 99% score of the model"
   ]
  },
  {
   "cell_type": "markdown",
   "metadata": {},
   "source": [
    "# Task 3"
   ]
  },
  {
   "cell_type": "markdown",
   "metadata": {},
   "source": [
    "## Some context on the TfidVectorizer and text handing in sklearn\n",
    "\n",
    "* To represent a review to a neural network, each word has to be expressed as a number. \n",
    "\n",
    "* Each word in the review corpus is assigned a unique number. Assume the total number of unique words is feature_count. \n",
    "\n",
    "* Each review can then be represented as a vector of length feature_count. \n",
    "\n",
    "* Entries in this vector can be either 0 or 1, if the word is present in this review or absent respectively. \n",
    "\n",
    "* A more advanced approach will replace the binary numbers above with ratios that emphaise how rare ( and hence meanigful and representative ) the word is across all reviews. For example, a word like \"product\" will have little use for the neural network in determing whetehr this is a rating-1 or rating-5 review, as this particular word occurs in most reviews, both positive and negative ones. \n",
    "\n",
    "* Here we limit the number of feature_count to 40,000 to cut down the training time. \n",
    "\n",
    "more info available from \n",
    "http://scikit-learn.org/stable/tutorial/text_analytics/working_with_text_data.html\n",
    "http://scikit-learn.org/stable/modules/generated/sklearn.feature_extraction.text.TfidfVectorizer.html"
   ]
  },
  {
   "cell_type": "markdown",
   "metadata": {},
   "source": [
    "#### Read dataset and clean"
   ]
  },
  {
   "cell_type": "code",
   "execution_count": 50,
   "metadata": {},
   "outputs": [],
   "source": [
    "import pandas as pd\n",
    "\n",
    "reviews = pd.read_json('reviews_digital.json', lines=True)"
   ]
  },
  {
   "cell_type": "code",
   "execution_count": 3,
   "metadata": {},
   "outputs": [],
   "source": [
    "# reviews.loc[reviews['overall'] == 1, 'overall'] = 1\n",
    "# reviews.loc[reviews['overall'] == 2, 'overall'] = 1\n",
    "# reviews.loc[reviews['overall'] == 3, 'overall'] = 1\n",
    "# reviews.loc[reviews['overall'] == 4, 'overall'] = 5\n",
    "# reviews.loc[reviews['overall'] == 5, 'overall'] = 5\n",
    "\n",
    "# balanced_data = reviews"
   ]
  },
  {
   "cell_type": "code",
   "execution_count": 51,
   "metadata": {},
   "outputs": [
    {
     "name": "stdout",
     "output_type": "stream",
     "text": [
      "overall\n",
      "1     2791\n",
      "2     3010\n",
      "3     6789\n",
      "4    16536\n",
      "5    35580\n",
      "Name: asin, dtype: int64\n",
      "\n",
      "13500\n"
     ]
    }
   ],
   "source": [
    "print(reviews.groupby('overall').count()['asin'])\n",
    "print()\n",
    "frames = []\n",
    "\n",
    "for i in range(1,6):\n",
    "    frames.append(reviews[(reviews['overall'] == i)][:2700])\n",
    "\n",
    "balanced_data = pd.concat(frames)\n",
    "\n",
    "print(len(balanced_data))"
   ]
  },
  {
   "cell_type": "markdown",
   "metadata": {},
   "source": [
    "#### Split data"
   ]
  },
  {
   "cell_type": "code",
   "execution_count": 52,
   "metadata": {},
   "outputs": [],
   "source": [
    "from sklearn.model_selection import train_test_split\n",
    "import numpy as np\n",
    "import nltk\n",
    "from nltk.corpus import stopwords \n",
    "from nltk.tokenize import word_tokenize \n",
    "\n",
    "TESTING_PERCENTAGE = 0.2\n",
    "\n",
    "X_data = np.array(balanced_data['reviewText'])\n",
    "\n",
    "# stop_words = set(stopwords.words('english')) \n",
    "# X_data_new = []\n",
    "# for text in X_data:\n",
    "#     word_tokens = word_tokenize(text)\n",
    "#     filtered_sentence = [w for w in word_tokens if not w in stop_words]\n",
    "#     X_data_new.append(' '.join(filtered_sentence))\n",
    "  \n",
    "\n",
    "Y_data = np.array(balanced_data['overall'])\n",
    "\n",
    "\n",
    "X_train, X_test, y_train, y_test = train_test_split(X_data, Y_data, test_size=TESTING_PERCENTAGE)\n"
   ]
  },
  {
   "cell_type": "markdown",
   "metadata": {},
   "source": [
    "#### Calculate tfidf scores"
   ]
  },
  {
   "cell_type": "code",
   "execution_count": 53,
   "metadata": {},
   "outputs": [],
   "source": [
    "from sklearn.feature_extraction.text import TfidfTransformer\n",
    "from sklearn.feature_extraction.text import TfidfVectorizer\n",
    "\n",
    "#You need to define X_train and X_test\n",
    "tfidf_vectorizer = TfidfVectorizer(max_features=45000)\n",
    "X_train_transformed = tfidf_vectorizer.fit_transform(X_train)\n",
    "X_test_transformed = tfidf_vectorizer.transform(X_test)"
   ]
  },
  {
   "cell_type": "code",
   "execution_count": 54,
   "metadata": {},
   "outputs": [
    {
     "name": "stdout",
     "output_type": "stream",
     "text": [
      "Iteration 1, loss = 1.40389922\n",
      "Validation score: 0.593519\n",
      "Iteration 2, loss = 0.81421622\n",
      "Validation score: 0.626852\n",
      "Iteration 3, loss = 0.45754095\n",
      "Validation score: 0.625000\n",
      "Iteration 4, loss = 0.25781869\n",
      "Validation score: 0.630556\n",
      "Iteration 5, loss = 0.15354026\n",
      "Validation score: 0.621296\n",
      "Iteration 6, loss = 0.10225972\n",
      "Validation score: 0.619444\n",
      "Iteration 7, loss = 0.07601860\n",
      "Validation score: 0.603704\n",
      "Validation score did not improve more than tol=0.000100 for two consecutive epochs. Stopping.\n"
     ]
    },
    {
     "data": {
      "text/plain": [
       "MLPClassifier(activation='relu', alpha=0.001, batch_size='auto', beta_1=0.9,\n",
       "       beta_2=0.999, early_stopping=True, epsilon=1e-08,\n",
       "       hidden_layer_sizes=(512,), learning_rate='constant',\n",
       "       learning_rate_init=0.001, max_iter=200, momentum=0.9,\n",
       "       nesterovs_momentum=True, power_t=0.5, random_state=None,\n",
       "       shuffle=True, solver='adam', tol=0.0001, validation_fraction=0.1,\n",
       "       verbose=20, warm_start=False)"
      ]
     },
     "execution_count": 54,
     "metadata": {},
     "output_type": "execute_result"
    }
   ],
   "source": [
    "from sklearn.neural_network import MLPClassifier\n",
    "\n",
    "model = MLPClassifier(early_stopping=True, activation='relu', alpha=0.001, hidden_layer_sizes=(512,), solver='adam', verbose=20)\n",
    "\n",
    "model.fit(X_train_transformed, y_train)\n"
   ]
  },
  {
   "cell_type": "code",
   "execution_count": 55,
   "metadata": {},
   "outputs": [
    {
     "name": "stdout",
     "output_type": "stream",
     "text": [
      "0.6185185185185185\n"
     ]
    }
   ],
   "source": [
    "print(model.score(X_test_transformed, y_test))"
   ]
  },
  {
   "cell_type": "code",
   "execution_count": 56,
   "metadata": {},
   "outputs": [
    {
     "name": "stdout",
     "output_type": "stream",
     "text": [
      "[CV]  ................................................................\n",
      "Iteration 1, loss = 1.49341371\n",
      "Validation score: 0.544444\n",
      "Iteration 2, loss = 0.99361245\n",
      "Validation score: 0.572222\n",
      "Iteration 3, loss = 0.57851870\n",
      "Validation score: 0.587500\n",
      "Iteration 4, loss = 0.32500014\n",
      "Validation score: 0.583333\n",
      "Iteration 5, loss = 0.18831607\n",
      "Validation score: 0.575000\n",
      "Iteration 6, loss = 0.12005095\n",
      "Validation score: 0.573611\n",
      "Validation score did not improve more than tol=0.000100 for two consecutive epochs. Stopping.\n",
      "[CV] ....................... , score=0.6013325930038868, total= 2.0min\n"
     ]
    },
    {
     "name": "stderr",
     "output_type": "stream",
     "text": [
      "[Parallel(n_jobs=1)]: Done   1 out of   1 | elapsed:  2.0min remaining:    0.0s\n"
     ]
    },
    {
     "name": "stdout",
     "output_type": "stream",
     "text": [
      "[CV]  ................................................................\n",
      "Iteration 1, loss = 1.48367417\n",
      "Validation score: 0.540278\n",
      "Iteration 2, loss = 0.96780020\n",
      "Validation score: 0.552778\n",
      "Iteration 3, loss = 0.56460500\n",
      "Validation score: 0.558333\n",
      "Iteration 4, loss = 0.31865246\n",
      "Validation score: 0.568056\n",
      "Iteration 5, loss = 0.18626420\n",
      "Validation score: 0.563889\n",
      "Iteration 6, loss = 0.11827322\n",
      "Validation score: 0.558333\n",
      "Iteration 7, loss = 0.08317972\n",
      "Validation score: 0.561111\n",
      "Validation score did not improve more than tol=0.000100 for two consecutive epochs. Stopping.\n",
      "[CV] ....................... , score=0.6011111111111112, total= 2.3min\n",
      "[CV]  ................................................................\n"
     ]
    },
    {
     "name": "stderr",
     "output_type": "stream",
     "text": [
      "[Parallel(n_jobs=1)]: Done   2 out of   2 | elapsed:  4.3min remaining:    0.0s\n"
     ]
    },
    {
     "name": "stdout",
     "output_type": "stream",
     "text": [
      "Iteration 1, loss = 1.49309255\n",
      "Validation score: 0.579750\n",
      "Iteration 2, loss = 0.99480978\n",
      "Validation score: 0.603329\n",
      "Iteration 3, loss = 0.59129274\n",
      "Validation score: 0.606103\n",
      "Iteration 4, loss = 0.33785802\n",
      "Validation score: 0.610264\n",
      "Iteration 5, loss = 0.19726409\n",
      "Validation score: 0.596394\n",
      "Iteration 6, loss = 0.12501179\n",
      "Validation score: 0.603329\n",
      "Iteration 7, loss = 0.08794290\n",
      "Validation score: 0.601942\n",
      "Validation score did not improve more than tol=0.000100 for two consecutive epochs. Stopping.\n",
      "[CV] ....................... , score=0.5928293496386882, total= 2.3min\n"
     ]
    },
    {
     "name": "stderr",
     "output_type": "stream",
     "text": [
      "[Parallel(n_jobs=1)]: Done   3 out of   3 | elapsed:  6.6min remaining:    0.0s\n",
      "[Parallel(n_jobs=1)]: Done   3 out of   3 | elapsed:  6.6min finished\n"
     ]
    }
   ],
   "source": [
    "from sklearn import model_selection\n",
    "\n",
    "# Since this is a classification problem then accuracy can be used\n",
    "scoring = 'accuracy'\n",
    "results = model_selection.cross_val_score(model, X_train_transformed, y_train, cv=3, scoring=scoring, verbose=20)"
   ]
  },
  {
   "cell_type": "code",
   "execution_count": 57,
   "metadata": {},
   "outputs": [
    {
     "name": "stdout",
     "output_type": "stream",
     "text": [
      "Accuracy: 0.5984243512512287\n",
      "Standard Deviation: 0.003957296706966779\n"
     ]
    }
   ],
   "source": [
    "print(\"Accuracy:\", results.mean())\n",
    "print(\"Standard Deviation:\", results.std())"
   ]
  },
  {
   "cell_type": "markdown",
   "metadata": {},
   "source": [
    "##### Trying 2 or 1 hidden layers"
   ]
  },
  {
   "cell_type": "code",
   "execution_count": 61,
   "metadata": {},
   "outputs": [
    {
     "name": "stdout",
     "output_type": "stream",
     "text": [
      "Fitting 3 folds for each of 2 candidates, totalling 6 fits\n",
      "[CV] activation=relu, alpha=0.01, early_stopping=True, hidden_layer_sizes=(512, 512), solver=adam \n",
      "Iteration 1, loss = 1.41537034\n",
      "Validation score: 0.550000\n",
      "Iteration 2, loss = 0.66286980\n",
      "Validation score: 0.648611\n",
      "Iteration 3, loss = 0.23295364\n",
      "Validation score: 0.619444\n",
      "Iteration 4, loss = 0.10017237\n",
      "Validation score: 0.609722\n",
      "Iteration 5, loss = 0.07216896\n",
      "Validation score: 0.609722\n",
      "Validation score did not improve more than tol=0.000100 for two consecutive epochs. Stopping.\n",
      "[CV]  activation=relu, alpha=0.01, early_stopping=True, hidden_layer_sizes=(512, 512), solver=adam, score=0.5907828983897835, total= 1.7min\n",
      "[CV] activation=relu, alpha=0.01, early_stopping=True, hidden_layer_sizes=(512, 512), solver=adam \n"
     ]
    },
    {
     "name": "stderr",
     "output_type": "stream",
     "text": [
      "[Parallel(n_jobs=1)]: Done   1 out of   1 | elapsed:  1.7min remaining:    0.0s\n"
     ]
    },
    {
     "name": "stdout",
     "output_type": "stream",
     "text": [
      "Iteration 1, loss = 1.42406351\n",
      "Validation score: 0.573611\n",
      "Iteration 2, loss = 0.66289352\n",
      "Validation score: 0.616667\n",
      "Iteration 3, loss = 0.23946757\n",
      "Validation score: 0.602778\n",
      "Iteration 4, loss = 0.10339561\n",
      "Validation score: 0.586111\n",
      "Iteration 5, loss = 0.07439467\n",
      "Validation score: 0.583333\n",
      "Validation score did not improve more than tol=0.000100 for two consecutive epochs. Stopping.\n",
      "[CV]  activation=relu, alpha=0.01, early_stopping=True, hidden_layer_sizes=(512, 512), solver=adam, score=0.5925, total= 1.8min\n",
      "[CV] activation=relu, alpha=0.01, early_stopping=True, hidden_layer_sizes=(512, 512), solver=adam \n"
     ]
    },
    {
     "name": "stderr",
     "output_type": "stream",
     "text": [
      "[Parallel(n_jobs=1)]: Done   2 out of   2 | elapsed:  3.5min remaining:    0.0s\n"
     ]
    },
    {
     "name": "stdout",
     "output_type": "stream",
     "text": [
      "Iteration 1, loss = 1.40855826\n",
      "Validation score: 0.556172\n",
      "Iteration 2, loss = 0.67811471\n",
      "Validation score: 0.590846\n",
      "Iteration 3, loss = 0.25672600\n",
      "Validation score: 0.592233\n",
      "Iteration 4, loss = 0.11087798\n",
      "Validation score: 0.595007\n",
      "Iteration 5, loss = 0.07650946\n",
      "Validation score: 0.581137\n",
      "Iteration 6, loss = 0.06563774\n",
      "Validation score: 0.579750\n",
      "Iteration 7, loss = 0.05890552\n",
      "Validation score: 0.589459\n",
      "Validation score did not improve more than tol=0.000100 for two consecutive epochs. Stopping.\n",
      "[CV]  activation=relu, alpha=0.01, early_stopping=True, hidden_layer_sizes=(512, 512), solver=adam, score=0.5778210116731517, total= 2.5min\n",
      "[CV] activation=relu, alpha=0.01, early_stopping=True, hidden_layer_sizes=(512,), solver=adam \n"
     ]
    },
    {
     "name": "stderr",
     "output_type": "stream",
     "text": [
      "[Parallel(n_jobs=1)]: Done   3 out of   3 | elapsed:  6.0min remaining:    0.0s\n"
     ]
    },
    {
     "name": "stdout",
     "output_type": "stream",
     "text": [
      "Iteration 1, loss = 1.50626534\n",
      "Validation score: 0.556944\n",
      "Iteration 2, loss = 1.03643749\n",
      "Validation score: 0.575000\n",
      "Iteration 3, loss = 0.67189623\n",
      "Validation score: 0.579167\n",
      "Iteration 4, loss = 0.45199304\n",
      "Validation score: 0.581944\n",
      "Iteration 5, loss = 0.32726002\n",
      "Validation score: 0.573611\n",
      "Iteration 6, loss = 0.25917963\n",
      "Validation score: 0.573611\n",
      "Iteration 7, loss = 0.21864504\n",
      "Validation score: 0.569444\n",
      "Validation score did not improve more than tol=0.000100 for two consecutive epochs. Stopping.\n",
      "[CV]  activation=relu, alpha=0.01, early_stopping=True, hidden_layer_sizes=(512,), solver=adam, score=0.5968906163242643, total= 2.5min\n",
      "[CV] activation=relu, alpha=0.01, early_stopping=True, hidden_layer_sizes=(512,), solver=adam \n"
     ]
    },
    {
     "name": "stderr",
     "output_type": "stream",
     "text": [
      "[Parallel(n_jobs=1)]: Done   4 out of   4 | elapsed:  8.5min remaining:    0.0s\n"
     ]
    },
    {
     "name": "stdout",
     "output_type": "stream",
     "text": [
      "Iteration 1, loss = 1.49444906\n",
      "Validation score: 0.547222\n",
      "Iteration 2, loss = 1.00885102\n",
      "Validation score: 0.537500\n",
      "Iteration 3, loss = 0.65427540\n",
      "Validation score: 0.593056\n",
      "Iteration 4, loss = 0.44209593\n",
      "Validation score: 0.594444\n",
      "Iteration 5, loss = 0.32144294\n",
      "Validation score: 0.584722\n",
      "Iteration 6, loss = 0.25426683\n",
      "Validation score: 0.586111\n",
      "Iteration 7, loss = 0.21568753\n",
      "Validation score: 0.566667\n",
      "Validation score did not improve more than tol=0.000100 for two consecutive epochs. Stopping.\n",
      "[CV]  activation=relu, alpha=0.01, early_stopping=True, hidden_layer_sizes=(512,), solver=adam, score=0.6, total= 2.5min\n",
      "[CV] activation=relu, alpha=0.01, early_stopping=True, hidden_layer_sizes=(512,), solver=adam \n"
     ]
    },
    {
     "name": "stderr",
     "output_type": "stream",
     "text": [
      "[Parallel(n_jobs=1)]: Done   5 out of   5 | elapsed: 11.0min remaining:    0.0s\n"
     ]
    },
    {
     "name": "stdout",
     "output_type": "stream",
     "text": [
      "Iteration 1, loss = 1.49954506\n",
      "Validation score: 0.554785\n",
      "Iteration 2, loss = 1.02269029\n",
      "Validation score: 0.588072\n",
      "Iteration 3, loss = 0.66029255\n",
      "Validation score: 0.592233\n",
      "Iteration 4, loss = 0.44301408\n",
      "Validation score: 0.581137\n",
      "Iteration 5, loss = 0.32155080\n",
      "Validation score: 0.575589\n",
      "Iteration 6, loss = 0.25382864\n",
      "Validation score: 0.565881\n",
      "Validation score did not improve more than tol=0.000100 for two consecutive epochs. Stopping.\n",
      "[CV]  activation=relu, alpha=0.01, early_stopping=True, hidden_layer_sizes=(512,), solver=adam, score=0.6089494163424124, total= 2.1min\n"
     ]
    },
    {
     "name": "stderr",
     "output_type": "stream",
     "text": [
      "[Parallel(n_jobs=1)]: Done   6 out of   6 | elapsed: 13.1min remaining:    0.0s\n",
      "[Parallel(n_jobs=1)]: Done   6 out of   6 | elapsed: 13.1min finished\n"
     ]
    },
    {
     "name": "stdout",
     "output_type": "stream",
     "text": [
      "Iteration 1, loss = 1.42514045\n",
      "Validation score: 0.580556\n",
      "Iteration 2, loss = 0.89291472\n",
      "Validation score: 0.603704\n",
      "Iteration 3, loss = 0.58854469\n",
      "Validation score: 0.613889\n",
      "Iteration 4, loss = 0.41398080\n",
      "Validation score: 0.605556\n",
      "Iteration 5, loss = 0.31529266\n",
      "Validation score: 0.594444\n",
      "Iteration 6, loss = 0.26063472\n",
      "Validation score: 0.594444\n",
      "Validation score did not improve more than tol=0.000100 for two consecutive epochs. Stopping.\n"
     ]
    },
    {
     "data": {
      "text/plain": [
       "GridSearchCV(cv=None, error_score='raise',\n",
       "       estimator=MLPClassifier(activation='relu', alpha=0.001, batch_size='auto', beta_1=0.9,\n",
       "       beta_2=0.999, early_stopping=True, epsilon=1e-08,\n",
       "       hidden_layer_sizes=(512,), learning_rate='constant',\n",
       "       learning_rate_init=0.001, max_iter=200, momentum=0.9,\n",
       "       nesterovs_momentum=True, power_t=0.5, random_state=None,\n",
       "       shuffle=True, solver='adam', tol=0.0001, validation_fraction=0.1,\n",
       "       verbose=20, warm_start=False),\n",
       "       fit_params=None, iid=True, n_jobs=1,\n",
       "       param_grid={'solver': ['adam'], 'activation': ['relu'], 'hidden_layer_sizes': [(512, 512), (512,)], 'alpha': [0.01], 'early_stopping': [True]},\n",
       "       pre_dispatch='2*n_jobs', refit=True, return_train_score='warn',\n",
       "       scoring='accuracy', verbose=20)"
      ]
     },
     "execution_count": 61,
     "metadata": {},
     "output_type": "execute_result"
    }
   ],
   "source": [
    "from sklearn.model_selection import GridSearchCV\n",
    "\n",
    "param_grid = {\n",
    "    'solver': ['adam'],\n",
    "    'activation': ['relu'],\n",
    "    'hidden_layer_sizes': [(512, 512), (512,)],\n",
    "    'alpha': [0.01],\n",
    "    'early_stopping': [True]\n",
    "}\n",
    "\n",
    "grid_search = GridSearchCV(model, param_grid=param_grid, verbose=20, scoring=scoring)\n",
    "\n",
    "grid_search.fit(X_train_transformed, y_train)"
   ]
  },
  {
   "cell_type": "code",
   "execution_count": 62,
   "metadata": {},
   "outputs": [
    {
     "name": "stdout",
     "output_type": "stream",
     "text": [
      "{'activation': 'relu', 'alpha': 0.01, 'early_stopping': True, 'hidden_layer_sizes': (512,), 'solver': 'adam'}\n"
     ]
    }
   ],
   "source": [
    "print(grid_search.best_params_)"
   ]
  },
  {
   "cell_type": "markdown",
   "metadata": {},
   "source": [
    "#### Try 3 hidden layers"
   ]
  },
  {
   "cell_type": "code",
   "execution_count": 64,
   "metadata": {},
   "outputs": [
    {
     "name": "stdout",
     "output_type": "stream",
     "text": [
      "Iteration 1, loss = 1.26137762\n",
      "Validation score: 0.547222\n",
      "Iteration 2, loss = 0.55693519\n",
      "Validation score: 0.599074\n",
      "Iteration 3, loss = 0.16746110\n",
      "Validation score: 0.587963\n",
      "Iteration 4, loss = 0.03514302\n",
      "Validation score: 0.574074\n",
      "Iteration 5, loss = 0.01506884\n",
      "Validation score: 0.572222\n",
      "Validation score did not improve more than tol=0.000100 for two consecutive epochs. Stopping.\n",
      "0.6044444444444445\n"
     ]
    }
   ],
   "source": [
    "model_3 = MLPClassifier(early_stopping=True, activation='relu', alpha=0.001, hidden_layer_sizes=(512, 512, 512), solver='adam', verbose=20)\n",
    "model_3.fit(X_train_transformed, y_train)\n",
    "print(model_3.score(X_test_transformed, y_test))"
   ]
  },
  {
   "cell_type": "markdown",
   "metadata": {},
   "source": [
    "1 hidden layer is enough"
   ]
  },
  {
   "cell_type": "markdown",
   "metadata": {},
   "source": [
    "#### Confusion Matrix"
   ]
  },
  {
   "cell_type": "code",
   "execution_count": 58,
   "metadata": {},
   "outputs": [
    {
     "name": "stdout",
     "output_type": "stream",
     "text": [
      "Confusion matrix, without normalization\n",
      "[[347 138  27   9  17]\n",
      " [103 285 121  17  13]\n",
      " [ 17  82 307  86  38]\n",
      " [  9  23 110 304  86]\n",
      " [ 11   8  30  85 427]]\n",
      "Normalized confusion matrix\n",
      "[[0.64 0.26 0.05 0.02 0.03]\n",
      " [0.19 0.53 0.22 0.03 0.02]\n",
      " [0.03 0.15 0.58 0.16 0.07]\n",
      " [0.02 0.04 0.21 0.57 0.16]\n",
      " [0.02 0.01 0.05 0.15 0.76]]\n"
     ]
    },
    {
     "data": {
      "image/png": "[encoded data removed]",
      "text/plain": [
       "<Figure size 432x288 with 2 Axes>"
      ]
     },
     "metadata": {
      "needs_background": "light"
     },
     "output_type": "display_data"
    },
    {
     "data": {
      "image/png": "[encoded data removed]",
      "text/plain": [
       "<Figure size 432x288 with 2 Axes>"
      ]
     },
     "metadata": {
      "needs_background": "light"
     },
     "output_type": "display_data"
    }
   ],
   "source": [
    "from sklearn.metrics import confusion_matrix\n",
    "import itertools\n",
    "classes = [1, 2, 3, 4, 5]\n",
    "y_pred = model.predict(X_test_transformed)\n",
    "def plot_confusion_matrix(cm, classes,\n",
    "                          normalize=False,\n",
    "                          title='Confusion matrix',\n",
    "                          cmap=plt.cm.Blues):\n",
    "    \"\"\"\n",
    "    This function prints and plots the confusion matrix.\n",
    "    Normalization can be applied by setting `normalize=True`.\n",
    "    \"\"\"\n",
    "    if normalize:\n",
    "        cm = cm.astype('float') / cm.sum(axis=1)[:, np.newaxis]\n",
    "        print(\"Normalized confusion matrix\")\n",
    "    else:\n",
    "        print('Confusion matrix, without normalization')\n",
    "\n",
    "    print(cm)\n",
    "\n",
    "    plt.imshow(cm, interpolation='nearest', cmap=cmap)\n",
    "    plt.title(title)\n",
    "    plt.colorbar()\n",
    "    tick_marks = np.arange(len(classes))\n",
    "    plt.xticks(tick_marks, classes, rotation=45)\n",
    "    plt.yticks(tick_marks, classes)\n",
    "\n",
    "    fmt = '.2f' if normalize else 'd'\n",
    "    thresh = cm.max() / 2.\n",
    "    for i, j in itertools.product(range(cm.shape[0]), range(cm.shape[1])):\n",
    "        plt.text(j, i, format(cm[i, j], fmt),\n",
    "                 horizontalalignment=\"center\",\n",
    "                 color=\"white\" if cm[i, j] > thresh else \"black\")\n",
    "\n",
    "    plt.ylabel('True label')\n",
    "    plt.xlabel('Predicted label')\n",
    "    plt.tight_layout()\n",
    "    # end of the function\n",
    "\n",
    "\n",
    "# Compute confusion matrix\n",
    "cnf_matrix = confusion_matrix(y_test, y_pred)\n",
    "np.set_printoptions(precision=2)\n",
    "\n",
    "# Plot non-normalized confusion matrix\n",
    "plt.figure()\n",
    "plot_confusion_matrix(cnf_matrix, classes=classes,\n",
    "                      title='Confusion matrix, without normalization')\n",
    "\n",
    "# Plot normalized confusion matrix\n",
    "plt.figure()\n",
    "plot_confusion_matrix(cnf_matrix, classes=classes, normalize=True,\n",
    "                      title='Normalized confusion matrix')\n",
    "\n",
    "plt.show()"
   ]
  },
  {
   "cell_type": "markdown",
   "metadata": {},
   "source": [
    "#### 8) What is the activation function used at the output layer? Did you have to select this function yourself? How does SKLearn determines it?"
   ]
  },
  {
   "cell_type": "markdown",
   "metadata": {},
   "source": [
    "SKlearn uses **softmax** at the output layer (we did not have to specify this),\n",
    "which relates the multiple *y* output values and then selects the maximum weight."
   ]
  }
 ],
 "metadata": {
  "kernelspec": {
   "display_name": "Python 3",
   "language": "python",
   "name": "python3"
  },
  "language_info": {
   "codemirror_mode": {
    "name": "ipython",
    "version": 3
   },
   "file_extension": ".py",
   "mimetype": "text/x-python",
   "name": "python",
   "nbconvert_exporter": "python",
   "pygments_lexer": "ipython3",
   "version": "3.7.0"
  }
 },
 "nbformat": 4,
 "nbformat_minor": 2
}
